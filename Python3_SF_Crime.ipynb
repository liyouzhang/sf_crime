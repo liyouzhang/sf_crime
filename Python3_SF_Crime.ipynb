{
 "cells": [
  {
   "cell_type": "code",
   "execution_count": 290,
   "metadata": {},
   "outputs": [],
   "source": [
    "import uszipcode"
   ]
  },
  {
   "cell_type": "code",
   "execution_count": 161,
   "metadata": {},
   "outputs": [
    {
     "name": "stdout",
     "output_type": "stream",
     "text": [
      "Populating the interactive namespace from numpy and matplotlib\n"
     ]
    },
    {
     "name": "stderr",
     "output_type": "stream",
     "text": [
      "/Users/Liyou/opt/anaconda3/lib/python3.7/site-packages/IPython/core/magics/pylab.py:160: UserWarning: pylab import has clobbered these variables: ['figure', 'plt', 'time']\n",
      "`%matplotlib` prevents importing * from pylab and numpy\n",
      "  \"\\n`%matplotlib` prevents importing * from pylab and numpy\"\n"
     ]
    }
   ],
   "source": [
    "import numpy as np\n",
    "\n",
    "import pandas as pd\n",
    "\n",
    "import matplotlib as plt\n",
    "plt.style.use('ggplot')\n",
    "%pylab inline"
   ]
  },
  {
   "cell_type": "code",
   "execution_count": 2,
   "metadata": {},
   "outputs": [],
   "source": [
    "from sklearn.preprocessing import StandardScaler"
   ]
  },
  {
   "cell_type": "code",
   "execution_count": 3,
   "metadata": {},
   "outputs": [],
   "source": [
    "import seaborn as sns"
   ]
  },
  {
   "cell_type": "markdown",
   "metadata": {},
   "source": [
    "# Call data EDA"
   ]
  },
  {
   "cell_type": "code",
   "execution_count": 4,
   "metadata": {},
   "outputs": [
    {
     "data": {
      "text/html": [
       "<div>\n",
       "<style scoped>\n",
       "    .dataframe tbody tr th:only-of-type {\n",
       "        vertical-align: middle;\n",
       "    }\n",
       "\n",
       "    .dataframe tbody tr th {\n",
       "        vertical-align: top;\n",
       "    }\n",
       "\n",
       "    .dataframe thead th {\n",
       "        text-align: right;\n",
       "    }\n",
       "</style>\n",
       "<table border=\"1\" class=\"dataframe\">\n",
       "  <thead>\n",
       "    <tr style=\"text-align: right;\">\n",
       "      <th></th>\n",
       "      <th>Crime Id</th>\n",
       "      <th>Original Crime Type Name</th>\n",
       "      <th>Report Date</th>\n",
       "      <th>Call Date</th>\n",
       "      <th>Offense Date</th>\n",
       "      <th>Call Time</th>\n",
       "      <th>Call Date Time</th>\n",
       "      <th>Disposition</th>\n",
       "      <th>Address</th>\n",
       "      <th>City</th>\n",
       "      <th>State</th>\n",
       "      <th>Agency Id</th>\n",
       "      <th>Address Type</th>\n",
       "      <th>Common Location</th>\n",
       "    </tr>\n",
       "  </thead>\n",
       "  <tbody>\n",
       "    <tr>\n",
       "      <th>0</th>\n",
       "      <td>193274171</td>\n",
       "      <td>Passing Call</td>\n",
       "      <td>2019-11-23</td>\n",
       "      <td>2019-11-23</td>\n",
       "      <td>2019-11-23</td>\n",
       "      <td>23:54</td>\n",
       "      <td>2019-11-23 23:54:00</td>\n",
       "      <td>HAN</td>\n",
       "      <td>1000 Block Of Larkin St</td>\n",
       "      <td>San Francisco</td>\n",
       "      <td>CA</td>\n",
       "      <td>1</td>\n",
       "      <td>Premise Address</td>\n",
       "      <td>NaN</td>\n",
       "    </tr>\n",
       "    <tr>\n",
       "      <th>1</th>\n",
       "      <td>193274162</td>\n",
       "      <td>Fight No Weapon</td>\n",
       "      <td>2019-11-23</td>\n",
       "      <td>2019-11-23</td>\n",
       "      <td>2019-11-23</td>\n",
       "      <td>23:45</td>\n",
       "      <td>2019-11-23 23:45:00</td>\n",
       "      <td>CAN</td>\n",
       "      <td>100 Block Of Ocean Av</td>\n",
       "      <td>San Francisco</td>\n",
       "      <td>CA</td>\n",
       "      <td>1</td>\n",
       "      <td>Premise Address</td>\n",
       "      <td>NaN</td>\n",
       "    </tr>\n",
       "    <tr>\n",
       "      <th>2</th>\n",
       "      <td>193274160</td>\n",
       "      <td>Passing Call</td>\n",
       "      <td>2019-11-23</td>\n",
       "      <td>2019-11-23</td>\n",
       "      <td>2019-11-23</td>\n",
       "      <td>23:51</td>\n",
       "      <td>2019-11-23 23:51:00</td>\n",
       "      <td>HAN</td>\n",
       "      <td>400 Block Of Duboce Av</td>\n",
       "      <td>San Francisco</td>\n",
       "      <td>CA</td>\n",
       "      <td>1</td>\n",
       "      <td>Premise Address</td>\n",
       "      <td>NaN</td>\n",
       "    </tr>\n",
       "    <tr>\n",
       "      <th>3</th>\n",
       "      <td>193274158</td>\n",
       "      <td>Well Being Check</td>\n",
       "      <td>2019-11-23</td>\n",
       "      <td>2019-11-23</td>\n",
       "      <td>2019-11-23</td>\n",
       "      <td>23:50</td>\n",
       "      <td>2019-11-23 23:50:00</td>\n",
       "      <td>HAN</td>\n",
       "      <td>King St/4th St</td>\n",
       "      <td>San Francisco</td>\n",
       "      <td>CA</td>\n",
       "      <td>1</td>\n",
       "      <td>Intersection</td>\n",
       "      <td>NaN</td>\n",
       "    </tr>\n",
       "    <tr>\n",
       "      <th>4</th>\n",
       "      <td>193274157</td>\n",
       "      <td>Passing Call</td>\n",
       "      <td>2019-11-23</td>\n",
       "      <td>2019-11-23</td>\n",
       "      <td>2019-11-23</td>\n",
       "      <td>23:50</td>\n",
       "      <td>2019-11-23 23:50:00</td>\n",
       "      <td>HAN</td>\n",
       "      <td>100 Block Of Scott St</td>\n",
       "      <td>San Francisco</td>\n",
       "      <td>CA</td>\n",
       "      <td>1</td>\n",
       "      <td>Common Location</td>\n",
       "      <td>Duboce Park, Sf</td>\n",
       "    </tr>\n",
       "  </tbody>\n",
       "</table>\n",
       "</div>"
      ],
      "text/plain": [
       "    Crime Id Original Crime Type Name Report Date  Call Date Offense Date  \\\n",
       "0  193274171             Passing Call  2019-11-23 2019-11-23   2019-11-23   \n",
       "1  193274162          Fight No Weapon  2019-11-23 2019-11-23   2019-11-23   \n",
       "2  193274160             Passing Call  2019-11-23 2019-11-23   2019-11-23   \n",
       "3  193274158         Well Being Check  2019-11-23 2019-11-23   2019-11-23   \n",
       "4  193274157             Passing Call  2019-11-23 2019-11-23   2019-11-23   \n",
       "\n",
       "  Call Time      Call Date Time Disposition                  Address  \\\n",
       "0     23:54 2019-11-23 23:54:00         HAN  1000 Block Of Larkin St   \n",
       "1     23:45 2019-11-23 23:45:00         CAN    100 Block Of Ocean Av   \n",
       "2     23:51 2019-11-23 23:51:00         HAN   400 Block Of Duboce Av   \n",
       "3     23:50 2019-11-23 23:50:00         HAN           King St/4th St   \n",
       "4     23:50 2019-11-23 23:50:00         HAN    100 Block Of Scott St   \n",
       "\n",
       "            City State  Agency Id     Address Type  Common Location  \n",
       "0  San Francisco    CA          1  Premise Address              NaN  \n",
       "1  San Francisco    CA          1  Premise Address              NaN  \n",
       "2  San Francisco    CA          1  Premise Address              NaN  \n",
       "3  San Francisco    CA          1     Intersection              NaN  \n",
       "4  San Francisco    CA          1  Common Location  Duboce Park, Sf  "
      ]
     },
     "execution_count": 4,
     "metadata": {},
     "output_type": "execute_result"
    }
   ],
   "source": [
    "calls = pd.read_csv(\"police-department-calls-for-service.csv\",parse_dates = ['Report Date','Call Date','Offense Date','Call Date Time'])\n",
    "calls.columns = [col.strip() for col in calls.columns] \n",
    "calls.head()"
   ]
  },
  {
   "cell_type": "code",
   "execution_count": 5,
   "metadata": {},
   "outputs": [
    {
     "data": {
      "text/plain": [
       "(3035330, 14)"
      ]
     },
     "execution_count": 5,
     "metadata": {},
     "output_type": "execute_result"
    }
   ],
   "source": [
    "calls.shape"
   ]
  },
  {
   "cell_type": "code",
   "execution_count": 6,
   "metadata": {},
   "outputs": [
    {
     "data": {
      "text/plain": [
       "Crime Id                    0.000000\n",
       "Original Crime Type Name    0.000000\n",
       "Report Date                 0.000000\n",
       "Call Date                   0.000000\n",
       "Offense Date                0.000000\n",
       "Call Time                   0.000000\n",
       "Call Date Time              0.000000\n",
       "Disposition                 0.000000\n",
       "Address                     0.000000\n",
       "City                        0.024874\n",
       "State                       0.000000\n",
       "Agency Id                   0.000000\n",
       "Address Type                0.000000\n",
       "Common Location             0.892429\n",
       "dtype: float64"
      ]
     },
     "execution_count": 6,
     "metadata": {},
     "output_type": "execute_result"
    }
   ],
   "source": [
    "# Only City and Common Location have null values\n",
    "1.0 * calls.isnull().sum()/calls.shape[0]"
   ]
  },
  {
   "cell_type": "code",
   "execution_count": 7,
   "metadata": {},
   "outputs": [
    {
     "name": "stdout",
     "output_type": "stream",
     "text": [
      "2019-11-23 00:00:00\n",
      "2016-03-30 00:00:00\n"
     ]
    }
   ],
   "source": [
    "print (calls['Call Date'].max())\n",
    "print (calls['Call Date'].min())"
   ]
  },
  {
   "cell_type": "code",
   "execution_count": 8,
   "metadata": {},
   "outputs": [
    {
     "data": {
      "text/plain": [
       "Passing Call           14.757176\n",
       "Traffic Stop            9.375323\n",
       "Suspicious Person       4.989573\n",
       "Homeless Complaint      4.689869\n",
       "22500e                  3.432806\n",
       "                         ...    \n",
       "211/245 Vict            0.000033\n",
       "Stolen Credit Card      0.000033\n",
       "77.2.46                 0.000033\n",
       "Report/ 901 For 909     0.000033\n",
       "Phys - Family           0.000033\n",
       "Name: Original Crime Type Name, Length: 22272, dtype: float64"
      ]
     },
     "execution_count": 8,
     "metadata": {},
     "output_type": "execute_result"
    }
   ],
   "source": [
    "calls['Original Crime Type Name'].value_counts(1)*100"
   ]
  },
  {
   "cell_type": "code",
   "execution_count": 9,
   "metadata": {},
   "outputs": [
    {
     "data": {
      "text/plain": [
       "33.81194137046054"
      ]
     },
     "execution_count": 9,
     "metadata": {},
     "output_type": "execute_result"
    }
   ],
   "source": [
    "calls['Original Crime Type Name'].value_counts(1)[:4].sum()*100"
   ]
  },
  {
   "cell_type": "code",
   "execution_count": 10,
   "metadata": {},
   "outputs": [
    {
     "data": {
      "text/plain": [
       "79.22637736259318"
      ]
     },
     "execution_count": 10,
     "metadata": {},
     "output_type": "execute_result"
    }
   ],
   "source": [
    "(calls['Disposition'].value_counts(1)[:6]*100).sum()"
   ]
  },
  {
   "cell_type": "code",
   "execution_count": 11,
   "metadata": {},
   "outputs": [
    {
     "data": {
      "text/plain": [
       "HAN             0.282365\n",
       "GOA             0.129401\n",
       "CIT             0.116138\n",
       "ADV             0.103047\n",
       "REP             0.080765\n",
       "Not recorded    0.080547\n",
       "Name: Disposition, dtype: float64"
      ]
     },
     "execution_count": 11,
     "metadata": {},
     "output_type": "execute_result"
    }
   ],
   "source": [
    "calls['Disposition'].value_counts(1)[:6]"
   ]
  },
  {
   "cell_type": "code",
   "execution_count": 12,
   "metadata": {},
   "outputs": [
    {
     "data": {
      "text/plain": [
       "San Francisco    99.113158\n",
       "Treasure Isla     0.678215\n",
       "Yerba Buena       0.095715\n",
       "Daly City         0.047976\n",
       "Hunters Point     0.030644\n",
       "Presidio          0.029563\n",
       "Fort Mason        0.003007\n",
       "Brisbane          0.001723\n",
       "Name: City, dtype: float64"
      ]
     },
     "execution_count": 12,
     "metadata": {},
     "output_type": "execute_result"
    }
   ],
   "source": [
    "calls['City'].value_counts(1)*100"
   ]
  },
  {
   "cell_type": "code",
   "execution_count": 13,
   "metadata": {},
   "outputs": [
    {
     "data": {
      "text/plain": [
       "CA    3035330\n",
       "Name: State, dtype: int64"
      ]
     },
     "execution_count": 13,
     "metadata": {},
     "output_type": "execute_result"
    }
   ],
   "source": [
    "calls['State'].value_counts()"
   ]
  },
  {
   "cell_type": "code",
   "execution_count": 14,
   "metadata": {},
   "outputs": [
    {
     "data": {
      "text/plain": [
       "1    3035330\n",
       "Name: Agency Id, dtype: int64"
      ]
     },
     "execution_count": 14,
     "metadata": {},
     "output_type": "execute_result"
    }
   ],
   "source": [
    "calls['Agency Id'].value_counts()"
   ]
  },
  {
   "cell_type": "code",
   "execution_count": 15,
   "metadata": {},
   "outputs": [
    {
     "data": {
      "text/plain": [
       "Premise Address    50.592028\n",
       "Intersection       34.250609\n",
       "Common Location    10.757150\n",
       "Geo-Override        4.400213\n",
       "Name: Address Type, dtype: float64"
      ]
     },
     "execution_count": 15,
     "metadata": {},
     "output_type": "execute_result"
    }
   ],
   "source": [
    "calls['Address Type'].value_counts(1)*100"
   ]
  },
  {
   "cell_type": "code",
   "execution_count": 16,
   "metadata": {},
   "outputs": [
    {
     "data": {
      "text/plain": [
       "0.8924285003607515"
      ]
     },
     "execution_count": 16,
     "metadata": {},
     "output_type": "execute_result"
    }
   ],
   "source": [
    "sum(calls['Common Location'].isnull())*1.0/calls.shape[0]"
   ]
  },
  {
   "cell_type": "code",
   "execution_count": 17,
   "metadata": {},
   "outputs": [
    {
     "data": {
      "text/plain": [
       "Un Pz, Sf                                   3.344104\n",
       "Haight St Corridor                          2.349969\n",
       "Twin Peaks Viewpoint, Sf                    1.940493\n",
       "Powell St Muni, Sf                          1.768372\n",
       "One Hallidie Pz, Sf                         1.601152\n",
       "                                              ...   \n",
       "Stockton Tunnel #South, Sf                  0.000306\n",
       "Marriott Marquis Hotel-Moscone Ctr #Til,    0.000306\n",
       "Hartland Hotel Sro #609, Sf                 0.000306\n",
       "City Hall #400, Sf                          0.000306\n",
       "Cpmc - Van Ness (Cpv) #360, Sf              0.000306\n",
       "Name: Common Location, Length: 9154, dtype: float64"
      ]
     },
     "execution_count": 17,
     "metadata": {},
     "output_type": "execute_result"
    }
   ],
   "source": [
    "# the remaining 11% of data that has values, it is still very fragamented\n",
    "calls['Common Location'].value_counts(1)*100"
   ]
  },
  {
   "cell_type": "code",
   "execution_count": 18,
   "metadata": {},
   "outputs": [],
   "source": [
    "calls['call_hour'] = calls['Call Time'].apply(lambda x: int(x[:2]))"
   ]
  },
  {
   "cell_type": "code",
   "execution_count": 19,
   "metadata": {},
   "outputs": [
    {
     "data": {
      "text/plain": [
       "17    0.067850\n",
       "16    0.065991\n",
       "18    0.062268\n",
       "12    0.053887\n",
       "15    0.053249\n",
       "13    0.052452\n",
       "9     0.051388\n",
       "14    0.051288\n",
       "10    0.051197\n",
       "11    0.051152\n",
       "19    0.050877\n",
       "8     0.048032\n",
       "22    0.044988\n",
       "20    0.041172\n",
       "7     0.040593\n",
       "21    0.040263\n",
       "23    0.037974\n",
       "0     0.029171\n",
       "1     0.022584\n",
       "6     0.022374\n",
       "2     0.019330\n",
       "3     0.014913\n",
       "5     0.013714\n",
       "4     0.013295\n",
       "Name: call_hour, dtype: float64"
      ]
     },
     "execution_count": 19,
     "metadata": {},
     "output_type": "execute_result"
    }
   ],
   "source": [
    "calls['call_hour'].value_counts(1)"
   ]
  },
  {
   "cell_type": "code",
   "execution_count": 20,
   "metadata": {},
   "outputs": [
    {
     "data": {
      "image/png": "[encoded data removed]",
      "text/plain": [
       "<Figure size 432x288 with 1 Axes>"
      ]
     },
     "metadata": {
      "needs_background": "light"
     },
     "output_type": "display_data"
    }
   ],
   "source": [
    "plt.bar(calls['call_hour'].value_counts().index,calls['call_hour'].value_counts());"
   ]
  },
  {
   "cell_type": "code",
   "execution_count": 21,
   "metadata": {},
   "outputs": [],
   "source": [
    "hours_to_cat = {\"call_hour\":{1:\"late_night\",2:\"late_night\",3:\"late_night\",4:\"late_night\",5:\"late_night\",6:\"late_night\",\n",
    "                                 7:\"day\",8:\"day\",9:\"day\",10:\"day\",11:\"day\",12:\"day\",13:\"day\",14:\"day\",15:\"day\",\n",
    "                                  16:\"late_afternoon\",17:\"late_afternoon\",18:\"late_afternoon\",19:\"late_afternoon\",\n",
    "                             20:\"evening\",21:\"evening\",22:\"evening\",23: \"evening\", 24: \"evening\"\n",
    "                            }}"
   ]
  },
  {
   "cell_type": "code",
   "execution_count": 22,
   "metadata": {},
   "outputs": [],
   "source": [
    "calls.replace(hours_to_cat, inplace=True);"
   ]
  },
  {
   "cell_type": "code",
   "execution_count": 23,
   "metadata": {},
   "outputs": [],
   "source": [
    "calls['call_hour_int'] = calls['Call Time'].apply(lambda x: int(x[:2]))"
   ]
  },
  {
   "cell_type": "markdown",
   "metadata": {},
   "source": [
    "**No difference between Offense Date, Report Date and Call Date**"
   ]
  },
  {
   "cell_type": "code",
   "execution_count": 24,
   "metadata": {},
   "outputs": [
    {
     "data": {
      "text/plain": [
       "0 days    3035330\n",
       "dtype: int64"
      ]
     },
     "execution_count": 24,
     "metadata": {},
     "output_type": "execute_result"
    }
   ],
   "source": [
    "(calls['Report Date'] - calls['Offense Date']).value_counts()"
   ]
  },
  {
   "cell_type": "code",
   "execution_count": 25,
   "metadata": {},
   "outputs": [
    {
     "data": {
      "text/plain": [
       "0 days    3035330\n",
       "dtype: int64"
      ]
     },
     "execution_count": 25,
     "metadata": {},
     "output_type": "execute_result"
    }
   ],
   "source": [
    "(calls['Offense Date'] - calls['Call Date']).value_counts()"
   ]
  },
  {
   "cell_type": "code",
   "execution_count": 26,
   "metadata": {},
   "outputs": [],
   "source": [
    "calls['day_of_week'] = calls['Call Date'].apply(lambda x: x.dayofweek)"
   ]
  },
  {
   "cell_type": "code",
   "execution_count": 27,
   "metadata": {},
   "outputs": [
    {
     "data": {
      "text/plain": [
       "2    0.148517\n",
       "4    0.145539\n",
       "3    0.145057\n",
       "1    0.144624\n",
       "5    0.142189\n",
       "0    0.141405\n",
       "6    0.132669\n",
       "Name: day_of_week, dtype: float64"
      ]
     },
     "execution_count": 27,
     "metadata": {},
     "output_type": "execute_result"
    }
   ],
   "source": [
    "calls['day_of_week'].value_counts(1)"
   ]
  },
  {
   "cell_type": "code",
   "execution_count": 28,
   "metadata": {},
   "outputs": [],
   "source": [
    "int_to_dow = {\"day_of_week\":{0:\"Mon\",1:\"Tue\",2:\"Wed\",4:\"Fri\",5:\"Sat\",6:\"Sun\"\n",
    "                            }}"
   ]
  },
  {
   "cell_type": "code",
   "execution_count": 29,
   "metadata": {},
   "outputs": [],
   "source": [
    "calls.replace(int_to_dow, inplace = True)"
   ]
  },
  {
   "cell_type": "code",
   "execution_count": 30,
   "metadata": {},
   "outputs": [],
   "source": [
    "calls['day_of_month'] = calls['Call Date'].apply(lambda x: x.day)"
   ]
  },
  {
   "cell_type": "code",
   "execution_count": 31,
   "metadata": {},
   "outputs": [
    {
     "data": {
      "image/png": "[encoded data removed]",
      "text/plain": [
       "<Figure size 432x288 with 1 Axes>"
      ]
     },
     "metadata": {
      "needs_background": "light"
     },
     "output_type": "display_data"
    }
   ],
   "source": [
    "plt.bar(calls['day_of_month'].value_counts().index,calls['day_of_month'].value_counts());"
   ]
  },
  {
   "cell_type": "code",
   "execution_count": 32,
   "metadata": {},
   "outputs": [],
   "source": [
    "calls.loc[calls['day_of_month'] <= 10, 'day_of_month_cat'] = 'beginning'"
   ]
  },
  {
   "cell_type": "code",
   "execution_count": 33,
   "metadata": {},
   "outputs": [],
   "source": [
    "mid_month = list(np.arange(10,21))"
   ]
  },
  {
   "cell_type": "code",
   "execution_count": 34,
   "metadata": {},
   "outputs": [],
   "source": [
    "calls.loc[calls['day_of_month'].isin(mid_month), 'day_of_month_cat'] = 'mid'"
   ]
  },
  {
   "cell_type": "code",
   "execution_count": 35,
   "metadata": {},
   "outputs": [
    {
     "data": {
      "text/plain": [
       "[21, 22, 23, 24, 25, 26, 27, 28, 29, 30, 31]"
      ]
     },
     "execution_count": 35,
     "metadata": {},
     "output_type": "execute_result"
    }
   ],
   "source": [
    "end_month = list(np.arange(21,32))\n",
    "end_month"
   ]
  },
  {
   "cell_type": "code",
   "execution_count": 36,
   "metadata": {},
   "outputs": [],
   "source": [
    "calls.loc[calls['day_of_month'].isin(end_month), 'day_of_month_cat'] = 'end'"
   ]
  },
  {
   "cell_type": "code",
   "execution_count": 65,
   "metadata": {},
   "outputs": [
    {
     "data": {
      "text/plain": [
       "0          0\n",
       "1          0\n",
       "2          0\n",
       "3          0\n",
       "4          1\n",
       "          ..\n",
       "3035325    0\n",
       "3035326    0\n",
       "3035327    0\n",
       "3035328    0\n",
       "3035329    0\n",
       "Name: Common Location, Length: 3035330, dtype: int64"
      ]
     },
     "execution_count": 65,
     "metadata": {},
     "output_type": "execute_result"
    }
   ],
   "source": [
    "(~calls['Common Location'].isnull())*1"
   ]
  },
  {
   "cell_type": "code",
   "execution_count": 66,
   "metadata": {},
   "outputs": [],
   "source": [
    "calls['common_loc_bool'] = (~calls['Common Location'].isnull()) * 1 "
   ]
  },
  {
   "cell_type": "code",
   "execution_count": 67,
   "metadata": {},
   "outputs": [
    {
     "data": {
      "text/plain": [
       "0    2708815\n",
       "1     326515\n",
       "Name: common_loc_bool, dtype: int64"
      ]
     },
     "execution_count": 67,
     "metadata": {},
     "output_type": "execute_result"
    }
   ],
   "source": [
    "calls['common_loc_bool'].value_counts()"
   ]
  },
  {
   "cell_type": "code",
   "execution_count": null,
   "metadata": {},
   "outputs": [],
   "source": [
    "calls"
   ]
  },
  {
   "cell_type": "markdown",
   "metadata": {},
   "source": [
    "## Feature enginnering"
   ]
  },
  {
   "cell_type": "code",
   "execution_count": 70,
   "metadata": {},
   "outputs": [],
   "source": [
    "def convert_to_bool(df, col_list):\n",
    "    for i in col_list:\n",
    "        df['is_{}'.format(i)] = (~df[i].isnull()) * 1 \n",
    "    return df"
   ]
  },
  {
   "cell_type": "code",
   "execution_count": 37,
   "metadata": {},
   "outputs": [],
   "source": [
    "def dummify(df, col_list):\n",
    "    '''dummify categorical features.\n",
    "    '''\n",
    "    for col in col_list:\n",
    "        if df[col].isnull().sum() == 0:\n",
    "            dummies = pd.get_dummies(df[col], prefix=col, drop_first=True)\n",
    "        else:\n",
    "            dummies = pd.get_dummies(\n",
    "                df[col], prefix=col, dummy_na=True, drop_first=True)\n",
    "        df[dummies.columns] = dummies\n",
    "    return df"
   ]
  },
  {
   "cell_type": "code",
   "execution_count": 38,
   "metadata": {},
   "outputs": [],
   "source": [
    "def drop_cols (df, col_list):\n",
    "    df = df.drop(col_list, axis=1)\n",
    "    return df "
   ]
  },
  {
   "cell_type": "code",
   "execution_count": 39,
   "metadata": {},
   "outputs": [],
   "source": [
    "def crime_type_encoding(df, crime_type_names):\n",
    "    for i in crime_type_names:\n",
    "        df[\"crime_type_{}\".format(i)] = np.where(df[\"Original Crime Type Name\"].str.contains(i), 1, 0)\n",
    "    return df "
   ]
  },
  {
   "cell_type": "code",
   "execution_count": 40,
   "metadata": {},
   "outputs": [],
   "source": [
    "def dispo_type_encoding(df, dispo_types):\n",
    "    for i in dispo_types:\n",
    "        df[\"disposition_{}\".format(i)] = np.where(df[\"Disposition\"].str.contains(i), 1, 0)\n",
    "    return df "
   ]
  },
  {
   "cell_type": "code",
   "execution_count": 71,
   "metadata": {},
   "outputs": [],
   "source": [
    "def feature_enginner(df, cols_bool, cols_dummy, cols_to_drop, crime_type_names, dispo_types):\n",
    "    df2 = convert_to_bool(df,cols_bool)\n",
    "    df2 = crime_type_encoding(df,crime_type_names)\n",
    "    df2 = dispo_type_encoding(df,dispo_types)\n",
    "    df2 = dummify(df,cols_dummy)\n",
    "    df2 = drop_cols(df, cols_to_drop)\n",
    "#     scaler = StandardScaler()\n",
    "#     scaler.fit(df.values)\n",
    "#     X = scaler.transform(df.values)\n",
    "    return df2"
   ]
  },
  {
   "cell_type": "code",
   "execution_count": 63,
   "metadata": {},
   "outputs": [],
   "source": [
    "useless_cols = ['State','Agency Id','City', 'Crime Id','Report Date','Offense Date']\n",
    "engineered_cols = ['Original Crime Type Name','call_hour_int','day_of_month','Call Time',\n",
    "                   'Call Date','Call Date Time','Disposition',\n",
    "                  'call_hour','day_of_week','day_of_month_cat',\n",
    "                  'Address Type', 'Common Location']\n",
    "unused_col = ['Address']\n",
    "calls_drop_features = useless_cols + engineered_cols + unused_col"
   ]
  },
  {
   "cell_type": "code",
   "execution_count": 43,
   "metadata": {},
   "outputs": [],
   "source": [
    "calls_dummy_features = ['Address Type','call_hour','day_of_week','day_of_month_cat']"
   ]
  },
  {
   "cell_type": "code",
   "execution_count": 44,
   "metadata": {},
   "outputs": [],
   "source": [
    "crime_type_names = ['Passing Call','Traffic Stop','Suspicious Person','Homeless Complaint'] #"
   ]
  },
  {
   "cell_type": "code",
   "execution_count": 45,
   "metadata": {},
   "outputs": [],
   "source": [
    "dispo_types = ['HAN','GOA','CIT','ADV','REP','Not recorded']"
   ]
  },
  {
   "cell_type": "code",
   "execution_count": 72,
   "metadata": {},
   "outputs": [],
   "source": [
    "bools_cols = ['Common Location']"
   ]
  },
  {
   "cell_type": "code",
   "execution_count": 73,
   "metadata": {},
   "outputs": [],
   "source": [
    "calls_fe = feature_enginner(calls, bools_cols, calls_dummy_features, calls_drop_features, crime_type_names, dispo_types)"
   ]
  },
  {
   "cell_type": "code",
   "execution_count": 77,
   "metadata": {},
   "outputs": [
    {
     "data": {
      "text/html": [
       "<div>\n",
       "<style scoped>\n",
       "    .dataframe tbody tr th:only-of-type {\n",
       "        vertical-align: middle;\n",
       "    }\n",
       "\n",
       "    .dataframe tbody tr th {\n",
       "        vertical-align: top;\n",
       "    }\n",
       "\n",
       "    .dataframe thead th {\n",
       "        text-align: right;\n",
       "    }\n",
       "</style>\n",
       "<table border=\"1\" class=\"dataframe\">\n",
       "  <thead>\n",
       "    <tr style=\"text-align: right;\">\n",
       "      <th></th>\n",
       "      <th>3035320</th>\n",
       "      <th>3035321</th>\n",
       "      <th>3035322</th>\n",
       "      <th>3035323</th>\n",
       "      <th>3035324</th>\n",
       "      <th>3035325</th>\n",
       "      <th>3035326</th>\n",
       "      <th>3035327</th>\n",
       "      <th>3035328</th>\n",
       "      <th>3035329</th>\n",
       "    </tr>\n",
       "  </thead>\n",
       "  <tbody>\n",
       "    <tr>\n",
       "      <th>crime_type_Passing Call</th>\n",
       "      <td>0</td>\n",
       "      <td>0</td>\n",
       "      <td>0</td>\n",
       "      <td>0</td>\n",
       "      <td>0</td>\n",
       "      <td>0</td>\n",
       "      <td>0</td>\n",
       "      <td>0</td>\n",
       "      <td>0</td>\n",
       "      <td>0</td>\n",
       "    </tr>\n",
       "    <tr>\n",
       "      <th>crime_type_Traffic Stop</th>\n",
       "      <td>0</td>\n",
       "      <td>0</td>\n",
       "      <td>0</td>\n",
       "      <td>0</td>\n",
       "      <td>0</td>\n",
       "      <td>0</td>\n",
       "      <td>0</td>\n",
       "      <td>0</td>\n",
       "      <td>0</td>\n",
       "      <td>0</td>\n",
       "    </tr>\n",
       "    <tr>\n",
       "      <th>crime_type_Suspicious Person</th>\n",
       "      <td>0</td>\n",
       "      <td>0</td>\n",
       "      <td>0</td>\n",
       "      <td>0</td>\n",
       "      <td>0</td>\n",
       "      <td>0</td>\n",
       "      <td>0</td>\n",
       "      <td>0</td>\n",
       "      <td>0</td>\n",
       "      <td>0</td>\n",
       "    </tr>\n",
       "    <tr>\n",
       "      <th>crime_type_Homeless Complaint</th>\n",
       "      <td>0</td>\n",
       "      <td>0</td>\n",
       "      <td>1</td>\n",
       "      <td>1</td>\n",
       "      <td>0</td>\n",
       "      <td>0</td>\n",
       "      <td>0</td>\n",
       "      <td>0</td>\n",
       "      <td>1</td>\n",
       "      <td>0</td>\n",
       "    </tr>\n",
       "    <tr>\n",
       "      <th>disposition_HAN</th>\n",
       "      <td>0</td>\n",
       "      <td>0</td>\n",
       "      <td>1</td>\n",
       "      <td>0</td>\n",
       "      <td>0</td>\n",
       "      <td>0</td>\n",
       "      <td>0</td>\n",
       "      <td>0</td>\n",
       "      <td>0</td>\n",
       "      <td>0</td>\n",
       "    </tr>\n",
       "    <tr>\n",
       "      <th>disposition_GOA</th>\n",
       "      <td>0</td>\n",
       "      <td>0</td>\n",
       "      <td>0</td>\n",
       "      <td>0</td>\n",
       "      <td>1</td>\n",
       "      <td>0</td>\n",
       "      <td>1</td>\n",
       "      <td>1</td>\n",
       "      <td>1</td>\n",
       "      <td>0</td>\n",
       "    </tr>\n",
       "    <tr>\n",
       "      <th>disposition_CIT</th>\n",
       "      <td>0</td>\n",
       "      <td>0</td>\n",
       "      <td>0</td>\n",
       "      <td>0</td>\n",
       "      <td>0</td>\n",
       "      <td>0</td>\n",
       "      <td>0</td>\n",
       "      <td>0</td>\n",
       "      <td>0</td>\n",
       "      <td>0</td>\n",
       "    </tr>\n",
       "    <tr>\n",
       "      <th>disposition_ADV</th>\n",
       "      <td>1</td>\n",
       "      <td>0</td>\n",
       "      <td>0</td>\n",
       "      <td>1</td>\n",
       "      <td>0</td>\n",
       "      <td>0</td>\n",
       "      <td>0</td>\n",
       "      <td>0</td>\n",
       "      <td>0</td>\n",
       "      <td>0</td>\n",
       "    </tr>\n",
       "    <tr>\n",
       "      <th>disposition_REP</th>\n",
       "      <td>0</td>\n",
       "      <td>0</td>\n",
       "      <td>0</td>\n",
       "      <td>0</td>\n",
       "      <td>0</td>\n",
       "      <td>1</td>\n",
       "      <td>0</td>\n",
       "      <td>0</td>\n",
       "      <td>0</td>\n",
       "      <td>1</td>\n",
       "    </tr>\n",
       "    <tr>\n",
       "      <th>disposition_Not recorded</th>\n",
       "      <td>0</td>\n",
       "      <td>0</td>\n",
       "      <td>0</td>\n",
       "      <td>0</td>\n",
       "      <td>0</td>\n",
       "      <td>0</td>\n",
       "      <td>0</td>\n",
       "      <td>0</td>\n",
       "      <td>0</td>\n",
       "      <td>0</td>\n",
       "    </tr>\n",
       "    <tr>\n",
       "      <th>Address Type_Geo-Override</th>\n",
       "      <td>0</td>\n",
       "      <td>0</td>\n",
       "      <td>0</td>\n",
       "      <td>0</td>\n",
       "      <td>0</td>\n",
       "      <td>0</td>\n",
       "      <td>0</td>\n",
       "      <td>0</td>\n",
       "      <td>0</td>\n",
       "      <td>0</td>\n",
       "    </tr>\n",
       "    <tr>\n",
       "      <th>Address Type_Intersection</th>\n",
       "      <td>0</td>\n",
       "      <td>0</td>\n",
       "      <td>1</td>\n",
       "      <td>1</td>\n",
       "      <td>1</td>\n",
       "      <td>1</td>\n",
       "      <td>0</td>\n",
       "      <td>0</td>\n",
       "      <td>0</td>\n",
       "      <td>0</td>\n",
       "    </tr>\n",
       "    <tr>\n",
       "      <th>Address Type_Premise Address</th>\n",
       "      <td>1</td>\n",
       "      <td>1</td>\n",
       "      <td>0</td>\n",
       "      <td>0</td>\n",
       "      <td>0</td>\n",
       "      <td>0</td>\n",
       "      <td>1</td>\n",
       "      <td>1</td>\n",
       "      <td>1</td>\n",
       "      <td>1</td>\n",
       "    </tr>\n",
       "    <tr>\n",
       "      <th>call_hour_day</th>\n",
       "      <td>0</td>\n",
       "      <td>0</td>\n",
       "      <td>0</td>\n",
       "      <td>0</td>\n",
       "      <td>0</td>\n",
       "      <td>0</td>\n",
       "      <td>0</td>\n",
       "      <td>0</td>\n",
       "      <td>1</td>\n",
       "      <td>0</td>\n",
       "    </tr>\n",
       "    <tr>\n",
       "      <th>call_hour_evening</th>\n",
       "      <td>0</td>\n",
       "      <td>0</td>\n",
       "      <td>0</td>\n",
       "      <td>0</td>\n",
       "      <td>0</td>\n",
       "      <td>0</td>\n",
       "      <td>0</td>\n",
       "      <td>0</td>\n",
       "      <td>0</td>\n",
       "      <td>0</td>\n",
       "    </tr>\n",
       "    <tr>\n",
       "      <th>call_hour_late_afternoon</th>\n",
       "      <td>1</td>\n",
       "      <td>1</td>\n",
       "      <td>1</td>\n",
       "      <td>1</td>\n",
       "      <td>1</td>\n",
       "      <td>1</td>\n",
       "      <td>1</td>\n",
       "      <td>1</td>\n",
       "      <td>0</td>\n",
       "      <td>1</td>\n",
       "    </tr>\n",
       "    <tr>\n",
       "      <th>call_hour_late_night</th>\n",
       "      <td>0</td>\n",
       "      <td>0</td>\n",
       "      <td>0</td>\n",
       "      <td>0</td>\n",
       "      <td>0</td>\n",
       "      <td>0</td>\n",
       "      <td>0</td>\n",
       "      <td>0</td>\n",
       "      <td>0</td>\n",
       "      <td>0</td>\n",
       "    </tr>\n",
       "    <tr>\n",
       "      <th>day_of_week_Fri</th>\n",
       "      <td>0</td>\n",
       "      <td>0</td>\n",
       "      <td>0</td>\n",
       "      <td>0</td>\n",
       "      <td>0</td>\n",
       "      <td>0</td>\n",
       "      <td>0</td>\n",
       "      <td>0</td>\n",
       "      <td>0</td>\n",
       "      <td>0</td>\n",
       "    </tr>\n",
       "    <tr>\n",
       "      <th>day_of_week_Mon</th>\n",
       "      <td>0</td>\n",
       "      <td>0</td>\n",
       "      <td>0</td>\n",
       "      <td>0</td>\n",
       "      <td>0</td>\n",
       "      <td>0</td>\n",
       "      <td>0</td>\n",
       "      <td>0</td>\n",
       "      <td>0</td>\n",
       "      <td>0</td>\n",
       "    </tr>\n",
       "    <tr>\n",
       "      <th>day_of_week_Sat</th>\n",
       "      <td>0</td>\n",
       "      <td>0</td>\n",
       "      <td>0</td>\n",
       "      <td>0</td>\n",
       "      <td>0</td>\n",
       "      <td>0</td>\n",
       "      <td>0</td>\n",
       "      <td>0</td>\n",
       "      <td>0</td>\n",
       "      <td>0</td>\n",
       "    </tr>\n",
       "    <tr>\n",
       "      <th>day_of_week_Sun</th>\n",
       "      <td>0</td>\n",
       "      <td>0</td>\n",
       "      <td>0</td>\n",
       "      <td>0</td>\n",
       "      <td>0</td>\n",
       "      <td>0</td>\n",
       "      <td>0</td>\n",
       "      <td>0</td>\n",
       "      <td>0</td>\n",
       "      <td>0</td>\n",
       "    </tr>\n",
       "    <tr>\n",
       "      <th>day_of_week_Tue</th>\n",
       "      <td>0</td>\n",
       "      <td>0</td>\n",
       "      <td>0</td>\n",
       "      <td>0</td>\n",
       "      <td>0</td>\n",
       "      <td>0</td>\n",
       "      <td>0</td>\n",
       "      <td>0</td>\n",
       "      <td>0</td>\n",
       "      <td>0</td>\n",
       "    </tr>\n",
       "    <tr>\n",
       "      <th>day_of_week_Wed</th>\n",
       "      <td>0</td>\n",
       "      <td>0</td>\n",
       "      <td>0</td>\n",
       "      <td>0</td>\n",
       "      <td>0</td>\n",
       "      <td>0</td>\n",
       "      <td>0</td>\n",
       "      <td>0</td>\n",
       "      <td>0</td>\n",
       "      <td>1</td>\n",
       "    </tr>\n",
       "    <tr>\n",
       "      <th>day_of_month_cat_end</th>\n",
       "      <td>1</td>\n",
       "      <td>1</td>\n",
       "      <td>1</td>\n",
       "      <td>1</td>\n",
       "      <td>1</td>\n",
       "      <td>1</td>\n",
       "      <td>1</td>\n",
       "      <td>1</td>\n",
       "      <td>1</td>\n",
       "      <td>1</td>\n",
       "    </tr>\n",
       "    <tr>\n",
       "      <th>day_of_month_cat_mid</th>\n",
       "      <td>0</td>\n",
       "      <td>0</td>\n",
       "      <td>0</td>\n",
       "      <td>0</td>\n",
       "      <td>0</td>\n",
       "      <td>0</td>\n",
       "      <td>0</td>\n",
       "      <td>0</td>\n",
       "      <td>0</td>\n",
       "      <td>0</td>\n",
       "    </tr>\n",
       "    <tr>\n",
       "      <th>common_loc_bool</th>\n",
       "      <td>0</td>\n",
       "      <td>0</td>\n",
       "      <td>0</td>\n",
       "      <td>0</td>\n",
       "      <td>0</td>\n",
       "      <td>0</td>\n",
       "      <td>0</td>\n",
       "      <td>0</td>\n",
       "      <td>0</td>\n",
       "      <td>0</td>\n",
       "    </tr>\n",
       "    <tr>\n",
       "      <th>is_Common Location</th>\n",
       "      <td>0</td>\n",
       "      <td>0</td>\n",
       "      <td>0</td>\n",
       "      <td>0</td>\n",
       "      <td>0</td>\n",
       "      <td>0</td>\n",
       "      <td>0</td>\n",
       "      <td>0</td>\n",
       "      <td>0</td>\n",
       "      <td>0</td>\n",
       "    </tr>\n",
       "  </tbody>\n",
       "</table>\n",
       "</div>"
      ],
      "text/plain": [
       "                               3035320  3035321  3035322  3035323  3035324  \\\n",
       "crime_type_Passing Call              0        0        0        0        0   \n",
       "crime_type_Traffic Stop              0        0        0        0        0   \n",
       "crime_type_Suspicious Person         0        0        0        0        0   \n",
       "crime_type_Homeless Complaint        0        0        1        1        0   \n",
       "disposition_HAN                      0        0        1        0        0   \n",
       "disposition_GOA                      0        0        0        0        1   \n",
       "disposition_CIT                      0        0        0        0        0   \n",
       "disposition_ADV                      1        0        0        1        0   \n",
       "disposition_REP                      0        0        0        0        0   \n",
       "disposition_Not recorded             0        0        0        0        0   \n",
       "Address Type_Geo-Override            0        0        0        0        0   \n",
       "Address Type_Intersection            0        0        1        1        1   \n",
       "Address Type_Premise Address         1        1        0        0        0   \n",
       "call_hour_day                        0        0        0        0        0   \n",
       "call_hour_evening                    0        0        0        0        0   \n",
       "call_hour_late_afternoon             1        1        1        1        1   \n",
       "call_hour_late_night                 0        0        0        0        0   \n",
       "day_of_week_Fri                      0        0        0        0        0   \n",
       "day_of_week_Mon                      0        0        0        0        0   \n",
       "day_of_week_Sat                      0        0        0        0        0   \n",
       "day_of_week_Sun                      0        0        0        0        0   \n",
       "day_of_week_Tue                      0        0        0        0        0   \n",
       "day_of_week_Wed                      0        0        0        0        0   \n",
       "day_of_month_cat_end                 1        1        1        1        1   \n",
       "day_of_month_cat_mid                 0        0        0        0        0   \n",
       "common_loc_bool                      0        0        0        0        0   \n",
       "is_Common Location                   0        0        0        0        0   \n",
       "\n",
       "                               3035325  3035326  3035327  3035328  3035329  \n",
       "crime_type_Passing Call              0        0        0        0        0  \n",
       "crime_type_Traffic Stop              0        0        0        0        0  \n",
       "crime_type_Suspicious Person         0        0        0        0        0  \n",
       "crime_type_Homeless Complaint        0        0        0        1        0  \n",
       "disposition_HAN                      0        0        0        0        0  \n",
       "disposition_GOA                      0        1        1        1        0  \n",
       "disposition_CIT                      0        0        0        0        0  \n",
       "disposition_ADV                      0        0        0        0        0  \n",
       "disposition_REP                      1        0        0        0        1  \n",
       "disposition_Not recorded             0        0        0        0        0  \n",
       "Address Type_Geo-Override            0        0        0        0        0  \n",
       "Address Type_Intersection            1        0        0        0        0  \n",
       "Address Type_Premise Address         0        1        1        1        1  \n",
       "call_hour_day                        0        0        0        1        0  \n",
       "call_hour_evening                    0        0        0        0        0  \n",
       "call_hour_late_afternoon             1        1        1        0        1  \n",
       "call_hour_late_night                 0        0        0        0        0  \n",
       "day_of_week_Fri                      0        0        0        0        0  \n",
       "day_of_week_Mon                      0        0        0        0        0  \n",
       "day_of_week_Sat                      0        0        0        0        0  \n",
       "day_of_week_Sun                      0        0        0        0        0  \n",
       "day_of_week_Tue                      0        0        0        0        0  \n",
       "day_of_week_Wed                      0        0        0        0        1  \n",
       "day_of_month_cat_end                 1        1        1        1        1  \n",
       "day_of_month_cat_mid                 0        0        0        0        0  \n",
       "common_loc_bool                      0        0        0        0        0  \n",
       "is_Common Location                   0        0        0        0        0  "
      ]
     },
     "execution_count": 77,
     "metadata": {},
     "output_type": "execute_result"
    }
   ],
   "source": [
    "calls_fe.tail(10).transpose()"
   ]
  },
  {
   "cell_type": "markdown",
   "metadata": {},
   "source": [
    "## Clustering for Calls - PCA + Kmeans\n",
    "\n",
    "**mention alternatives: hieratical, and the challenge here about the high demensionality brought by categorical features**"
   ]
  },
  {
   "cell_type": "code",
   "execution_count": 48,
   "metadata": {},
   "outputs": [],
   "source": [
    "from sklearn.cluster import KMeans "
   ]
  },
  {
   "cell_type": "code",
   "execution_count": 94,
   "metadata": {},
   "outputs": [],
   "source": [
    "from sklearn.decomposition import PCA"
   ]
  },
  {
   "cell_type": "code",
   "execution_count": 105,
   "metadata": {},
   "outputs": [],
   "source": [
    "from scipy import stats\n",
    "from collections import Counter\n",
    "from sklearn import metrics\n",
    "from time import time"
   ]
  },
  {
   "cell_type": "code",
   "execution_count": 81,
   "metadata": {},
   "outputs": [],
   "source": [
    "calls = pd.read_csv(\"police-department-calls-for-service.csv\",parse_dates = ['Report Date','Call Date','Offense Date','Call Date Time'])\n",
    "calls.columns = [col.strip() for col in calls.columns] "
   ]
  },
  {
   "cell_type": "code",
   "execution_count": 82,
   "metadata": {},
   "outputs": [
    {
     "data": {
      "text/plain": [
       "['State', 'Agency Id', 'City', 'Crime Id', 'Report Date', 'Offense Date']"
      ]
     },
     "execution_count": 82,
     "metadata": {},
     "output_type": "execute_result"
    }
   ],
   "source": [
    "useless_cols"
   ]
  },
  {
   "cell_type": "code",
   "execution_count": 84,
   "metadata": {},
   "outputs": [],
   "source": [
    "cluster_df = calls.drop(useless_cols,axis = 1)"
   ]
  },
  {
   "cell_type": "code",
   "execution_count": 86,
   "metadata": {},
   "outputs": [
    {
     "data": {
      "text/html": [
       "<div>\n",
       "<style scoped>\n",
       "    .dataframe tbody tr th:only-of-type {\n",
       "        vertical-align: middle;\n",
       "    }\n",
       "\n",
       "    .dataframe tbody tr th {\n",
       "        vertical-align: top;\n",
       "    }\n",
       "\n",
       "    .dataframe thead th {\n",
       "        text-align: right;\n",
       "    }\n",
       "</style>\n",
       "<table border=\"1\" class=\"dataframe\">\n",
       "  <thead>\n",
       "    <tr style=\"text-align: right;\">\n",
       "      <th></th>\n",
       "      <th>Original Crime Type Name</th>\n",
       "      <th>Call Date</th>\n",
       "      <th>Call Time</th>\n",
       "      <th>Call Date Time</th>\n",
       "      <th>Disposition</th>\n",
       "      <th>Address</th>\n",
       "      <th>Address Type</th>\n",
       "      <th>Common Location</th>\n",
       "    </tr>\n",
       "  </thead>\n",
       "  <tbody>\n",
       "    <tr>\n",
       "      <th>0</th>\n",
       "      <td>Passing Call</td>\n",
       "      <td>2019-11-23</td>\n",
       "      <td>23:54</td>\n",
       "      <td>2019-11-23 23:54:00</td>\n",
       "      <td>HAN</td>\n",
       "      <td>1000 Block Of Larkin St</td>\n",
       "      <td>Premise Address</td>\n",
       "      <td>NaN</td>\n",
       "    </tr>\n",
       "    <tr>\n",
       "      <th>1</th>\n",
       "      <td>Fight No Weapon</td>\n",
       "      <td>2019-11-23</td>\n",
       "      <td>23:45</td>\n",
       "      <td>2019-11-23 23:45:00</td>\n",
       "      <td>CAN</td>\n",
       "      <td>100 Block Of Ocean Av</td>\n",
       "      <td>Premise Address</td>\n",
       "      <td>NaN</td>\n",
       "    </tr>\n",
       "    <tr>\n",
       "      <th>2</th>\n",
       "      <td>Passing Call</td>\n",
       "      <td>2019-11-23</td>\n",
       "      <td>23:51</td>\n",
       "      <td>2019-11-23 23:51:00</td>\n",
       "      <td>HAN</td>\n",
       "      <td>400 Block Of Duboce Av</td>\n",
       "      <td>Premise Address</td>\n",
       "      <td>NaN</td>\n",
       "    </tr>\n",
       "    <tr>\n",
       "      <th>3</th>\n",
       "      <td>Well Being Check</td>\n",
       "      <td>2019-11-23</td>\n",
       "      <td>23:50</td>\n",
       "      <td>2019-11-23 23:50:00</td>\n",
       "      <td>HAN</td>\n",
       "      <td>King St/4th St</td>\n",
       "      <td>Intersection</td>\n",
       "      <td>NaN</td>\n",
       "    </tr>\n",
       "    <tr>\n",
       "      <th>4</th>\n",
       "      <td>Passing Call</td>\n",
       "      <td>2019-11-23</td>\n",
       "      <td>23:50</td>\n",
       "      <td>2019-11-23 23:50:00</td>\n",
       "      <td>HAN</td>\n",
       "      <td>100 Block Of Scott St</td>\n",
       "      <td>Common Location</td>\n",
       "      <td>Duboce Park, Sf</td>\n",
       "    </tr>\n",
       "  </tbody>\n",
       "</table>\n",
       "</div>"
      ],
      "text/plain": [
       "  Original Crime Type Name  Call Date Call Time      Call Date Time  \\\n",
       "0             Passing Call 2019-11-23     23:54 2019-11-23 23:54:00   \n",
       "1          Fight No Weapon 2019-11-23     23:45 2019-11-23 23:45:00   \n",
       "2             Passing Call 2019-11-23     23:51 2019-11-23 23:51:00   \n",
       "3         Well Being Check 2019-11-23     23:50 2019-11-23 23:50:00   \n",
       "4             Passing Call 2019-11-23     23:50 2019-11-23 23:50:00   \n",
       "\n",
       "  Disposition                  Address     Address Type  Common Location  \n",
       "0         HAN  1000 Block Of Larkin St  Premise Address              NaN  \n",
       "1         CAN    100 Block Of Ocean Av  Premise Address              NaN  \n",
       "2         HAN   400 Block Of Duboce Av  Premise Address              NaN  \n",
       "3         HAN           King St/4th St     Intersection              NaN  \n",
       "4         HAN    100 Block Of Scott St  Common Location  Duboce Park, Sf  "
      ]
     },
     "execution_count": 86,
     "metadata": {},
     "output_type": "execute_result"
    }
   ],
   "source": [
    "cluster_df.head()"
   ]
  },
  {
   "cell_type": "code",
   "execution_count": 89,
   "metadata": {},
   "outputs": [],
   "source": [
    "def convert_to_cat (df, cols):\n",
    "    for i in cols:\n",
    "        df[i] = df[i].astype('category')\n",
    "    return df"
   ]
  },
  {
   "cell_type": "code",
   "execution_count": 90,
   "metadata": {},
   "outputs": [],
   "source": [
    "cluster_df = convert_to_cat(cluster_df, ['Original Crime Type Name','Address Type','Disposition'])"
   ]
  },
  {
   "cell_type": "code",
   "execution_count": 91,
   "metadata": {},
   "outputs": [
    {
     "data": {
      "text/html": [
       "<div>\n",
       "<style scoped>\n",
       "    .dataframe tbody tr th:only-of-type {\n",
       "        vertical-align: middle;\n",
       "    }\n",
       "\n",
       "    .dataframe tbody tr th {\n",
       "        vertical-align: top;\n",
       "    }\n",
       "\n",
       "    .dataframe thead th {\n",
       "        text-align: right;\n",
       "    }\n",
       "</style>\n",
       "<table border=\"1\" class=\"dataframe\">\n",
       "  <thead>\n",
       "    <tr style=\"text-align: right;\">\n",
       "      <th></th>\n",
       "      <th>Original Crime Type Name</th>\n",
       "      <th>Call Date</th>\n",
       "      <th>Call Time</th>\n",
       "      <th>Call Date Time</th>\n",
       "      <th>Disposition</th>\n",
       "      <th>Address</th>\n",
       "      <th>Address Type</th>\n",
       "      <th>Common Location</th>\n",
       "    </tr>\n",
       "  </thead>\n",
       "  <tbody>\n",
       "    <tr>\n",
       "      <th>0</th>\n",
       "      <td>Passing Call</td>\n",
       "      <td>2019-11-23</td>\n",
       "      <td>23:54</td>\n",
       "      <td>2019-11-23 23:54:00</td>\n",
       "      <td>HAN</td>\n",
       "      <td>1000 Block Of Larkin St</td>\n",
       "      <td>Premise Address</td>\n",
       "      <td>NaN</td>\n",
       "    </tr>\n",
       "    <tr>\n",
       "      <th>1</th>\n",
       "      <td>Fight No Weapon</td>\n",
       "      <td>2019-11-23</td>\n",
       "      <td>23:45</td>\n",
       "      <td>2019-11-23 23:45:00</td>\n",
       "      <td>CAN</td>\n",
       "      <td>100 Block Of Ocean Av</td>\n",
       "      <td>Premise Address</td>\n",
       "      <td>NaN</td>\n",
       "    </tr>\n",
       "    <tr>\n",
       "      <th>2</th>\n",
       "      <td>Passing Call</td>\n",
       "      <td>2019-11-23</td>\n",
       "      <td>23:51</td>\n",
       "      <td>2019-11-23 23:51:00</td>\n",
       "      <td>HAN</td>\n",
       "      <td>400 Block Of Duboce Av</td>\n",
       "      <td>Premise Address</td>\n",
       "      <td>NaN</td>\n",
       "    </tr>\n",
       "    <tr>\n",
       "      <th>3</th>\n",
       "      <td>Well Being Check</td>\n",
       "      <td>2019-11-23</td>\n",
       "      <td>23:50</td>\n",
       "      <td>2019-11-23 23:50:00</td>\n",
       "      <td>HAN</td>\n",
       "      <td>King St/4th St</td>\n",
       "      <td>Intersection</td>\n",
       "      <td>NaN</td>\n",
       "    </tr>\n",
       "    <tr>\n",
       "      <th>4</th>\n",
       "      <td>Passing Call</td>\n",
       "      <td>2019-11-23</td>\n",
       "      <td>23:50</td>\n",
       "      <td>2019-11-23 23:50:00</td>\n",
       "      <td>HAN</td>\n",
       "      <td>100 Block Of Scott St</td>\n",
       "      <td>Common Location</td>\n",
       "      <td>Duboce Park, Sf</td>\n",
       "    </tr>\n",
       "  </tbody>\n",
       "</table>\n",
       "</div>"
      ],
      "text/plain": [
       "  Original Crime Type Name  Call Date Call Time      Call Date Time  \\\n",
       "0             Passing Call 2019-11-23     23:54 2019-11-23 23:54:00   \n",
       "1          Fight No Weapon 2019-11-23     23:45 2019-11-23 23:45:00   \n",
       "2             Passing Call 2019-11-23     23:51 2019-11-23 23:51:00   \n",
       "3         Well Being Check 2019-11-23     23:50 2019-11-23 23:50:00   \n",
       "4             Passing Call 2019-11-23     23:50 2019-11-23 23:50:00   \n",
       "\n",
       "  Disposition                  Address     Address Type  Common Location  \n",
       "0         HAN  1000 Block Of Larkin St  Premise Address              NaN  \n",
       "1         CAN    100 Block Of Ocean Av  Premise Address              NaN  \n",
       "2         HAN   400 Block Of Duboce Av  Premise Address              NaN  \n",
       "3         HAN           King St/4th St     Intersection              NaN  \n",
       "4         HAN    100 Block Of Scott St  Common Location  Duboce Park, Sf  "
      ]
     },
     "execution_count": 91,
     "metadata": {},
     "output_type": "execute_result"
    }
   ],
   "source": [
    "cluster_df.head()"
   ]
  },
  {
   "cell_type": "markdown",
   "metadata": {},
   "source": [
    "### PCA"
   ]
  },
  {
   "cell_type": "code",
   "execution_count": 113,
   "metadata": {},
   "outputs": [],
   "source": [
    "# calls_fe = calls_fe.drop('common_loc_bool', axis=1)"
   ]
  },
  {
   "cell_type": "code",
   "execution_count": 111,
   "metadata": {},
   "outputs": [
    {
     "data": {
      "text/html": [
       "<div>\n",
       "<style scoped>\n",
       "    .dataframe tbody tr th:only-of-type {\n",
       "        vertical-align: middle;\n",
       "    }\n",
       "\n",
       "    .dataframe tbody tr th {\n",
       "        vertical-align: top;\n",
       "    }\n",
       "\n",
       "    .dataframe thead th {\n",
       "        text-align: right;\n",
       "    }\n",
       "</style>\n",
       "<table border=\"1\" class=\"dataframe\">\n",
       "  <thead>\n",
       "    <tr style=\"text-align: right;\">\n",
       "      <th></th>\n",
       "      <th>crime_type_Passing Call</th>\n",
       "      <th>crime_type_Traffic Stop</th>\n",
       "      <th>crime_type_Suspicious Person</th>\n",
       "      <th>crime_type_Homeless Complaint</th>\n",
       "      <th>disposition_HAN</th>\n",
       "      <th>disposition_GOA</th>\n",
       "      <th>disposition_CIT</th>\n",
       "      <th>disposition_ADV</th>\n",
       "      <th>disposition_REP</th>\n",
       "      <th>disposition_Not recorded</th>\n",
       "      <th>...</th>\n",
       "      <th>call_hour_late_night</th>\n",
       "      <th>day_of_week_Fri</th>\n",
       "      <th>day_of_week_Mon</th>\n",
       "      <th>day_of_week_Sat</th>\n",
       "      <th>day_of_week_Sun</th>\n",
       "      <th>day_of_week_Tue</th>\n",
       "      <th>day_of_week_Wed</th>\n",
       "      <th>day_of_month_cat_end</th>\n",
       "      <th>day_of_month_cat_mid</th>\n",
       "      <th>is_Common Location</th>\n",
       "    </tr>\n",
       "  </thead>\n",
       "  <tbody>\n",
       "    <tr>\n",
       "      <th>0</th>\n",
       "      <td>1</td>\n",
       "      <td>0</td>\n",
       "      <td>0</td>\n",
       "      <td>0</td>\n",
       "      <td>1</td>\n",
       "      <td>0</td>\n",
       "      <td>0</td>\n",
       "      <td>0</td>\n",
       "      <td>0</td>\n",
       "      <td>0</td>\n",
       "      <td>...</td>\n",
       "      <td>0</td>\n",
       "      <td>0</td>\n",
       "      <td>0</td>\n",
       "      <td>1</td>\n",
       "      <td>0</td>\n",
       "      <td>0</td>\n",
       "      <td>0</td>\n",
       "      <td>1</td>\n",
       "      <td>0</td>\n",
       "      <td>0</td>\n",
       "    </tr>\n",
       "    <tr>\n",
       "      <th>1</th>\n",
       "      <td>0</td>\n",
       "      <td>0</td>\n",
       "      <td>0</td>\n",
       "      <td>0</td>\n",
       "      <td>0</td>\n",
       "      <td>0</td>\n",
       "      <td>0</td>\n",
       "      <td>0</td>\n",
       "      <td>0</td>\n",
       "      <td>0</td>\n",
       "      <td>...</td>\n",
       "      <td>0</td>\n",
       "      <td>0</td>\n",
       "      <td>0</td>\n",
       "      <td>1</td>\n",
       "      <td>0</td>\n",
       "      <td>0</td>\n",
       "      <td>0</td>\n",
       "      <td>1</td>\n",
       "      <td>0</td>\n",
       "      <td>0</td>\n",
       "    </tr>\n",
       "    <tr>\n",
       "      <th>2</th>\n",
       "      <td>1</td>\n",
       "      <td>0</td>\n",
       "      <td>0</td>\n",
       "      <td>0</td>\n",
       "      <td>1</td>\n",
       "      <td>0</td>\n",
       "      <td>0</td>\n",
       "      <td>0</td>\n",
       "      <td>0</td>\n",
       "      <td>0</td>\n",
       "      <td>...</td>\n",
       "      <td>0</td>\n",
       "      <td>0</td>\n",
       "      <td>0</td>\n",
       "      <td>1</td>\n",
       "      <td>0</td>\n",
       "      <td>0</td>\n",
       "      <td>0</td>\n",
       "      <td>1</td>\n",
       "      <td>0</td>\n",
       "      <td>0</td>\n",
       "    </tr>\n",
       "    <tr>\n",
       "      <th>3</th>\n",
       "      <td>0</td>\n",
       "      <td>0</td>\n",
       "      <td>0</td>\n",
       "      <td>0</td>\n",
       "      <td>1</td>\n",
       "      <td>0</td>\n",
       "      <td>0</td>\n",
       "      <td>0</td>\n",
       "      <td>0</td>\n",
       "      <td>0</td>\n",
       "      <td>...</td>\n",
       "      <td>0</td>\n",
       "      <td>0</td>\n",
       "      <td>0</td>\n",
       "      <td>1</td>\n",
       "      <td>0</td>\n",
       "      <td>0</td>\n",
       "      <td>0</td>\n",
       "      <td>1</td>\n",
       "      <td>0</td>\n",
       "      <td>0</td>\n",
       "    </tr>\n",
       "    <tr>\n",
       "      <th>4</th>\n",
       "      <td>1</td>\n",
       "      <td>0</td>\n",
       "      <td>0</td>\n",
       "      <td>0</td>\n",
       "      <td>1</td>\n",
       "      <td>0</td>\n",
       "      <td>0</td>\n",
       "      <td>0</td>\n",
       "      <td>0</td>\n",
       "      <td>0</td>\n",
       "      <td>...</td>\n",
       "      <td>0</td>\n",
       "      <td>0</td>\n",
       "      <td>0</td>\n",
       "      <td>1</td>\n",
       "      <td>0</td>\n",
       "      <td>0</td>\n",
       "      <td>0</td>\n",
       "      <td>1</td>\n",
       "      <td>0</td>\n",
       "      <td>1</td>\n",
       "    </tr>\n",
       "  </tbody>\n",
       "</table>\n",
       "<p>5 rows × 26 columns</p>\n",
       "</div>"
      ],
      "text/plain": [
       "   crime_type_Passing Call  crime_type_Traffic Stop  \\\n",
       "0                        1                        0   \n",
       "1                        0                        0   \n",
       "2                        1                        0   \n",
       "3                        0                        0   \n",
       "4                        1                        0   \n",
       "\n",
       "   crime_type_Suspicious Person  crime_type_Homeless Complaint  \\\n",
       "0                             0                              0   \n",
       "1                             0                              0   \n",
       "2                             0                              0   \n",
       "3                             0                              0   \n",
       "4                             0                              0   \n",
       "\n",
       "   disposition_HAN  disposition_GOA  disposition_CIT  disposition_ADV  \\\n",
       "0                1                0                0                0   \n",
       "1                0                0                0                0   \n",
       "2                1                0                0                0   \n",
       "3                1                0                0                0   \n",
       "4                1                0                0                0   \n",
       "\n",
       "   disposition_REP  disposition_Not recorded  ...  call_hour_late_night  \\\n",
       "0                0                         0  ...                     0   \n",
       "1                0                         0  ...                     0   \n",
       "2                0                         0  ...                     0   \n",
       "3                0                         0  ...                     0   \n",
       "4                0                         0  ...                     0   \n",
       "\n",
       "   day_of_week_Fri  day_of_week_Mon  day_of_week_Sat  day_of_week_Sun  \\\n",
       "0                0                0                1                0   \n",
       "1                0                0                1                0   \n",
       "2                0                0                1                0   \n",
       "3                0                0                1                0   \n",
       "4                0                0                1                0   \n",
       "\n",
       "   day_of_week_Tue  day_of_week_Wed  day_of_month_cat_end  \\\n",
       "0                0                0                     1   \n",
       "1                0                0                     1   \n",
       "2                0                0                     1   \n",
       "3                0                0                     1   \n",
       "4                0                0                     1   \n",
       "\n",
       "   day_of_month_cat_mid  is_Common Location  \n",
       "0                     0                   0  \n",
       "1                     0                   0  \n",
       "2                     0                   0  \n",
       "3                     0                   0  \n",
       "4                     0                   1  \n",
       "\n",
       "[5 rows x 26 columns]"
      ]
     },
     "execution_count": 111,
     "metadata": {},
     "output_type": "execute_result"
    }
   ],
   "source": [
    "calls_fe.head()"
   ]
  },
  {
   "cell_type": "code",
   "execution_count": 112,
   "metadata": {},
   "outputs": [],
   "source": [
    "scaler = StandardScaler()\n",
    "scaler.fit(calls_fe.values)\n",
    "X = scaler.transform(calls_fe.values)"
   ]
  },
  {
   "cell_type": "code",
   "execution_count": 114,
   "metadata": {},
   "outputs": [
    {
     "data": {
      "text/plain": [
       "(3035330, 26)"
      ]
     },
     "execution_count": 114,
     "metadata": {},
     "output_type": "execute_result"
    }
   ],
   "source": [
    "X.shape"
   ]
  },
  {
   "cell_type": "code",
   "execution_count": 115,
   "metadata": {},
   "outputs": [],
   "source": [
    "def PCA_reduce(X,dimensionality):\n",
    "    '''[summary]\n",
    "    reduced n dimensionality matrix and np array of important features\n",
    "    Arguments:\n",
    "        X {[numpy matrix]} -- input matrix\n",
    "        dimensionality {[int]} -- to what dimensionality to reduce to\n",
    "    Returns:\n",
    "        X_reduced -- reduced matrix\n",
    "        important_features -- a list of features that contributed most to the principle component\n",
    "    '''\n",
    "\n",
    "    important_features = []\n",
    "    pcd = PCA(dimensionality).fit(X)\n",
    "    pca_matrix = pcd.components_\n",
    "    for i in range(dimensionality):\n",
    "        print('#{} Principle Component top 5 contributors are:'.format(i), np.argsort(np.abs(pca_matrix[i,:]))[-5:])\n",
    "        important_features.append(np.argsort(np.abs(pca_matrix[i,:]))[-5:])\n",
    "    X_reduced = np.dot(X,pcd.components_.T)\n",
    "    print('Reduced X shape:', X_reduced.shape)\n",
    "    important_features = np.array(important_features)\n",
    "    print('Explained variance:', pcd.explained_variance_)\n",
    "    print('Explained variance ratio:', pcd.explained_variance_ratio_)\n",
    "    print('Explained variance ratio accumulated:', pcd.explained_variance_ratio_.cumsum())\n",
    "    return X_reduced, important_features\n"
   ]
  },
  {
   "cell_type": "code",
   "execution_count": 122,
   "metadata": {},
   "outputs": [
    {
     "name": "stdout",
     "output_type": "stream",
     "text": [
      "#0 Principle Component top 5 contributors are: [25  9 11  0 12]\n",
      "#1 Principle Component top 5 contributors are: [ 4  0  6 11  1]\n",
      "#2 Principle Component top 5 contributors are: [ 3 16 14 15 13]\n",
      "#3 Principle Component top 5 contributors are: [13 18 17 24 23]\n",
      "#4 Principle Component top 5 contributors are: [ 2 16  3  6  7]\n",
      "#5 Principle Component top 5 contributors are: [ 5 15  9  4 14]\n",
      "#6 Principle Component top 5 contributors are: [22 19  4 15 14]\n",
      "#7 Principle Component top 5 contributors are: [20 17 19 22 21]\n",
      "#8 Principle Component top 5 contributors are: [16 18 17 20 22]\n",
      "#9 Principle Component top 5 contributors are: [ 8 17 19 21 18]\n",
      "Reduced X shape: (3035330, 10)\n",
      "Explained variance: [2.23002721 2.12962794 1.59237866 1.54041515 1.37423074 1.29696093\n",
      " 1.21499597 1.1717583  1.16876352 1.16741343]\n",
      "Explained variance ratio: [0.08577025 0.08190874 0.06124531 0.05924672 0.05285501 0.0498831\n",
      " 0.0467306  0.04506761 0.04495243 0.0449005 ]\n",
      "Explained variance ratio accumulated: [0.08577025 0.16767899 0.2289243  0.28817102 0.34102603 0.39090913\n",
      " 0.43763973 0.48270734 0.52765977 0.57256027]\n"
     ]
    }
   ],
   "source": [
    "important_features = []\n",
    "pcd = PCA(10).fit(X)\n",
    "pca_matrix = pcd.components_\n",
    "for i in range(10):\n",
    "    print('#{} Principle Component top 5 contributors are:'.format(i), np.argsort(np.abs(pca_matrix[i,:]))[-5:])\n",
    "    important_features.append(np.argsort(np.abs(pca_matrix[i,:]))[-5:])\n",
    "re_X_ww = np.dot(X,pcd.components_.T)\n",
    "print('Reduced X shape:', re_X_ww.shape)\n",
    "\n",
    "imp_f_ww = np.array(important_features)\n",
    "print('Explained variance:', pcd.explained_variance_)\n",
    "print('Explained variance ratio:', pcd.explained_variance_ratio_)\n",
    "print('Explained variance ratio accumulated:', pcd.explained_variance_ratio_.cumsum())\n"
   ]
  },
  {
   "cell_type": "code",
   "execution_count": 123,
   "metadata": {},
   "outputs": [
    {
     "data": {
      "text/plain": [
       "Text(0, 0.5, 'Accumulated Explained Variance')"
      ]
     },
     "execution_count": 123,
     "metadata": {},
     "output_type": "execute_result"
    },
    {
     "data": {
      "image/png": "[encoded data removed]",
      "text/plain": [
       "<Figure size 432x288 with 1 Axes>"
      ]
     },
     "metadata": {
      "needs_background": "light"
     },
     "output_type": "display_data"
    }
   ],
   "source": [
    "# Plot explained variance by dimensionality\n",
    "x = range(1,11)\n",
    "y = np.round(pcd.explained_variance_ratio_.cumsum(),2)\n",
    "plt.fill_between(x, y, color=\"skyblue\", alpha=0.3)\n",
    "plt.plot(x, y, color=\"skyblue\")\n",
    " \n",
    "# Add titles and labels\n",
    "plt.title(\"Explained Variance by Dimensionality\", loc=\"left\")\n",
    "plt.xlabel(\"Num of dimensionality\")\n",
    "plt.ylabel(\"Accumulated Explained Variance\")"
   ]
  },
  {
   "cell_type": "code",
   "execution_count": 124,
   "metadata": {},
   "outputs": [],
   "source": [
    "pcd = PCA(6).fit(X) #re-assign PCA class to reduce to 6 dimensionality"
   ]
  },
  {
   "cell_type": "code",
   "execution_count": 125,
   "metadata": {},
   "outputs": [],
   "source": [
    "re_X_ww = re_X_ww[:,:6] #cut dimensiontly from 10 to 6"
   ]
  },
  {
   "cell_type": "code",
   "execution_count": 126,
   "metadata": {},
   "outputs": [],
   "source": [
    "def print_imp_features(df,imp_features):\n",
    "    '''[summary]\n",
    "    print important features names and return the counter of the features\n",
    "    Arguments:\n",
    "        df {[pandas dataframe]} -- input\n",
    "        imp_features {[list]} -- important features returned from pca_reduce function\n",
    "    Returns:\n",
    "        counter [dictionary] -- a dictionary with feature name as key, and frequency showed as value \n",
    "    '''\n",
    "\n",
    "    feature = []\n",
    "    idx = 0\n",
    "    c = 1\n",
    "    while idx < len(np.array(imp_features).flatten()):\n",
    "        print('#{} PC:'.format(c))\n",
    "        if idx+5 > len(np.array(imp_features).flatten()):\n",
    "            for i in np.array(imp_features).flatten()[idx:]:\n",
    "                feature.append(list(df.columns)[i])\n",
    "                print(list(df.columns)[i])\n",
    "        else:\n",
    "            for i in np.array(imp_features).flatten()[idx:idx+5]:\n",
    "                feature.append(list(df.columns)[i])\n",
    "                print(list(df.columns)[i])\n",
    "        idx += 5\n",
    "        c +=1\n",
    "    counter = Counter(feature)\n",
    "    return counter"
   ]
  },
  {
   "cell_type": "code",
   "execution_count": 127,
   "metadata": {},
   "outputs": [
    {
     "name": "stdout",
     "output_type": "stream",
     "text": [
      "#1 PC:\n",
      "is_Common Location\n",
      "disposition_Not recorded\n",
      "Address Type_Intersection\n",
      "crime_type_Passing Call\n",
      "Address Type_Premise Address\n",
      "#2 PC:\n",
      "disposition_HAN\n",
      "crime_type_Passing Call\n",
      "disposition_CIT\n",
      "Address Type_Intersection\n",
      "crime_type_Traffic Stop\n",
      "#3 PC:\n",
      "crime_type_Homeless Complaint\n",
      "call_hour_late_night\n",
      "call_hour_evening\n",
      "call_hour_late_afternoon\n",
      "call_hour_day\n",
      "#4 PC:\n",
      "call_hour_day\n",
      "day_of_week_Mon\n",
      "day_of_week_Fri\n",
      "day_of_month_cat_mid\n",
      "day_of_month_cat_end\n",
      "#5 PC:\n",
      "crime_type_Suspicious Person\n",
      "call_hour_late_night\n",
      "crime_type_Homeless Complaint\n",
      "disposition_CIT\n",
      "disposition_ADV\n",
      "#6 PC:\n",
      "disposition_GOA\n",
      "call_hour_late_afternoon\n",
      "disposition_Not recorded\n",
      "disposition_HAN\n",
      "call_hour_evening\n"
     ]
    }
   ],
   "source": [
    "# print out top 5 contributers for each principle component to understand what features are providing signals\n",
    "counter = print_imp_features(calls_fe,imp_f_ww[:6,:])"
   ]
  },
  {
   "cell_type": "markdown",
   "metadata": {},
   "source": [
    "### We will use 3 dimensionality here for visualization purpose."
   ]
  },
  {
   "cell_type": "code",
   "execution_count": 128,
   "metadata": {},
   "outputs": [],
   "source": [
    "re_X_3 = re_X_ww[:,:3]"
   ]
  },
  {
   "cell_type": "code",
   "execution_count": 132,
   "metadata": {},
   "outputs": [],
   "source": [
    "from mpl_toolkits.mplot3d import Axes3D"
   ]
  },
  {
   "cell_type": "code",
   "execution_count": 133,
   "metadata": {},
   "outputs": [],
   "source": [
    "def matplotlib_3D_X_reduced(X_reduced,label1=\"First Principle Component\",label2=\"Second Principle Component\",label3=\"Third Principle Component\",title=\"Scatterplot in PCA 3D-Plane\"):\n",
    "    '''use matplotlib to plot the 3D PCA results'''\n",
    "    fig = plt.figure(figsize=(10,8))\n",
    "    ax = fig.add_subplot(111, projection='3d')\n",
    "    # for c, m in [('r', 'o'), ('b', '^')]:\n",
    "    xs=X_reduced[:,0]\n",
    "    ys=X_reduced[:,1]\n",
    "    zs=X_reduced[:,2]\n",
    "    ax.scatter(xs, ys, zs, c='green', marker='^')\n",
    "    ax.set_xlabel(label1)\n",
    "    ax.set_ylabel(label2)\n",
    "    ax.set_zlabel(label3)\n",
    "    ax.set_title(title)\n",
    "    plt.show()"
   ]
  },
  {
   "cell_type": "code",
   "execution_count": 134,
   "metadata": {},
   "outputs": [
    {
     "data": {
      "image/png": "[encoded data removed]",
      "text/plain": [
       "<Figure size 720x576 with 1 Axes>"
      ]
     },
     "metadata": {
      "needs_background": "light"
     },
     "output_type": "display_data"
    }
   ],
   "source": [
    "matplotlib_3D_X_reduced(re_X_3)"
   ]
  },
  {
   "cell_type": "markdown",
   "metadata": {},
   "source": [
    "### KMeans modeling"
   ]
  },
  {
   "cell_type": "code",
   "execution_count": 135,
   "metadata": {},
   "outputs": [],
   "source": [
    "def kmeans_cluster(X_reduced,cluster_num):\n",
    "    '''[summary]\n",
    "    use kmeans++ algorithems to cluster input data.\n",
    "    Arguments:\n",
    "        X_reduced {[numpy matrix]} -- input matrix\n",
    "        cluster_num {[int]} -- how many clusters for clustering \n",
    "    Returns:\n",
    "        y[numpy array] -- assigned_cluster for each row\n",
    "        centers[numpy matrix] -- centers of the clusters\n",
    "    '''\n",
    "\n",
    "    kmeans = KMeans(init='k-means++', n_clusters=cluster_num, n_init=10,tol=0.0001,verbose=0)\n",
    "    y = kmeans.fit_predict(X_reduced)\n",
    "    centers = kmeans.cluster_centers_\n",
    "    # assigned_cluster = kmeans.transform(X_reduced).argmin(axis=1)\n",
    "    return y, centers"
   ]
  },
  {
   "cell_type": "code",
   "execution_count": 136,
   "metadata": {},
   "outputs": [],
   "source": [
    "kmeans = KMeans(init='k-means++', n_clusters=6, n_init=10,tol=0.0001,verbose=0)\n",
    "y = kmeans.fit_predict(re_X_ww)\n",
    "centers = kmeans.cluster_centers_\n"
   ]
  },
  {
   "cell_type": "code",
   "execution_count": 138,
   "metadata": {},
   "outputs": [
    {
     "data": {
      "text/plain": [
       "array([3, 5, 3, ..., 5, 1, 5], dtype=int32)"
      ]
     },
     "execution_count": 138,
     "metadata": {},
     "output_type": "execute_result"
    }
   ],
   "source": [
    "y"
   ]
  },
  {
   "cell_type": "code",
   "execution_count": 139,
   "metadata": {},
   "outputs": [],
   "source": [
    "calls_fe['clustering_6d'] = y"
   ]
  },
  {
   "cell_type": "code",
   "execution_count": 137,
   "metadata": {},
   "outputs": [],
   "source": [
    "def plot_3D_kmeans(X_reduced,y,xlabel,ylabel,zlabel,title,xlim=None,ylim=None,zlim=None):\n",
    "    '''use matplotlib to plot the 3D kmeans cluster results'''\n",
    "    fig = plt.figure(figsize=(10,8))\n",
    "    ax = fig.add_subplot(111, projection='3d')\n",
    "    # for c, m in [('r', 'o'), ('b', '^')]:\n",
    "    xs=X_reduced[:,0]\n",
    "    ys=X_reduced[:,1]\n",
    "    zs=X_reduced[:,2]\n",
    "    ax.scatter(xs, ys, zs, c=y, marker='^')\n",
    "    ax.set_xlabel(xlabel)\n",
    "    ax.set_ylabel(ylabel)\n",
    "    ax.set_zlabel(zlabel)\n",
    "    ax.set_title(title)\n",
    "    if xlim != None:\n",
    "        ax.set_xlim(xlim[0],xlim[1])\n",
    "    if ylim != None:\n",
    "        ax.set_ylim(ylim[0],ylim[1])\n",
    "    if zlim != None:\n",
    "        ax.set_zlim(zlim[0],zlim[1])\n",
    "    plt.show()"
   ]
  },
  {
   "cell_type": "code",
   "execution_count": 140,
   "metadata": {},
   "outputs": [
    {
     "data": {
      "image/png": "[encoded data removed]",
      "text/plain": [
       "<Figure size 720x576 with 1 Axes>"
      ]
     },
     "metadata": {
      "needs_background": "light"
     },
     "output_type": "display_data"
    }
   ],
   "source": [
    "plot_3D_kmeans(re_X_3,y,\"First Principle Component\",\"Second Principle Component\",\"Third Principle Component\",'Scatter plot in PCA-3D plane')"
   ]
  },
  {
   "cell_type": "code",
   "execution_count": 142,
   "metadata": {},
   "outputs": [
    {
     "data": {
      "text/html": [
       "<div>\n",
       "<style scoped>\n",
       "    .dataframe tbody tr th:only-of-type {\n",
       "        vertical-align: middle;\n",
       "    }\n",
       "\n",
       "    .dataframe tbody tr th {\n",
       "        vertical-align: top;\n",
       "    }\n",
       "\n",
       "    .dataframe thead th {\n",
       "        text-align: right;\n",
       "    }\n",
       "</style>\n",
       "<table border=\"1\" class=\"dataframe\">\n",
       "  <thead>\n",
       "    <tr style=\"text-align: right;\">\n",
       "      <th></th>\n",
       "      <th>0</th>\n",
       "      <th>1</th>\n",
       "      <th>2</th>\n",
       "      <th>3</th>\n",
       "      <th>4</th>\n",
       "    </tr>\n",
       "  </thead>\n",
       "  <tbody>\n",
       "    <tr>\n",
       "      <th>crime_type_Passing Call</th>\n",
       "      <td>1</td>\n",
       "      <td>0</td>\n",
       "      <td>1</td>\n",
       "      <td>0</td>\n",
       "      <td>1</td>\n",
       "    </tr>\n",
       "    <tr>\n",
       "      <th>crime_type_Traffic Stop</th>\n",
       "      <td>0</td>\n",
       "      <td>0</td>\n",
       "      <td>0</td>\n",
       "      <td>0</td>\n",
       "      <td>0</td>\n",
       "    </tr>\n",
       "    <tr>\n",
       "      <th>crime_type_Suspicious Person</th>\n",
       "      <td>0</td>\n",
       "      <td>0</td>\n",
       "      <td>0</td>\n",
       "      <td>0</td>\n",
       "      <td>0</td>\n",
       "    </tr>\n",
       "    <tr>\n",
       "      <th>crime_type_Homeless Complaint</th>\n",
       "      <td>0</td>\n",
       "      <td>0</td>\n",
       "      <td>0</td>\n",
       "      <td>0</td>\n",
       "      <td>0</td>\n",
       "    </tr>\n",
       "    <tr>\n",
       "      <th>disposition_HAN</th>\n",
       "      <td>1</td>\n",
       "      <td>0</td>\n",
       "      <td>1</td>\n",
       "      <td>1</td>\n",
       "      <td>1</td>\n",
       "    </tr>\n",
       "    <tr>\n",
       "      <th>disposition_GOA</th>\n",
       "      <td>0</td>\n",
       "      <td>0</td>\n",
       "      <td>0</td>\n",
       "      <td>0</td>\n",
       "      <td>0</td>\n",
       "    </tr>\n",
       "    <tr>\n",
       "      <th>disposition_CIT</th>\n",
       "      <td>0</td>\n",
       "      <td>0</td>\n",
       "      <td>0</td>\n",
       "      <td>0</td>\n",
       "      <td>0</td>\n",
       "    </tr>\n",
       "    <tr>\n",
       "      <th>disposition_ADV</th>\n",
       "      <td>0</td>\n",
       "      <td>0</td>\n",
       "      <td>0</td>\n",
       "      <td>0</td>\n",
       "      <td>0</td>\n",
       "    </tr>\n",
       "    <tr>\n",
       "      <th>disposition_REP</th>\n",
       "      <td>0</td>\n",
       "      <td>0</td>\n",
       "      <td>0</td>\n",
       "      <td>0</td>\n",
       "      <td>0</td>\n",
       "    </tr>\n",
       "    <tr>\n",
       "      <th>disposition_Not recorded</th>\n",
       "      <td>0</td>\n",
       "      <td>0</td>\n",
       "      <td>0</td>\n",
       "      <td>0</td>\n",
       "      <td>0</td>\n",
       "    </tr>\n",
       "    <tr>\n",
       "      <th>Address Type_Geo-Override</th>\n",
       "      <td>0</td>\n",
       "      <td>0</td>\n",
       "      <td>0</td>\n",
       "      <td>0</td>\n",
       "      <td>0</td>\n",
       "    </tr>\n",
       "    <tr>\n",
       "      <th>Address Type_Intersection</th>\n",
       "      <td>0</td>\n",
       "      <td>0</td>\n",
       "      <td>0</td>\n",
       "      <td>1</td>\n",
       "      <td>0</td>\n",
       "    </tr>\n",
       "    <tr>\n",
       "      <th>Address Type_Premise Address</th>\n",
       "      <td>1</td>\n",
       "      <td>1</td>\n",
       "      <td>1</td>\n",
       "      <td>0</td>\n",
       "      <td>0</td>\n",
       "    </tr>\n",
       "    <tr>\n",
       "      <th>call_hour_day</th>\n",
       "      <td>0</td>\n",
       "      <td>0</td>\n",
       "      <td>0</td>\n",
       "      <td>0</td>\n",
       "      <td>0</td>\n",
       "    </tr>\n",
       "    <tr>\n",
       "      <th>call_hour_evening</th>\n",
       "      <td>1</td>\n",
       "      <td>1</td>\n",
       "      <td>1</td>\n",
       "      <td>1</td>\n",
       "      <td>1</td>\n",
       "    </tr>\n",
       "    <tr>\n",
       "      <th>call_hour_late_afternoon</th>\n",
       "      <td>0</td>\n",
       "      <td>0</td>\n",
       "      <td>0</td>\n",
       "      <td>0</td>\n",
       "      <td>0</td>\n",
       "    </tr>\n",
       "    <tr>\n",
       "      <th>call_hour_late_night</th>\n",
       "      <td>0</td>\n",
       "      <td>0</td>\n",
       "      <td>0</td>\n",
       "      <td>0</td>\n",
       "      <td>0</td>\n",
       "    </tr>\n",
       "    <tr>\n",
       "      <th>day_of_week_Fri</th>\n",
       "      <td>0</td>\n",
       "      <td>0</td>\n",
       "      <td>0</td>\n",
       "      <td>0</td>\n",
       "      <td>0</td>\n",
       "    </tr>\n",
       "    <tr>\n",
       "      <th>day_of_week_Mon</th>\n",
       "      <td>0</td>\n",
       "      <td>0</td>\n",
       "      <td>0</td>\n",
       "      <td>0</td>\n",
       "      <td>0</td>\n",
       "    </tr>\n",
       "    <tr>\n",
       "      <th>day_of_week_Sat</th>\n",
       "      <td>1</td>\n",
       "      <td>1</td>\n",
       "      <td>1</td>\n",
       "      <td>1</td>\n",
       "      <td>1</td>\n",
       "    </tr>\n",
       "    <tr>\n",
       "      <th>day_of_week_Sun</th>\n",
       "      <td>0</td>\n",
       "      <td>0</td>\n",
       "      <td>0</td>\n",
       "      <td>0</td>\n",
       "      <td>0</td>\n",
       "    </tr>\n",
       "    <tr>\n",
       "      <th>day_of_week_Tue</th>\n",
       "      <td>0</td>\n",
       "      <td>0</td>\n",
       "      <td>0</td>\n",
       "      <td>0</td>\n",
       "      <td>0</td>\n",
       "    </tr>\n",
       "    <tr>\n",
       "      <th>day_of_week_Wed</th>\n",
       "      <td>0</td>\n",
       "      <td>0</td>\n",
       "      <td>0</td>\n",
       "      <td>0</td>\n",
       "      <td>0</td>\n",
       "    </tr>\n",
       "    <tr>\n",
       "      <th>day_of_month_cat_end</th>\n",
       "      <td>1</td>\n",
       "      <td>1</td>\n",
       "      <td>1</td>\n",
       "      <td>1</td>\n",
       "      <td>1</td>\n",
       "    </tr>\n",
       "    <tr>\n",
       "      <th>day_of_month_cat_mid</th>\n",
       "      <td>0</td>\n",
       "      <td>0</td>\n",
       "      <td>0</td>\n",
       "      <td>0</td>\n",
       "      <td>0</td>\n",
       "    </tr>\n",
       "    <tr>\n",
       "      <th>is_Common Location</th>\n",
       "      <td>0</td>\n",
       "      <td>0</td>\n",
       "      <td>0</td>\n",
       "      <td>0</td>\n",
       "      <td>1</td>\n",
       "    </tr>\n",
       "    <tr>\n",
       "      <th>clustering_6d</th>\n",
       "      <td>3</td>\n",
       "      <td>5</td>\n",
       "      <td>3</td>\n",
       "      <td>0</td>\n",
       "      <td>3</td>\n",
       "    </tr>\n",
       "  </tbody>\n",
       "</table>\n",
       "</div>"
      ],
      "text/plain": [
       "                               0  1  2  3  4\n",
       "crime_type_Passing Call        1  0  1  0  1\n",
       "crime_type_Traffic Stop        0  0  0  0  0\n",
       "crime_type_Suspicious Person   0  0  0  0  0\n",
       "crime_type_Homeless Complaint  0  0  0  0  0\n",
       "disposition_HAN                1  0  1  1  1\n",
       "disposition_GOA                0  0  0  0  0\n",
       "disposition_CIT                0  0  0  0  0\n",
       "disposition_ADV                0  0  0  0  0\n",
       "disposition_REP                0  0  0  0  0\n",
       "disposition_Not recorded       0  0  0  0  0\n",
       "Address Type_Geo-Override      0  0  0  0  0\n",
       "Address Type_Intersection      0  0  0  1  0\n",
       "Address Type_Premise Address   1  1  1  0  0\n",
       "call_hour_day                  0  0  0  0  0\n",
       "call_hour_evening              1  1  1  1  1\n",
       "call_hour_late_afternoon       0  0  0  0  0\n",
       "call_hour_late_night           0  0  0  0  0\n",
       "day_of_week_Fri                0  0  0  0  0\n",
       "day_of_week_Mon                0  0  0  0  0\n",
       "day_of_week_Sat                1  1  1  1  1\n",
       "day_of_week_Sun                0  0  0  0  0\n",
       "day_of_week_Tue                0  0  0  0  0\n",
       "day_of_week_Wed                0  0  0  0  0\n",
       "day_of_month_cat_end           1  1  1  1  1\n",
       "day_of_month_cat_mid           0  0  0  0  0\n",
       "is_Common Location             0  0  0  0  1\n",
       "clustering_6d                  3  5  3  0  3"
      ]
     },
     "execution_count": 142,
     "metadata": {},
     "output_type": "execute_result"
    }
   ],
   "source": [
    "calls_fe.head().transpose()"
   ]
  },
  {
   "cell_type": "code",
   "execution_count": 145,
   "metadata": {},
   "outputs": [],
   "source": [
    "def count_rows(x):\n",
    "    return len(x)"
   ]
  },
  {
   "cell_type": "code",
   "execution_count": 147,
   "metadata": {},
   "outputs": [
    {
     "data": {
      "text/plain": [
       "clustering_6d\n",
       "0    0.185986\n",
       "1    0.244617\n",
       "2    0.072642\n",
       "3    0.113140\n",
       "4    0.126771\n",
       "5    0.256845\n",
       "dtype: float64"
      ]
     },
     "execution_count": 147,
     "metadata": {},
     "output_type": "execute_result"
    }
   ],
   "source": [
    "calls_fe.groupby('clustering_6d').apply(count_rows) * 1.0 /calls_fe.shape[0]"
   ]
  },
  {
   "cell_type": "markdown",
   "metadata": {},
   "source": [
    "### Interpretation on Kmeans clusters for calls"
   ]
  },
  {
   "cell_type": "code",
   "execution_count": 148,
   "metadata": {},
   "outputs": [],
   "source": [
    "scaled_centers = pcd.inverse_transform(centers)"
   ]
  },
  {
   "cell_type": "code",
   "execution_count": 149,
   "metadata": {},
   "outputs": [],
   "source": [
    "scaler = StandardScaler().fit(calls_fe.iloc[:,:-1])"
   ]
  },
  {
   "cell_type": "code",
   "execution_count": 150,
   "metadata": {},
   "outputs": [],
   "source": [
    "engineered_centers = scaler.inverse_transform(scaled_centers)"
   ]
  },
  {
   "cell_type": "code",
   "execution_count": 152,
   "metadata": {},
   "outputs": [],
   "source": [
    "center_person = pd.DataFrame(engineered_centers,columns=calls_fe.columns[:-1])"
   ]
  },
  {
   "cell_type": "code",
   "execution_count": 154,
   "metadata": {},
   "outputs": [
    {
     "data": {
      "text/html": [
       "<div>\n",
       "<style scoped>\n",
       "    .dataframe tbody tr th:only-of-type {\n",
       "        vertical-align: middle;\n",
       "    }\n",
       "\n",
       "    .dataframe tbody tr th {\n",
       "        vertical-align: top;\n",
       "    }\n",
       "\n",
       "    .dataframe thead th {\n",
       "        text-align: right;\n",
       "    }\n",
       "</style>\n",
       "<table border=\"1\" class=\"dataframe\">\n",
       "  <thead>\n",
       "    <tr style=\"text-align: right;\">\n",
       "      <th></th>\n",
       "      <th>0</th>\n",
       "      <th>1</th>\n",
       "      <th>2</th>\n",
       "      <th>3</th>\n",
       "      <th>4</th>\n",
       "      <th>5</th>\n",
       "    </tr>\n",
       "  </thead>\n",
       "  <tbody>\n",
       "    <tr>\n",
       "      <th>crime_type_Passing Call</th>\n",
       "      <td>0.049870</td>\n",
       "      <td>0.022890</td>\n",
       "      <td>-0.024252</td>\n",
       "      <td>0.684263</td>\n",
       "      <td>0.459086</td>\n",
       "      <td>-0.004575</td>\n",
       "    </tr>\n",
       "    <tr>\n",
       "      <th>crime_type_Traffic Stop</th>\n",
       "      <td>0.173711</td>\n",
       "      <td>0.019736</td>\n",
       "      <td>0.781735</td>\n",
       "      <td>-0.033396</td>\n",
       "      <td>0.038604</td>\n",
       "      <td>-0.005178</td>\n",
       "    </tr>\n",
       "    <tr>\n",
       "      <th>crime_type_Suspicious Person</th>\n",
       "      <td>0.183270</td>\n",
       "      <td>0.039682</td>\n",
       "      <td>-0.039690</td>\n",
       "      <td>-0.039764</td>\n",
       "      <td>0.061427</td>\n",
       "      <td>0.022030</td>\n",
       "    </tr>\n",
       "    <tr>\n",
       "      <th>crime_type_Homeless Complaint</th>\n",
       "      <td>0.180555</td>\n",
       "      <td>0.065729</td>\n",
       "      <td>-0.083268</td>\n",
       "      <td>0.024114</td>\n",
       "      <td>-0.023648</td>\n",
       "      <td>0.013683</td>\n",
       "    </tr>\n",
       "    <tr>\n",
       "      <th>disposition_HAN</th>\n",
       "      <td>0.224684</td>\n",
       "      <td>0.192691</td>\n",
       "      <td>0.061772</td>\n",
       "      <td>0.922535</td>\n",
       "      <td>0.214140</td>\n",
       "      <td>0.223577</td>\n",
       "    </tr>\n",
       "    <tr>\n",
       "      <th>disposition_GOA</th>\n",
       "      <td>0.112442</td>\n",
       "      <td>0.227826</td>\n",
       "      <td>-0.082235</td>\n",
       "      <td>-0.084988</td>\n",
       "      <td>0.080706</td>\n",
       "      <td>0.226396</td>\n",
       "    </tr>\n",
       "    <tr>\n",
       "      <th>disposition_CIT</th>\n",
       "      <td>0.039145</td>\n",
       "      <td>0.135853</td>\n",
       "      <td>0.812631</td>\n",
       "      <td>-0.066847</td>\n",
       "      <td>0.023493</td>\n",
       "      <td>0.082508</td>\n",
       "    </tr>\n",
       "    <tr>\n",
       "      <th>disposition_ADV</th>\n",
       "      <td>0.432617</td>\n",
       "      <td>0.051579</td>\n",
       "      <td>0.044958</td>\n",
       "      <td>-0.054128</td>\n",
       "      <td>0.030024</td>\n",
       "      <td>0.034727</td>\n",
       "    </tr>\n",
       "    <tr>\n",
       "      <th>disposition_REP</th>\n",
       "      <td>0.006431</td>\n",
       "      <td>0.137535</td>\n",
       "      <td>0.050057</td>\n",
       "      <td>-0.008696</td>\n",
       "      <td>0.095272</td>\n",
       "      <td>0.121577</td>\n",
       "    </tr>\n",
       "    <tr>\n",
       "      <th>disposition_Not recorded</th>\n",
       "      <td>0.028999</td>\n",
       "      <td>0.007063</td>\n",
       "      <td>-0.004633</td>\n",
       "      <td>0.185982</td>\n",
       "      <td>0.419431</td>\n",
       "      <td>-0.001784</td>\n",
       "    </tr>\n",
       "    <tr>\n",
       "      <th>Address Type_Geo-Override</th>\n",
       "      <td>0.033124</td>\n",
       "      <td>0.020019</td>\n",
       "      <td>-0.036350</td>\n",
       "      <td>0.202411</td>\n",
       "      <td>0.091088</td>\n",
       "      <td>0.004391</td>\n",
       "    </tr>\n",
       "    <tr>\n",
       "      <th>Address Type_Intersection</th>\n",
       "      <td>0.783951</td>\n",
       "      <td>0.015249</td>\n",
       "      <td>1.058416</td>\n",
       "      <td>0.271341</td>\n",
       "      <td>0.551396</td>\n",
       "      <td>0.059571</td>\n",
       "    </tr>\n",
       "    <tr>\n",
       "      <th>Address Type_Premise Address</th>\n",
       "      <td>0.167719</td>\n",
       "      <td>0.896397</td>\n",
       "      <td>0.015678</td>\n",
       "      <td>0.119443</td>\n",
       "      <td>0.047509</td>\n",
       "      <td>0.914845</td>\n",
       "    </tr>\n",
       "    <tr>\n",
       "      <th>call_hour_day</th>\n",
       "      <td>0.450727</td>\n",
       "      <td>0.976547</td>\n",
       "      <td>0.529542</td>\n",
       "      <td>0.580465</td>\n",
       "      <td>0.153373</td>\n",
       "      <td>0.026591</td>\n",
       "    </tr>\n",
       "    <tr>\n",
       "      <th>call_hour_evening</th>\n",
       "      <td>0.172886</td>\n",
       "      <td>-0.025425</td>\n",
       "      <td>0.243535</td>\n",
       "      <td>0.260219</td>\n",
       "      <td>-0.041218</td>\n",
       "      <td>0.376132</td>\n",
       "    </tr>\n",
       "    <tr>\n",
       "      <th>call_hour_late_afternoon</th>\n",
       "      <td>0.134742</td>\n",
       "      <td>-0.000382</td>\n",
       "      <td>0.267323</td>\n",
       "      <td>0.024170</td>\n",
       "      <td>0.800180</td>\n",
       "      <td>0.383483</td>\n",
       "    </tr>\n",
       "    <tr>\n",
       "      <th>call_hour_late_night</th>\n",
       "      <td>0.205523</td>\n",
       "      <td>0.028002</td>\n",
       "      <td>-0.067684</td>\n",
       "      <td>0.109515</td>\n",
       "      <td>0.057976</td>\n",
       "      <td>0.180286</td>\n",
       "    </tr>\n",
       "    <tr>\n",
       "      <th>day_of_week_Fri</th>\n",
       "      <td>0.120367</td>\n",
       "      <td>0.119807</td>\n",
       "      <td>0.208093</td>\n",
       "      <td>0.219018</td>\n",
       "      <td>0.055151</td>\n",
       "      <td>0.182884</td>\n",
       "    </tr>\n",
       "    <tr>\n",
       "      <th>day_of_week_Mon</th>\n",
       "      <td>0.144085</td>\n",
       "      <td>0.149279</td>\n",
       "      <td>0.153879</td>\n",
       "      <td>0.113357</td>\n",
       "      <td>0.169858</td>\n",
       "      <td>0.126733</td>\n",
       "    </tr>\n",
       "    <tr>\n",
       "      <th>day_of_week_Sat</th>\n",
       "      <td>0.131648</td>\n",
       "      <td>0.130552</td>\n",
       "      <td>0.084207</td>\n",
       "      <td>0.122857</td>\n",
       "      <td>0.161662</td>\n",
       "      <td>0.176256</td>\n",
       "    </tr>\n",
       "    <tr>\n",
       "      <th>day_of_week_Sun</th>\n",
       "      <td>0.147611</td>\n",
       "      <td>0.118211</td>\n",
       "      <td>0.053694</td>\n",
       "      <td>0.106290</td>\n",
       "      <td>0.173679</td>\n",
       "      <td>0.149337</td>\n",
       "    </tr>\n",
       "    <tr>\n",
       "      <th>day_of_week_Tue</th>\n",
       "      <td>0.163781</td>\n",
       "      <td>0.149962</td>\n",
       "      <td>0.137381</td>\n",
       "      <td>0.126984</td>\n",
       "      <td>0.158665</td>\n",
       "      <td>0.128522</td>\n",
       "    </tr>\n",
       "    <tr>\n",
       "      <th>day_of_week_Wed</th>\n",
       "      <td>0.145539</td>\n",
       "      <td>0.185469</td>\n",
       "      <td>0.214129</td>\n",
       "      <td>0.161718</td>\n",
       "      <td>0.140435</td>\n",
       "      <td>0.095046</td>\n",
       "    </tr>\n",
       "    <tr>\n",
       "      <th>day_of_month_cat_end</th>\n",
       "      <td>0.348985</td>\n",
       "      <td>0.350141</td>\n",
       "      <td>0.346263</td>\n",
       "      <td>0.348777</td>\n",
       "      <td>0.330170</td>\n",
       "      <td>0.317897</td>\n",
       "    </tr>\n",
       "    <tr>\n",
       "      <th>day_of_month_cat_mid</th>\n",
       "      <td>0.352580</td>\n",
       "      <td>0.352590</td>\n",
       "      <td>0.359598</td>\n",
       "      <td>0.351859</td>\n",
       "      <td>0.376046</td>\n",
       "      <td>0.378119</td>\n",
       "    </tr>\n",
       "    <tr>\n",
       "      <th>is_Common Location</th>\n",
       "      <td>0.015206</td>\n",
       "      <td>0.068334</td>\n",
       "      <td>-0.037744</td>\n",
       "      <td>0.406805</td>\n",
       "      <td>0.310006</td>\n",
       "      <td>0.021192</td>\n",
       "    </tr>\n",
       "  </tbody>\n",
       "</table>\n",
       "</div>"
      ],
      "text/plain": [
       "                                      0         1         2         3  \\\n",
       "crime_type_Passing Call        0.049870  0.022890 -0.024252  0.684263   \n",
       "crime_type_Traffic Stop        0.173711  0.019736  0.781735 -0.033396   \n",
       "crime_type_Suspicious Person   0.183270  0.039682 -0.039690 -0.039764   \n",
       "crime_type_Homeless Complaint  0.180555  0.065729 -0.083268  0.024114   \n",
       "disposition_HAN                0.224684  0.192691  0.061772  0.922535   \n",
       "disposition_GOA                0.112442  0.227826 -0.082235 -0.084988   \n",
       "disposition_CIT                0.039145  0.135853  0.812631 -0.066847   \n",
       "disposition_ADV                0.432617  0.051579  0.044958 -0.054128   \n",
       "disposition_REP                0.006431  0.137535  0.050057 -0.008696   \n",
       "disposition_Not recorded       0.028999  0.007063 -0.004633  0.185982   \n",
       "Address Type_Geo-Override      0.033124  0.020019 -0.036350  0.202411   \n",
       "Address Type_Intersection      0.783951  0.015249  1.058416  0.271341   \n",
       "Address Type_Premise Address   0.167719  0.896397  0.015678  0.119443   \n",
       "call_hour_day                  0.450727  0.976547  0.529542  0.580465   \n",
       "call_hour_evening              0.172886 -0.025425  0.243535  0.260219   \n",
       "call_hour_late_afternoon       0.134742 -0.000382  0.267323  0.024170   \n",
       "call_hour_late_night           0.205523  0.028002 -0.067684  0.109515   \n",
       "day_of_week_Fri                0.120367  0.119807  0.208093  0.219018   \n",
       "day_of_week_Mon                0.144085  0.149279  0.153879  0.113357   \n",
       "day_of_week_Sat                0.131648  0.130552  0.084207  0.122857   \n",
       "day_of_week_Sun                0.147611  0.118211  0.053694  0.106290   \n",
       "day_of_week_Tue                0.163781  0.149962  0.137381  0.126984   \n",
       "day_of_week_Wed                0.145539  0.185469  0.214129  0.161718   \n",
       "day_of_month_cat_end           0.348985  0.350141  0.346263  0.348777   \n",
       "day_of_month_cat_mid           0.352580  0.352590  0.359598  0.351859   \n",
       "is_Common Location             0.015206  0.068334 -0.037744  0.406805   \n",
       "\n",
       "                                      4         5  \n",
       "crime_type_Passing Call        0.459086 -0.004575  \n",
       "crime_type_Traffic Stop        0.038604 -0.005178  \n",
       "crime_type_Suspicious Person   0.061427  0.022030  \n",
       "crime_type_Homeless Complaint -0.023648  0.013683  \n",
       "disposition_HAN                0.214140  0.223577  \n",
       "disposition_GOA                0.080706  0.226396  \n",
       "disposition_CIT                0.023493  0.082508  \n",
       "disposition_ADV                0.030024  0.034727  \n",
       "disposition_REP                0.095272  0.121577  \n",
       "disposition_Not recorded       0.419431 -0.001784  \n",
       "Address Type_Geo-Override      0.091088  0.004391  \n",
       "Address Type_Intersection      0.551396  0.059571  \n",
       "Address Type_Premise Address   0.047509  0.914845  \n",
       "call_hour_day                  0.153373  0.026591  \n",
       "call_hour_evening             -0.041218  0.376132  \n",
       "call_hour_late_afternoon       0.800180  0.383483  \n",
       "call_hour_late_night           0.057976  0.180286  \n",
       "day_of_week_Fri                0.055151  0.182884  \n",
       "day_of_week_Mon                0.169858  0.126733  \n",
       "day_of_week_Sat                0.161662  0.176256  \n",
       "day_of_week_Sun                0.173679  0.149337  \n",
       "day_of_week_Tue                0.158665  0.128522  \n",
       "day_of_week_Wed                0.140435  0.095046  \n",
       "day_of_month_cat_end           0.330170  0.317897  \n",
       "day_of_month_cat_mid           0.376046  0.378119  \n",
       "is_Common Location             0.310006  0.021192  "
      ]
     },
     "execution_count": 154,
     "metadata": {},
     "output_type": "execute_result"
    }
   ],
   "source": [
    "center_person.transpose()"
   ]
  },
  {
   "cell_type": "markdown",
   "metadata": {},
   "source": [
    "# Incidents Data"
   ]
  },
  {
   "cell_type": "code",
   "execution_count": 156,
   "metadata": {},
   "outputs": [
    {
     "name": "stdout",
     "output_type": "stream",
     "text": [
      "(2215024, 13)\n"
     ]
    },
    {
     "data": {
      "text/html": [
       "<div>\n",
       "<style scoped>\n",
       "    .dataframe tbody tr th:only-of-type {\n",
       "        vertical-align: middle;\n",
       "    }\n",
       "\n",
       "    .dataframe tbody tr th {\n",
       "        vertical-align: top;\n",
       "    }\n",
       "\n",
       "    .dataframe thead th {\n",
       "        text-align: right;\n",
       "    }\n",
       "</style>\n",
       "<table border=\"1\" class=\"dataframe\">\n",
       "  <thead>\n",
       "    <tr style=\"text-align: right;\">\n",
       "      <th></th>\n",
       "      <th>IncidntNum</th>\n",
       "      <th>Category</th>\n",
       "      <th>Descript</th>\n",
       "      <th>DayOfWeek</th>\n",
       "      <th>Date</th>\n",
       "      <th>Time</th>\n",
       "      <th>PdDistrict</th>\n",
       "      <th>Resolution</th>\n",
       "      <th>Address</th>\n",
       "      <th>X</th>\n",
       "      <th>Y</th>\n",
       "      <th>Location</th>\n",
       "      <th>PdId</th>\n",
       "    </tr>\n",
       "  </thead>\n",
       "  <tbody>\n",
       "    <tr>\n",
       "      <th>0</th>\n",
       "      <td>180362289</td>\n",
       "      <td>VEHICLE THEFT</td>\n",
       "      <td>STOLEN MOTORCYCLE</td>\n",
       "      <td>Tuesday</td>\n",
       "      <td>2018-05-15</td>\n",
       "      <td>10:30</td>\n",
       "      <td>SOUTHERN</td>\n",
       "      <td>NONE</td>\n",
       "      <td>700 Block of TEHAMA ST</td>\n",
       "      <td>-122.411912</td>\n",
       "      <td>37.775207</td>\n",
       "      <td>{'type': 'Point', 'coordinates': [-122.4119120...</td>\n",
       "      <td>18036228907023</td>\n",
       "    </tr>\n",
       "    <tr>\n",
       "      <th>1</th>\n",
       "      <td>180360948</td>\n",
       "      <td>NON-CRIMINAL</td>\n",
       "      <td>AIDED CASE, MENTAL DISTURBED</td>\n",
       "      <td>Tuesday</td>\n",
       "      <td>2018-05-15</td>\n",
       "      <td>04:14</td>\n",
       "      <td>SOUTHERN</td>\n",
       "      <td>NONE</td>\n",
       "      <td>MARKET ST / SOUTH VAN NESS AV</td>\n",
       "      <td>-122.419258</td>\n",
       "      <td>37.775146</td>\n",
       "      <td>{'type': 'Point', 'coordinates': [-122.4192578...</td>\n",
       "      <td>18036094864020</td>\n",
       "    </tr>\n",
       "    <tr>\n",
       "      <th>2</th>\n",
       "      <td>180360879</td>\n",
       "      <td>OTHER OFFENSES</td>\n",
       "      <td>PAROLE VIOLATION</td>\n",
       "      <td>Tuesday</td>\n",
       "      <td>2018-05-15</td>\n",
       "      <td>02:01</td>\n",
       "      <td>MISSION</td>\n",
       "      <td>ARREST, BOOKED</td>\n",
       "      <td>CAPP ST / 21ST ST</td>\n",
       "      <td>-122.417813</td>\n",
       "      <td>37.757101</td>\n",
       "      <td>{'type': 'Point', 'coordinates': [-122.4178125...</td>\n",
       "      <td>18036087926150</td>\n",
       "    </tr>\n",
       "    <tr>\n",
       "      <th>3</th>\n",
       "      <td>180360879</td>\n",
       "      <td>OTHER OFFENSES</td>\n",
       "      <td>TRAFFIC VIOLATION ARREST</td>\n",
       "      <td>Tuesday</td>\n",
       "      <td>2018-05-15</td>\n",
       "      <td>02:01</td>\n",
       "      <td>MISSION</td>\n",
       "      <td>ARREST, BOOKED</td>\n",
       "      <td>CAPP ST / 21ST ST</td>\n",
       "      <td>-122.417813</td>\n",
       "      <td>37.757101</td>\n",
       "      <td>{'type': 'Point', 'coordinates': [-122.4178125...</td>\n",
       "      <td>18036087965010</td>\n",
       "    </tr>\n",
       "    <tr>\n",
       "      <th>4</th>\n",
       "      <td>180360879</td>\n",
       "      <td>OTHER OFFENSES</td>\n",
       "      <td>TRAFFIC VIOLATION</td>\n",
       "      <td>Tuesday</td>\n",
       "      <td>2018-05-15</td>\n",
       "      <td>02:01</td>\n",
       "      <td>MISSION</td>\n",
       "      <td>ARREST, BOOKED</td>\n",
       "      <td>CAPP ST / 21ST ST</td>\n",
       "      <td>-122.417813</td>\n",
       "      <td>37.757101</td>\n",
       "      <td>{'type': 'Point', 'coordinates': [-122.4178125...</td>\n",
       "      <td>18036087965015</td>\n",
       "    </tr>\n",
       "  </tbody>\n",
       "</table>\n",
       "</div>"
      ],
      "text/plain": [
       "   IncidntNum        Category                      Descript DayOfWeek  \\\n",
       "0   180362289   VEHICLE THEFT             STOLEN MOTORCYCLE   Tuesday   \n",
       "1   180360948    NON-CRIMINAL  AIDED CASE, MENTAL DISTURBED   Tuesday   \n",
       "2   180360879  OTHER OFFENSES              PAROLE VIOLATION   Tuesday   \n",
       "3   180360879  OTHER OFFENSES      TRAFFIC VIOLATION ARREST   Tuesday   \n",
       "4   180360879  OTHER OFFENSES             TRAFFIC VIOLATION   Tuesday   \n",
       "\n",
       "        Date   Time PdDistrict      Resolution                        Address  \\\n",
       "0 2018-05-15  10:30   SOUTHERN            NONE         700 Block of TEHAMA ST   \n",
       "1 2018-05-15  04:14   SOUTHERN            NONE  MARKET ST / SOUTH VAN NESS AV   \n",
       "2 2018-05-15  02:01    MISSION  ARREST, BOOKED              CAPP ST / 21ST ST   \n",
       "3 2018-05-15  02:01    MISSION  ARREST, BOOKED              CAPP ST / 21ST ST   \n",
       "4 2018-05-15  02:01    MISSION  ARREST, BOOKED              CAPP ST / 21ST ST   \n",
       "\n",
       "            X          Y                                           Location  \\\n",
       "0 -122.411912  37.775207  {'type': 'Point', 'coordinates': [-122.4119120...   \n",
       "1 -122.419258  37.775146  {'type': 'Point', 'coordinates': [-122.4192578...   \n",
       "2 -122.417813  37.757101  {'type': 'Point', 'coordinates': [-122.4178125...   \n",
       "3 -122.417813  37.757101  {'type': 'Point', 'coordinates': [-122.4178125...   \n",
       "4 -122.417813  37.757101  {'type': 'Point', 'coordinates': [-122.4178125...   \n",
       "\n",
       "             PdId  \n",
       "0  18036228907023  \n",
       "1  18036094864020  \n",
       "2  18036087926150  \n",
       "3  18036087965010  \n",
       "4  18036087965015  "
      ]
     },
     "execution_count": 156,
     "metadata": {},
     "output_type": "execute_result"
    }
   ],
   "source": [
    "incidents = pd.read_csv('police-department-incidents.csv',parse_dates=['Date'])\n",
    "\n",
    "print(incidents.shape)\n",
    "\n",
    "incidents.head()"
   ]
  },
  {
   "cell_type": "code",
   "execution_count": 157,
   "metadata": {},
   "outputs": [],
   "source": [
    "incidents['year'] = incidents['Date'].apply(lambda x: x.year)\n",
    "\n",
    "incidents['month'] = incidents['Date'].apply(lambda x: x.month)\n",
    "\n",
    "incidents['day_of_month'] = incidents['Date'].apply(lambda x: x.day)\n",
    "\n",
    "incidents['hour'] = incidents['Time'].apply(lambda x: pd.to_datetime(x, format='%H:%M').hour)"
   ]
  },
  {
   "cell_type": "code",
   "execution_count": 292,
   "metadata": {},
   "outputs": [],
   "source": [
    "from uszipcode import Zipcode"
   ]
  },
  {
   "cell_type": "code",
   "execution_count": 295,
   "metadata": {},
   "outputs": [],
   "source": [
    "from uszipcode import SearchEngine"
   ]
  },
  {
   "cell_type": "code",
   "execution_count": 297,
   "metadata": {
    "collapsed": true
   },
   "outputs": [
    {
     "name": "stdout",
     "output_type": "stream",
     "text": [
      "Start downloading data for rich info zipcode database, total size 450+MB ...\n",
      "  10 MB finished ...\n",
      "  20 MB finished ...\n",
      "  30 MB finished ...\n",
      "  40 MB finished ...\n",
      "  50 MB finished ...\n",
      "  60 MB finished ...\n",
      "  70 MB finished ...\n",
      "  80 MB finished ...\n",
      "  90 MB finished ...\n",
      "  100 MB finished ...\n",
      "  110 MB finished ...\n",
      "  120 MB finished ...\n",
      "  130 MB finished ...\n",
      "  140 MB finished ...\n",
      "  150 MB finished ...\n",
      "  160 MB finished ...\n",
      "  170 MB finished ...\n",
      "  180 MB finished ...\n",
      "  190 MB finished ...\n",
      "  200 MB finished ...\n",
      "  210 MB finished ...\n",
      "  220 MB finished ...\n",
      "  230 MB finished ...\n",
      "  240 MB finished ...\n",
      "  250 MB finished ...\n",
      "  260 MB finished ...\n",
      "  270 MB finished ...\n",
      "  280 MB finished ...\n",
      "  290 MB finished ...\n",
      "  300 MB finished ...\n",
      "  310 MB finished ...\n",
      "  320 MB finished ...\n",
      "  330 MB finished ...\n",
      "  340 MB finished ...\n",
      "  350 MB finished ...\n",
      "  360 MB finished ...\n",
      "  370 MB finished ...\n",
      "  380 MB finished ...\n",
      "  390 MB finished ...\n",
      "  400 MB finished ...\n",
      "  410 MB finished ...\n",
      "  420 MB finished ...\n",
      "  430 MB finished ...\n",
      "  440 MB finished ...\n",
      "  Complete!\n"
     ]
    }
   ],
   "source": [
    "search = SearchEngine(simple_zipcode=False)"
   ]
  },
  {
   "cell_type": "code",
   "execution_count": 300,
   "metadata": {},
   "outputs": [],
   "source": [
    "results = search.by_coordinates(39.122229, -77.133578, radius=30, returns=5)"
   ]
  },
  {
   "cell_type": "code",
   "execution_count": 301,
   "metadata": {},
   "outputs": [],
   "source": [
    "import geopy"
   ]
  },
  {
   "cell_type": "code",
   "execution_count": 316,
   "metadata": {},
   "outputs": [],
   "source": [
    "from geopy.point import Point"
   ]
  },
  {
   "cell_type": "code",
   "execution_count": null,
   "metadata": {},
   "outputs": [],
   "source": []
  },
  {
   "cell_type": "code",
   "execution_count": 377,
   "metadata": {},
   "outputs": [],
   "source": [
    "def get_zipcode(df, geolocator, lat_field, lon_field):\n",
    "    location = geolocator.reverse(Point(df[lat_field], df[lon_field]))\n",
    "    if 'postcode' in list(location.raw['address'].keys()):\n",
    "        return location.raw['address']['postcode']\n",
    "    else:\n",
    "        return 'NA'"
   ]
  },
  {
   "cell_type": "code",
   "execution_count": 375,
   "metadata": {},
   "outputs": [],
   "source": [
    "geolocator = geopy.Nominatim(user_agent='my-application',timeout = 100)"
   ]
  },
  {
   "cell_type": "code",
   "execution_count": 341,
   "metadata": {},
   "outputs": [],
   "source": [
    "zipcodes = df.apply(get_zipcode, axis=1, geolocator=geolocator, lat_field='Lat', lon_field='Lon')"
   ]
  },
  {
   "cell_type": "code",
   "execution_count": 343,
   "metadata": {},
   "outputs": [
    {
     "data": {
      "text/plain": [
       "{'amenity': 'Burbank High School',\n",
       " 'road': 'Fairmont',\n",
       " 'neighbourhood': 'Blue Star',\n",
       " 'city': 'San Antonio',\n",
       " 'county': 'Bexar County',\n",
       " 'state': 'Texas',\n",
       " 'postcode': '78204',\n",
       " 'country': 'United States of America',\n",
       " 'country_code': 'us'}"
      ]
     },
     "execution_count": 343,
     "metadata": {},
     "output_type": "execute_result"
    }
   ],
   "source": []
  },
  {
   "cell_type": "code",
   "execution_count": 324,
   "metadata": {},
   "outputs": [],
   "source": [
    "zipcodes_csv = pd.read_csv('zipcode.csv')"
   ]
  },
  {
   "cell_type": "code",
   "execution_count": 325,
   "metadata": {},
   "outputs": [
    {
     "data": {
      "text/html": [
       "<div>\n",
       "<style scoped>\n",
       "    .dataframe tbody tr th:only-of-type {\n",
       "        vertical-align: middle;\n",
       "    }\n",
       "\n",
       "    .dataframe tbody tr th {\n",
       "        vertical-align: top;\n",
       "    }\n",
       "\n",
       "    .dataframe thead th {\n",
       "        text-align: right;\n",
       "    }\n",
       "</style>\n",
       "<table border=\"1\" class=\"dataframe\">\n",
       "  <thead>\n",
       "    <tr style=\"text-align: right;\">\n",
       "      <th></th>\n",
       "      <th>ZIP</th>\n",
       "      <th>LAT</th>\n",
       "      <th>LNG</th>\n",
       "    </tr>\n",
       "  </thead>\n",
       "  <tbody>\n",
       "    <tr>\n",
       "      <th>0</th>\n",
       "      <td>601</td>\n",
       "      <td>18.180555</td>\n",
       "      <td>-66.749961</td>\n",
       "    </tr>\n",
       "    <tr>\n",
       "      <th>1</th>\n",
       "      <td>602</td>\n",
       "      <td>18.361945</td>\n",
       "      <td>-67.175597</td>\n",
       "    </tr>\n",
       "    <tr>\n",
       "      <th>2</th>\n",
       "      <td>603</td>\n",
       "      <td>18.455183</td>\n",
       "      <td>-67.119887</td>\n",
       "    </tr>\n",
       "    <tr>\n",
       "      <th>3</th>\n",
       "      <td>606</td>\n",
       "      <td>18.158345</td>\n",
       "      <td>-66.932911</td>\n",
       "    </tr>\n",
       "    <tr>\n",
       "      <th>4</th>\n",
       "      <td>610</td>\n",
       "      <td>18.295366</td>\n",
       "      <td>-67.125135</td>\n",
       "    </tr>\n",
       "  </tbody>\n",
       "</table>\n",
       "</div>"
      ],
      "text/plain": [
       "   ZIP        LAT        LNG\n",
       "0  601  18.180555 -66.749961\n",
       "1  602  18.361945 -67.175597\n",
       "2  603  18.455183 -67.119887\n",
       "3  606  18.158345 -66.932911\n",
       "4  610  18.295366 -67.125135"
      ]
     },
     "execution_count": 325,
     "metadata": {},
     "output_type": "execute_result"
    }
   ],
   "source": [
    "zipcodes_csv.head()"
   ]
  },
  {
   "cell_type": "code",
   "execution_count": 357,
   "metadata": {},
   "outputs": [],
   "source": [
    "t = zipcodes_csv[zipcodes_csv['LNG'] < -122.36]"
   ]
  },
  {
   "cell_type": "code",
   "execution_count": 366,
   "metadata": {},
   "outputs": [],
   "source": [
    "sf_zipcodes = t[t['LAT'] > 37.7][t[t['LAT'] > 37.7]['LAT']<37.84]"
   ]
  },
  {
   "cell_type": "code",
   "execution_count": 369,
   "metadata": {},
   "outputs": [
    {
     "data": {
      "text/plain": [
       "-122.494707"
      ]
     },
     "execution_count": 369,
     "metadata": {},
     "output_type": "execute_result"
    }
   ],
   "source": [
    "sf_zipcodes['LNG'].min()"
   ]
  },
  {
   "cell_type": "code",
   "execution_count": 372,
   "metadata": {},
   "outputs": [
    {
     "data": {
      "text/html": [
       "<div>\n",
       "<style scoped>\n",
       "    .dataframe tbody tr th:only-of-type {\n",
       "        vertical-align: middle;\n",
       "    }\n",
       "\n",
       "    .dataframe tbody tr th {\n",
       "        vertical-align: top;\n",
       "    }\n",
       "\n",
       "    .dataframe thead th {\n",
       "        text-align: right;\n",
       "    }\n",
       "</style>\n",
       "<table border=\"1\" class=\"dataframe\">\n",
       "  <thead>\n",
       "    <tr style=\"text-align: right;\">\n",
       "      <th></th>\n",
       "      <th>ZIP</th>\n",
       "      <th>LAT</th>\n",
       "      <th>LNG</th>\n",
       "    </tr>\n",
       "  </thead>\n",
       "  <tbody>\n",
       "    <tr>\n",
       "      <th>30987</th>\n",
       "      <td>94102</td>\n",
       "      <td>37.779588</td>\n",
       "      <td>-122.419318</td>\n",
       "    </tr>\n",
       "    <tr>\n",
       "      <th>30988</th>\n",
       "      <td>94103</td>\n",
       "      <td>37.773134</td>\n",
       "      <td>-122.411167</td>\n",
       "    </tr>\n",
       "    <tr>\n",
       "      <th>30989</th>\n",
       "      <td>94104</td>\n",
       "      <td>37.791409</td>\n",
       "      <td>-122.402130</td>\n",
       "    </tr>\n",
       "    <tr>\n",
       "      <th>30990</th>\n",
       "      <td>94105</td>\n",
       "      <td>37.789864</td>\n",
       "      <td>-122.393665</td>\n",
       "    </tr>\n",
       "    <tr>\n",
       "      <th>30991</th>\n",
       "      <td>94107</td>\n",
       "      <td>37.760460</td>\n",
       "      <td>-122.399724</td>\n",
       "    </tr>\n",
       "    <tr>\n",
       "      <th>30992</th>\n",
       "      <td>94108</td>\n",
       "      <td>37.792007</td>\n",
       "      <td>-122.408575</td>\n",
       "    </tr>\n",
       "    <tr>\n",
       "      <th>30993</th>\n",
       "      <td>94109</td>\n",
       "      <td>37.795388</td>\n",
       "      <td>-122.422453</td>\n",
       "    </tr>\n",
       "    <tr>\n",
       "      <th>30994</th>\n",
       "      <td>94110</td>\n",
       "      <td>37.750021</td>\n",
       "      <td>-122.415201</td>\n",
       "    </tr>\n",
       "    <tr>\n",
       "      <th>30995</th>\n",
       "      <td>94111</td>\n",
       "      <td>37.799367</td>\n",
       "      <td>-122.398407</td>\n",
       "    </tr>\n",
       "    <tr>\n",
       "      <th>30996</th>\n",
       "      <td>94112</td>\n",
       "      <td>37.720375</td>\n",
       "      <td>-122.442950</td>\n",
       "    </tr>\n",
       "    <tr>\n",
       "      <th>30997</th>\n",
       "      <td>94114</td>\n",
       "      <td>37.758057</td>\n",
       "      <td>-122.435410</td>\n",
       "    </tr>\n",
       "    <tr>\n",
       "      <th>30998</th>\n",
       "      <td>94115</td>\n",
       "      <td>37.785969</td>\n",
       "      <td>-122.437253</td>\n",
       "    </tr>\n",
       "    <tr>\n",
       "      <th>30999</th>\n",
       "      <td>94116</td>\n",
       "      <td>37.745399</td>\n",
       "      <td>-122.486065</td>\n",
       "    </tr>\n",
       "    <tr>\n",
       "      <th>31000</th>\n",
       "      <td>94117</td>\n",
       "      <td>37.769436</td>\n",
       "      <td>-122.447662</td>\n",
       "    </tr>\n",
       "    <tr>\n",
       "      <th>31001</th>\n",
       "      <td>94118</td>\n",
       "      <td>37.780097</td>\n",
       "      <td>-122.462605</td>\n",
       "    </tr>\n",
       "    <tr>\n",
       "      <th>31002</th>\n",
       "      <td>94121</td>\n",
       "      <td>37.776769</td>\n",
       "      <td>-122.494707</td>\n",
       "    </tr>\n",
       "    <tr>\n",
       "      <th>31003</th>\n",
       "      <td>94122</td>\n",
       "      <td>37.758797</td>\n",
       "      <td>-122.485128</td>\n",
       "    </tr>\n",
       "    <tr>\n",
       "      <th>31004</th>\n",
       "      <td>94123</td>\n",
       "      <td>37.800934</td>\n",
       "      <td>-122.438366</td>\n",
       "    </tr>\n",
       "    <tr>\n",
       "      <th>31005</th>\n",
       "      <td>94124</td>\n",
       "      <td>37.728895</td>\n",
       "      <td>-122.382779</td>\n",
       "    </tr>\n",
       "    <tr>\n",
       "      <th>31006</th>\n",
       "      <td>94127</td>\n",
       "      <td>37.736220</td>\n",
       "      <td>-122.459338</td>\n",
       "    </tr>\n",
       "    <tr>\n",
       "      <th>31008</th>\n",
       "      <td>94129</td>\n",
       "      <td>37.797336</td>\n",
       "      <td>-122.464462</td>\n",
       "    </tr>\n",
       "    <tr>\n",
       "      <th>31009</th>\n",
       "      <td>94130</td>\n",
       "      <td>37.820661</td>\n",
       "      <td>-122.369655</td>\n",
       "    </tr>\n",
       "    <tr>\n",
       "      <th>31010</th>\n",
       "      <td>94131</td>\n",
       "      <td>37.745916</td>\n",
       "      <td>-122.441472</td>\n",
       "    </tr>\n",
       "    <tr>\n",
       "      <th>31011</th>\n",
       "      <td>94132</td>\n",
       "      <td>37.722220</td>\n",
       "      <td>-122.484077</td>\n",
       "    </tr>\n",
       "    <tr>\n",
       "      <th>31012</th>\n",
       "      <td>94133</td>\n",
       "      <td>37.804531</td>\n",
       "      <td>-122.410852</td>\n",
       "    </tr>\n",
       "    <tr>\n",
       "      <th>31013</th>\n",
       "      <td>94134</td>\n",
       "      <td>37.721052</td>\n",
       "      <td>-122.413573</td>\n",
       "    </tr>\n",
       "    <tr>\n",
       "      <th>31014</th>\n",
       "      <td>94158</td>\n",
       "      <td>37.768106</td>\n",
       "      <td>-122.386927</td>\n",
       "    </tr>\n",
       "  </tbody>\n",
       "</table>\n",
       "</div>"
      ],
      "text/plain": [
       "         ZIP        LAT         LNG\n",
       "30987  94102  37.779588 -122.419318\n",
       "30988  94103  37.773134 -122.411167\n",
       "30989  94104  37.791409 -122.402130\n",
       "30990  94105  37.789864 -122.393665\n",
       "30991  94107  37.760460 -122.399724\n",
       "30992  94108  37.792007 -122.408575\n",
       "30993  94109  37.795388 -122.422453\n",
       "30994  94110  37.750021 -122.415201\n",
       "30995  94111  37.799367 -122.398407\n",
       "30996  94112  37.720375 -122.442950\n",
       "30997  94114  37.758057 -122.435410\n",
       "30998  94115  37.785969 -122.437253\n",
       "30999  94116  37.745399 -122.486065\n",
       "31000  94117  37.769436 -122.447662\n",
       "31001  94118  37.780097 -122.462605\n",
       "31002  94121  37.776769 -122.494707\n",
       "31003  94122  37.758797 -122.485128\n",
       "31004  94123  37.800934 -122.438366\n",
       "31005  94124  37.728895 -122.382779\n",
       "31006  94127  37.736220 -122.459338\n",
       "31008  94129  37.797336 -122.464462\n",
       "31009  94130  37.820661 -122.369655\n",
       "31010  94131  37.745916 -122.441472\n",
       "31011  94132  37.722220 -122.484077\n",
       "31012  94133  37.804531 -122.410852\n",
       "31013  94134  37.721052 -122.413573\n",
       "31014  94158  37.768106 -122.386927"
      ]
     },
     "execution_count": 372,
     "metadata": {},
     "output_type": "execute_result"
    }
   ],
   "source": [
    "sf_zipcodes"
   ]
  },
  {
   "cell_type": "code",
   "execution_count": 370,
   "metadata": {},
   "outputs": [
    {
     "data": {
      "text/plain": [
       "(27, 3)"
      ]
     },
     "execution_count": 370,
     "metadata": {},
     "output_type": "execute_result"
    }
   ],
   "source": [
    "sf_zipcodes.shape"
   ]
  },
  {
   "cell_type": "code",
   "execution_count": 371,
   "metadata": {},
   "outputs": [
    {
     "data": {
      "text/plain": [
       "0         -122.411912\n",
       "1         -122.419258\n",
       "2         -122.417813\n",
       "3         -122.417813\n",
       "4         -122.417813\n",
       "              ...    \n",
       "2215019   -122.435517\n",
       "2215020   -122.424037\n",
       "2215021   -122.443835\n",
       "2215022   -122.397590\n",
       "2215023   -122.403405\n",
       "Name: X, Length: 2215024, dtype: float64"
      ]
     },
     "execution_count": 371,
     "metadata": {},
     "output_type": "execute_result"
    }
   ],
   "source": [
    "incidents['X'].apply(lambda x: if x )"
   ]
  },
  {
   "cell_type": "code",
   "execution_count": 381,
   "metadata": {},
   "outputs": [],
   "source": [
    "thefts = crimes[crimes['Category'] == 'LARCENY/THEFT']"
   ]
  },
  {
   "cell_type": "code",
   "execution_count": 382,
   "metadata": {},
   "outputs": [
    {
     "data": {
      "text/plain": [
       "(480448, 18)"
      ]
     },
     "execution_count": 382,
     "metadata": {},
     "output_type": "execute_result"
    }
   ],
   "source": [
    "thefts.shape"
   ]
  },
  {
   "cell_type": "code",
   "execution_count": 383,
   "metadata": {},
   "outputs": [
    {
     "ename": "GeocoderServiceError",
     "evalue": "60",
     "output_type": "error",
     "traceback": [
      "\u001b[0;31m---------------------------------------------------------------------------\u001b[0m",
      "\u001b[0;31mTimeoutError\u001b[0m                              Traceback (most recent call last)",
      "\u001b[0;32m~/opt/anaconda3/lib/python3.7/site-packages/geopy/geocoders/base.py\u001b[0m in \u001b[0;36m_call_geocoder\u001b[0;34m(self, url, timeout, raw, requester, deserializer, **kwargs)\u001b[0m\n\u001b[1;32m    366\u001b[0m         \u001b[0;32mtry\u001b[0m\u001b[0;34m:\u001b[0m\u001b[0;34m\u001b[0m\u001b[0;34m\u001b[0m\u001b[0m\n\u001b[0;32m--> 367\u001b[0;31m             \u001b[0mpage\u001b[0m \u001b[0;34m=\u001b[0m \u001b[0mrequester\u001b[0m\u001b[0;34m(\u001b[0m\u001b[0mreq\u001b[0m\u001b[0;34m,\u001b[0m \u001b[0mtimeout\u001b[0m\u001b[0;34m=\u001b[0m\u001b[0mtimeout\u001b[0m\u001b[0;34m,\u001b[0m \u001b[0;34m**\u001b[0m\u001b[0mkwargs\u001b[0m\u001b[0;34m)\u001b[0m\u001b[0;34m\u001b[0m\u001b[0;34m\u001b[0m\u001b[0m\n\u001b[0m\u001b[1;32m    368\u001b[0m         \u001b[0;32mexcept\u001b[0m \u001b[0mException\u001b[0m \u001b[0;32mas\u001b[0m \u001b[0merror\u001b[0m\u001b[0;34m:\u001b[0m\u001b[0;34m\u001b[0m\u001b[0;34m\u001b[0m\u001b[0m\n",
      "\u001b[0;32m~/opt/anaconda3/lib/python3.7/urllib/request.py\u001b[0m in \u001b[0;36mopen\u001b[0;34m(self, fullurl, data, timeout)\u001b[0m\n\u001b[1;32m    524\u001b[0m \u001b[0;34m\u001b[0m\u001b[0m\n\u001b[0;32m--> 525\u001b[0;31m         \u001b[0mresponse\u001b[0m \u001b[0;34m=\u001b[0m \u001b[0mself\u001b[0m\u001b[0;34m.\u001b[0m\u001b[0m_open\u001b[0m\u001b[0;34m(\u001b[0m\u001b[0mreq\u001b[0m\u001b[0;34m,\u001b[0m \u001b[0mdata\u001b[0m\u001b[0;34m)\u001b[0m\u001b[0;34m\u001b[0m\u001b[0;34m\u001b[0m\u001b[0m\n\u001b[0m\u001b[1;32m    526\u001b[0m \u001b[0;34m\u001b[0m\u001b[0m\n",
      "\u001b[0;32m~/opt/anaconda3/lib/python3.7/urllib/request.py\u001b[0m in \u001b[0;36m_open\u001b[0;34m(self, req, data)\u001b[0m\n\u001b[1;32m    542\u001b[0m         result = self._call_chain(self.handle_open, protocol, protocol +\n\u001b[0;32m--> 543\u001b[0;31m                                   '_open', req)\n\u001b[0m\u001b[1;32m    544\u001b[0m         \u001b[0;32mif\u001b[0m \u001b[0mresult\u001b[0m\u001b[0;34m:\u001b[0m\u001b[0;34m\u001b[0m\u001b[0;34m\u001b[0m\u001b[0m\n",
      "\u001b[0;32m~/opt/anaconda3/lib/python3.7/urllib/request.py\u001b[0m in \u001b[0;36m_call_chain\u001b[0;34m(self, chain, kind, meth_name, *args)\u001b[0m\n\u001b[1;32m    502\u001b[0m             \u001b[0mfunc\u001b[0m \u001b[0;34m=\u001b[0m \u001b[0mgetattr\u001b[0m\u001b[0;34m(\u001b[0m\u001b[0mhandler\u001b[0m\u001b[0;34m,\u001b[0m \u001b[0mmeth_name\u001b[0m\u001b[0;34m)\u001b[0m\u001b[0;34m\u001b[0m\u001b[0;34m\u001b[0m\u001b[0m\n\u001b[0;32m--> 503\u001b[0;31m             \u001b[0mresult\u001b[0m \u001b[0;34m=\u001b[0m \u001b[0mfunc\u001b[0m\u001b[0;34m(\u001b[0m\u001b[0;34m*\u001b[0m\u001b[0margs\u001b[0m\u001b[0;34m)\u001b[0m\u001b[0;34m\u001b[0m\u001b[0;34m\u001b[0m\u001b[0m\n\u001b[0m\u001b[1;32m    504\u001b[0m             \u001b[0;32mif\u001b[0m \u001b[0mresult\u001b[0m \u001b[0;32mis\u001b[0m \u001b[0;32mnot\u001b[0m \u001b[0;32mNone\u001b[0m\u001b[0;34m:\u001b[0m\u001b[0;34m\u001b[0m\u001b[0;34m\u001b[0m\u001b[0m\n",
      "\u001b[0;32m~/opt/anaconda3/lib/python3.7/urllib/request.py\u001b[0m in \u001b[0;36mhttps_open\u001b[0;34m(self, req)\u001b[0m\n\u001b[1;32m   1361\u001b[0m             return self.do_open(http.client.HTTPSConnection, req,\n\u001b[0;32m-> 1362\u001b[0;31m                 context=self._context, check_hostname=self._check_hostname)\n\u001b[0m\u001b[1;32m   1363\u001b[0m \u001b[0;34m\u001b[0m\u001b[0m\n",
      "\u001b[0;32m~/opt/anaconda3/lib/python3.7/urllib/request.py\u001b[0m in \u001b[0;36mdo_open\u001b[0;34m(self, http_class, req, **http_conn_args)\u001b[0m\n\u001b[1;32m   1321\u001b[0m                 \u001b[0;32mraise\u001b[0m \u001b[0mURLError\u001b[0m\u001b[0;34m(\u001b[0m\u001b[0merr\u001b[0m\u001b[0;34m)\u001b[0m\u001b[0;34m\u001b[0m\u001b[0;34m\u001b[0m\u001b[0m\n\u001b[0;32m-> 1322\u001b[0;31m             \u001b[0mr\u001b[0m \u001b[0;34m=\u001b[0m \u001b[0mh\u001b[0m\u001b[0;34m.\u001b[0m\u001b[0mgetresponse\u001b[0m\u001b[0;34m(\u001b[0m\u001b[0;34m)\u001b[0m\u001b[0;34m\u001b[0m\u001b[0;34m\u001b[0m\u001b[0m\n\u001b[0m\u001b[1;32m   1323\u001b[0m         \u001b[0;32mexcept\u001b[0m\u001b[0;34m:\u001b[0m\u001b[0;34m\u001b[0m\u001b[0;34m\u001b[0m\u001b[0m\n",
      "\u001b[0;32m~/opt/anaconda3/lib/python3.7/http/client.py\u001b[0m in \u001b[0;36mgetresponse\u001b[0;34m(self)\u001b[0m\n\u001b[1;32m   1343\u001b[0m             \u001b[0;32mtry\u001b[0m\u001b[0;34m:\u001b[0m\u001b[0;34m\u001b[0m\u001b[0;34m\u001b[0m\u001b[0m\n\u001b[0;32m-> 1344\u001b[0;31m                 \u001b[0mresponse\u001b[0m\u001b[0;34m.\u001b[0m\u001b[0mbegin\u001b[0m\u001b[0;34m(\u001b[0m\u001b[0;34m)\u001b[0m\u001b[0;34m\u001b[0m\u001b[0;34m\u001b[0m\u001b[0m\n\u001b[0m\u001b[1;32m   1345\u001b[0m             \u001b[0;32mexcept\u001b[0m \u001b[0mConnectionError\u001b[0m\u001b[0;34m:\u001b[0m\u001b[0;34m\u001b[0m\u001b[0;34m\u001b[0m\u001b[0m\n",
      "\u001b[0;32m~/opt/anaconda3/lib/python3.7/http/client.py\u001b[0m in \u001b[0;36mbegin\u001b[0;34m(self)\u001b[0m\n\u001b[1;32m    305\u001b[0m         \u001b[0;32mwhile\u001b[0m \u001b[0;32mTrue\u001b[0m\u001b[0;34m:\u001b[0m\u001b[0;34m\u001b[0m\u001b[0;34m\u001b[0m\u001b[0m\n\u001b[0;32m--> 306\u001b[0;31m             \u001b[0mversion\u001b[0m\u001b[0;34m,\u001b[0m \u001b[0mstatus\u001b[0m\u001b[0;34m,\u001b[0m \u001b[0mreason\u001b[0m \u001b[0;34m=\u001b[0m \u001b[0mself\u001b[0m\u001b[0;34m.\u001b[0m\u001b[0m_read_status\u001b[0m\u001b[0;34m(\u001b[0m\u001b[0;34m)\u001b[0m\u001b[0;34m\u001b[0m\u001b[0;34m\u001b[0m\u001b[0m\n\u001b[0m\u001b[1;32m    307\u001b[0m             \u001b[0;32mif\u001b[0m \u001b[0mstatus\u001b[0m \u001b[0;34m!=\u001b[0m \u001b[0mCONTINUE\u001b[0m\u001b[0;34m:\u001b[0m\u001b[0;34m\u001b[0m\u001b[0;34m\u001b[0m\u001b[0m\n",
      "\u001b[0;32m~/opt/anaconda3/lib/python3.7/http/client.py\u001b[0m in \u001b[0;36m_read_status\u001b[0;34m(self)\u001b[0m\n\u001b[1;32m    266\u001b[0m     \u001b[0;32mdef\u001b[0m \u001b[0m_read_status\u001b[0m\u001b[0;34m(\u001b[0m\u001b[0mself\u001b[0m\u001b[0;34m)\u001b[0m\u001b[0;34m:\u001b[0m\u001b[0;34m\u001b[0m\u001b[0;34m\u001b[0m\u001b[0m\n\u001b[0;32m--> 267\u001b[0;31m         \u001b[0mline\u001b[0m \u001b[0;34m=\u001b[0m \u001b[0mstr\u001b[0m\u001b[0;34m(\u001b[0m\u001b[0mself\u001b[0m\u001b[0;34m.\u001b[0m\u001b[0mfp\u001b[0m\u001b[0;34m.\u001b[0m\u001b[0mreadline\u001b[0m\u001b[0;34m(\u001b[0m\u001b[0m_MAXLINE\u001b[0m \u001b[0;34m+\u001b[0m \u001b[0;36m1\u001b[0m\u001b[0;34m)\u001b[0m\u001b[0;34m,\u001b[0m \u001b[0;34m\"iso-8859-1\"\u001b[0m\u001b[0;34m)\u001b[0m\u001b[0;34m\u001b[0m\u001b[0;34m\u001b[0m\u001b[0m\n\u001b[0m\u001b[1;32m    268\u001b[0m         \u001b[0;32mif\u001b[0m \u001b[0mlen\u001b[0m\u001b[0;34m(\u001b[0m\u001b[0mline\u001b[0m\u001b[0;34m)\u001b[0m \u001b[0;34m>\u001b[0m \u001b[0m_MAXLINE\u001b[0m\u001b[0;34m:\u001b[0m\u001b[0;34m\u001b[0m\u001b[0;34m\u001b[0m\u001b[0m\n",
      "\u001b[0;32m~/opt/anaconda3/lib/python3.7/socket.py\u001b[0m in \u001b[0;36mreadinto\u001b[0;34m(self, b)\u001b[0m\n\u001b[1;32m    588\u001b[0m             \u001b[0;32mtry\u001b[0m\u001b[0;34m:\u001b[0m\u001b[0;34m\u001b[0m\u001b[0;34m\u001b[0m\u001b[0m\n\u001b[0;32m--> 589\u001b[0;31m                 \u001b[0;32mreturn\u001b[0m \u001b[0mself\u001b[0m\u001b[0;34m.\u001b[0m\u001b[0m_sock\u001b[0m\u001b[0;34m.\u001b[0m\u001b[0mrecv_into\u001b[0m\u001b[0;34m(\u001b[0m\u001b[0mb\u001b[0m\u001b[0;34m)\u001b[0m\u001b[0;34m\u001b[0m\u001b[0;34m\u001b[0m\u001b[0m\n\u001b[0m\u001b[1;32m    590\u001b[0m             \u001b[0;32mexcept\u001b[0m \u001b[0mtimeout\u001b[0m\u001b[0;34m:\u001b[0m\u001b[0;34m\u001b[0m\u001b[0;34m\u001b[0m\u001b[0m\n",
      "\u001b[0;32m~/opt/anaconda3/lib/python3.7/ssl.py\u001b[0m in \u001b[0;36mrecv_into\u001b[0;34m(self, buffer, nbytes, flags)\u001b[0m\n\u001b[1;32m   1070\u001b[0m                   self.__class__)\n\u001b[0;32m-> 1071\u001b[0;31m             \u001b[0;32mreturn\u001b[0m \u001b[0mself\u001b[0m\u001b[0;34m.\u001b[0m\u001b[0mread\u001b[0m\u001b[0;34m(\u001b[0m\u001b[0mnbytes\u001b[0m\u001b[0;34m,\u001b[0m \u001b[0mbuffer\u001b[0m\u001b[0;34m)\u001b[0m\u001b[0;34m\u001b[0m\u001b[0;34m\u001b[0m\u001b[0m\n\u001b[0m\u001b[1;32m   1072\u001b[0m         \u001b[0;32melse\u001b[0m\u001b[0;34m:\u001b[0m\u001b[0;34m\u001b[0m\u001b[0;34m\u001b[0m\u001b[0m\n",
      "\u001b[0;32m~/opt/anaconda3/lib/python3.7/ssl.py\u001b[0m in \u001b[0;36mread\u001b[0;34m(self, len, buffer)\u001b[0m\n\u001b[1;32m    928\u001b[0m             \u001b[0;32mif\u001b[0m \u001b[0mbuffer\u001b[0m \u001b[0;32mis\u001b[0m \u001b[0;32mnot\u001b[0m \u001b[0;32mNone\u001b[0m\u001b[0;34m:\u001b[0m\u001b[0;34m\u001b[0m\u001b[0;34m\u001b[0m\u001b[0m\n\u001b[0;32m--> 929\u001b[0;31m                 \u001b[0;32mreturn\u001b[0m \u001b[0mself\u001b[0m\u001b[0;34m.\u001b[0m\u001b[0m_sslobj\u001b[0m\u001b[0;34m.\u001b[0m\u001b[0mread\u001b[0m\u001b[0;34m(\u001b[0m\u001b[0mlen\u001b[0m\u001b[0;34m,\u001b[0m \u001b[0mbuffer\u001b[0m\u001b[0;34m)\u001b[0m\u001b[0;34m\u001b[0m\u001b[0;34m\u001b[0m\u001b[0m\n\u001b[0m\u001b[1;32m    930\u001b[0m             \u001b[0;32melse\u001b[0m\u001b[0;34m:\u001b[0m\u001b[0;34m\u001b[0m\u001b[0;34m\u001b[0m\u001b[0m\n",
      "\u001b[0;31mTimeoutError\u001b[0m: [Errno 60] Operation timed out",
      "\nDuring handling of the above exception, another exception occurred:\n",
      "\u001b[0;31mGeocoderServiceError\u001b[0m                      Traceback (most recent call last)",
      "\u001b[0;32m<ipython-input-383-f369040b1261>\u001b[0m in \u001b[0;36m<module>\u001b[0;34m\u001b[0m\n\u001b[0;32m----> 1\u001b[0;31m \u001b[0mzipcodes\u001b[0m \u001b[0;34m=\u001b[0m \u001b[0mthefts\u001b[0m\u001b[0;34m[\u001b[0m\u001b[0;34m[\u001b[0m\u001b[0;34m'X'\u001b[0m\u001b[0;34m,\u001b[0m\u001b[0;34m'Y'\u001b[0m\u001b[0;34m]\u001b[0m\u001b[0;34m]\u001b[0m\u001b[0;34m.\u001b[0m\u001b[0mapply\u001b[0m\u001b[0;34m(\u001b[0m\u001b[0mget_zipcode\u001b[0m\u001b[0;34m,\u001b[0m \u001b[0maxis\u001b[0m\u001b[0;34m=\u001b[0m\u001b[0;36m1\u001b[0m\u001b[0;34m,\u001b[0m \u001b[0mgeolocator\u001b[0m\u001b[0;34m=\u001b[0m\u001b[0mgeolocator\u001b[0m\u001b[0;34m,\u001b[0m \u001b[0mlat_field\u001b[0m\u001b[0;34m=\u001b[0m\u001b[0;34m'Y'\u001b[0m\u001b[0;34m,\u001b[0m \u001b[0mlon_field\u001b[0m\u001b[0;34m=\u001b[0m\u001b[0;34m'X'\u001b[0m\u001b[0;34m)\u001b[0m\u001b[0;34m\u001b[0m\u001b[0;34m\u001b[0m\u001b[0m\n\u001b[0m",
      "\u001b[0;32m~/opt/anaconda3/lib/python3.7/site-packages/pandas/core/frame.py\u001b[0m in \u001b[0;36mapply\u001b[0;34m(self, func, axis, raw, result_type, args, **kwds)\u001b[0m\n\u001b[1;32m   6876\u001b[0m             \u001b[0mkwds\u001b[0m\u001b[0;34m=\u001b[0m\u001b[0mkwds\u001b[0m\u001b[0;34m,\u001b[0m\u001b[0;34m\u001b[0m\u001b[0;34m\u001b[0m\u001b[0m\n\u001b[1;32m   6877\u001b[0m         )\n\u001b[0;32m-> 6878\u001b[0;31m         \u001b[0;32mreturn\u001b[0m \u001b[0mop\u001b[0m\u001b[0;34m.\u001b[0m\u001b[0mget_result\u001b[0m\u001b[0;34m(\u001b[0m\u001b[0;34m)\u001b[0m\u001b[0;34m\u001b[0m\u001b[0;34m\u001b[0m\u001b[0m\n\u001b[0m\u001b[1;32m   6879\u001b[0m \u001b[0;34m\u001b[0m\u001b[0m\n\u001b[1;32m   6880\u001b[0m     \u001b[0;32mdef\u001b[0m \u001b[0mapplymap\u001b[0m\u001b[0;34m(\u001b[0m\u001b[0mself\u001b[0m\u001b[0;34m,\u001b[0m \u001b[0mfunc\u001b[0m\u001b[0;34m)\u001b[0m \u001b[0;34m->\u001b[0m \u001b[0;34m\"DataFrame\"\u001b[0m\u001b[0;34m:\u001b[0m\u001b[0;34m\u001b[0m\u001b[0;34m\u001b[0m\u001b[0m\n",
      "\u001b[0;32m~/opt/anaconda3/lib/python3.7/site-packages/pandas/core/apply.py\u001b[0m in \u001b[0;36mget_result\u001b[0;34m(self)\u001b[0m\n\u001b[1;32m    184\u001b[0m             \u001b[0;32mreturn\u001b[0m \u001b[0mself\u001b[0m\u001b[0;34m.\u001b[0m\u001b[0mapply_raw\u001b[0m\u001b[0;34m(\u001b[0m\u001b[0;34m)\u001b[0m\u001b[0;34m\u001b[0m\u001b[0;34m\u001b[0m\u001b[0m\n\u001b[1;32m    185\u001b[0m \u001b[0;34m\u001b[0m\u001b[0m\n\u001b[0;32m--> 186\u001b[0;31m         \u001b[0;32mreturn\u001b[0m \u001b[0mself\u001b[0m\u001b[0;34m.\u001b[0m\u001b[0mapply_standard\u001b[0m\u001b[0;34m(\u001b[0m\u001b[0;34m)\u001b[0m\u001b[0;34m\u001b[0m\u001b[0;34m\u001b[0m\u001b[0m\n\u001b[0m\u001b[1;32m    187\u001b[0m \u001b[0;34m\u001b[0m\u001b[0m\n\u001b[1;32m    188\u001b[0m     \u001b[0;32mdef\u001b[0m \u001b[0mapply_empty_result\u001b[0m\u001b[0;34m(\u001b[0m\u001b[0mself\u001b[0m\u001b[0;34m)\u001b[0m\u001b[0;34m:\u001b[0m\u001b[0;34m\u001b[0m\u001b[0;34m\u001b[0m\u001b[0m\n",
      "\u001b[0;32m~/opt/anaconda3/lib/python3.7/site-packages/pandas/core/apply.py\u001b[0m in \u001b[0;36mapply_standard\u001b[0;34m(self)\u001b[0m\n\u001b[1;32m    294\u001b[0m             \u001b[0;32mtry\u001b[0m\u001b[0;34m:\u001b[0m\u001b[0;34m\u001b[0m\u001b[0;34m\u001b[0m\u001b[0m\n\u001b[1;32m    295\u001b[0m                 result = libreduction.compute_reduction(\n\u001b[0;32m--> 296\u001b[0;31m                     \u001b[0mvalues\u001b[0m\u001b[0;34m,\u001b[0m \u001b[0mself\u001b[0m\u001b[0;34m.\u001b[0m\u001b[0mf\u001b[0m\u001b[0;34m,\u001b[0m \u001b[0maxis\u001b[0m\u001b[0;34m=\u001b[0m\u001b[0mself\u001b[0m\u001b[0;34m.\u001b[0m\u001b[0maxis\u001b[0m\u001b[0;34m,\u001b[0m \u001b[0mdummy\u001b[0m\u001b[0;34m=\u001b[0m\u001b[0mdummy\u001b[0m\u001b[0;34m,\u001b[0m \u001b[0mlabels\u001b[0m\u001b[0;34m=\u001b[0m\u001b[0mlabels\u001b[0m\u001b[0;34m\u001b[0m\u001b[0;34m\u001b[0m\u001b[0m\n\u001b[0m\u001b[1;32m    297\u001b[0m                 )\n\u001b[1;32m    298\u001b[0m             \u001b[0;32mexcept\u001b[0m \u001b[0mValueError\u001b[0m \u001b[0;32mas\u001b[0m \u001b[0merr\u001b[0m\u001b[0;34m:\u001b[0m\u001b[0;34m\u001b[0m\u001b[0;34m\u001b[0m\u001b[0m\n",
      "\u001b[0;32mpandas/_libs/reduction.pyx\u001b[0m in \u001b[0;36mpandas._libs.reduction.compute_reduction\u001b[0;34m()\u001b[0m\n",
      "\u001b[0;32mpandas/_libs/reduction.pyx\u001b[0m in \u001b[0;36mpandas._libs.reduction.Reducer.get_result\u001b[0;34m()\u001b[0m\n",
      "\u001b[0;32m~/opt/anaconda3/lib/python3.7/site-packages/pandas/core/apply.py\u001b[0m in \u001b[0;36mf\u001b[0;34m(x)\u001b[0m\n\u001b[1;32m    111\u001b[0m \u001b[0;34m\u001b[0m\u001b[0m\n\u001b[1;32m    112\u001b[0m             \u001b[0;32mdef\u001b[0m \u001b[0mf\u001b[0m\u001b[0;34m(\u001b[0m\u001b[0mx\u001b[0m\u001b[0;34m)\u001b[0m\u001b[0;34m:\u001b[0m\u001b[0;34m\u001b[0m\u001b[0;34m\u001b[0m\u001b[0m\n\u001b[0;32m--> 113\u001b[0;31m                 \u001b[0;32mreturn\u001b[0m \u001b[0mfunc\u001b[0m\u001b[0;34m(\u001b[0m\u001b[0mx\u001b[0m\u001b[0;34m,\u001b[0m \u001b[0;34m*\u001b[0m\u001b[0margs\u001b[0m\u001b[0;34m,\u001b[0m \u001b[0;34m**\u001b[0m\u001b[0mkwds\u001b[0m\u001b[0;34m)\u001b[0m\u001b[0;34m\u001b[0m\u001b[0;34m\u001b[0m\u001b[0m\n\u001b[0m\u001b[1;32m    114\u001b[0m \u001b[0;34m\u001b[0m\u001b[0m\n\u001b[1;32m    115\u001b[0m         \u001b[0;32melse\u001b[0m\u001b[0;34m:\u001b[0m\u001b[0;34m\u001b[0m\u001b[0;34m\u001b[0m\u001b[0m\n",
      "\u001b[0;32m<ipython-input-377-13d2bd2568ee>\u001b[0m in \u001b[0;36mget_zipcode\u001b[0;34m(df, geolocator, lat_field, lon_field)\u001b[0m\n\u001b[1;32m      1\u001b[0m \u001b[0;32mdef\u001b[0m \u001b[0mget_zipcode\u001b[0m\u001b[0;34m(\u001b[0m\u001b[0mdf\u001b[0m\u001b[0;34m,\u001b[0m \u001b[0mgeolocator\u001b[0m\u001b[0;34m,\u001b[0m \u001b[0mlat_field\u001b[0m\u001b[0;34m,\u001b[0m \u001b[0mlon_field\u001b[0m\u001b[0;34m)\u001b[0m\u001b[0;34m:\u001b[0m\u001b[0;34m\u001b[0m\u001b[0;34m\u001b[0m\u001b[0m\n\u001b[0;32m----> 2\u001b[0;31m     \u001b[0mlocation\u001b[0m \u001b[0;34m=\u001b[0m \u001b[0mgeolocator\u001b[0m\u001b[0;34m.\u001b[0m\u001b[0mreverse\u001b[0m\u001b[0;34m(\u001b[0m\u001b[0mPoint\u001b[0m\u001b[0;34m(\u001b[0m\u001b[0mdf\u001b[0m\u001b[0;34m[\u001b[0m\u001b[0mlat_field\u001b[0m\u001b[0;34m]\u001b[0m\u001b[0;34m,\u001b[0m \u001b[0mdf\u001b[0m\u001b[0;34m[\u001b[0m\u001b[0mlon_field\u001b[0m\u001b[0;34m]\u001b[0m\u001b[0;34m)\u001b[0m\u001b[0;34m)\u001b[0m\u001b[0;34m\u001b[0m\u001b[0;34m\u001b[0m\u001b[0m\n\u001b[0m\u001b[1;32m      3\u001b[0m     \u001b[0;32mif\u001b[0m \u001b[0;34m'postcode'\u001b[0m \u001b[0;32min\u001b[0m \u001b[0mlist\u001b[0m\u001b[0;34m(\u001b[0m\u001b[0mlocation\u001b[0m\u001b[0;34m.\u001b[0m\u001b[0mraw\u001b[0m\u001b[0;34m[\u001b[0m\u001b[0;34m'address'\u001b[0m\u001b[0;34m]\u001b[0m\u001b[0;34m.\u001b[0m\u001b[0mkeys\u001b[0m\u001b[0;34m(\u001b[0m\u001b[0;34m)\u001b[0m\u001b[0;34m)\u001b[0m\u001b[0;34m:\u001b[0m\u001b[0;34m\u001b[0m\u001b[0;34m\u001b[0m\u001b[0m\n\u001b[1;32m      4\u001b[0m         \u001b[0;32mreturn\u001b[0m \u001b[0mlocation\u001b[0m\u001b[0;34m.\u001b[0m\u001b[0mraw\u001b[0m\u001b[0;34m[\u001b[0m\u001b[0;34m'address'\u001b[0m\u001b[0;34m]\u001b[0m\u001b[0;34m[\u001b[0m\u001b[0;34m'postcode'\u001b[0m\u001b[0;34m]\u001b[0m\u001b[0;34m\u001b[0m\u001b[0;34m\u001b[0m\u001b[0m\n\u001b[1;32m      5\u001b[0m     \u001b[0;32melse\u001b[0m\u001b[0;34m:\u001b[0m\u001b[0;34m\u001b[0m\u001b[0;34m\u001b[0m\u001b[0m\n",
      "\u001b[0;32m~/opt/anaconda3/lib/python3.7/site-packages/geopy/geocoders/osm.py\u001b[0m in \u001b[0;36mreverse\u001b[0;34m(self, query, exactly_one, timeout, language, addressdetails, zoom)\u001b[0m\n\u001b[1;32m    478\u001b[0m \u001b[0;34m\u001b[0m\u001b[0m\n\u001b[1;32m    479\u001b[0m         return self._parse_json(\n\u001b[0;32m--> 480\u001b[0;31m             \u001b[0mself\u001b[0m\u001b[0;34m.\u001b[0m\u001b[0m_call_geocoder\u001b[0m\u001b[0;34m(\u001b[0m\u001b[0murl\u001b[0m\u001b[0;34m,\u001b[0m \u001b[0mtimeout\u001b[0m\u001b[0;34m=\u001b[0m\u001b[0mtimeout\u001b[0m\u001b[0;34m)\u001b[0m\u001b[0;34m,\u001b[0m \u001b[0mexactly_one\u001b[0m\u001b[0;34m\u001b[0m\u001b[0;34m\u001b[0m\u001b[0m\n\u001b[0m\u001b[1;32m    481\u001b[0m         )\n\u001b[1;32m    482\u001b[0m \u001b[0;34m\u001b[0m\u001b[0m\n",
      "\u001b[0;32m~/opt/anaconda3/lib/python3.7/site-packages/geopy/geocoders/base.py\u001b[0m in \u001b[0;36m_call_geocoder\u001b[0;34m(self, url, timeout, raw, requester, deserializer, **kwargs)\u001b[0m\n\u001b[1;32m    400\u001b[0m                 \u001b[0;32mif\u001b[0m \u001b[0;34m\"timed out\"\u001b[0m \u001b[0;32min\u001b[0m \u001b[0mmessage\u001b[0m\u001b[0;34m:\u001b[0m\u001b[0;34m\u001b[0m\u001b[0;34m\u001b[0m\u001b[0m\n\u001b[1;32m    401\u001b[0m                     \u001b[0;32mraise\u001b[0m \u001b[0mGeocoderTimedOut\u001b[0m\u001b[0;34m(\u001b[0m\u001b[0;34m'Service timed out'\u001b[0m\u001b[0;34m)\u001b[0m\u001b[0;34m\u001b[0m\u001b[0;34m\u001b[0m\u001b[0m\n\u001b[0;32m--> 402\u001b[0;31m             \u001b[0;32mraise\u001b[0m \u001b[0mGeocoderServiceError\u001b[0m\u001b[0;34m(\u001b[0m\u001b[0mmessage\u001b[0m\u001b[0;34m)\u001b[0m\u001b[0;34m\u001b[0m\u001b[0;34m\u001b[0m\u001b[0m\n\u001b[0m\u001b[1;32m    403\u001b[0m \u001b[0;34m\u001b[0m\u001b[0m\n\u001b[1;32m    404\u001b[0m         \u001b[0;32mif\u001b[0m \u001b[0mhasattr\u001b[0m\u001b[0;34m(\u001b[0m\u001b[0mpage\u001b[0m\u001b[0;34m,\u001b[0m \u001b[0;34m'getcode'\u001b[0m\u001b[0;34m)\u001b[0m\u001b[0;34m:\u001b[0m\u001b[0;34m\u001b[0m\u001b[0;34m\u001b[0m\u001b[0m\n",
      "\u001b[0;31mGeocoderServiceError\u001b[0m: 60"
     ]
    }
   ],
   "source": [
    "zipcodes = thefts[['X','Y']].apply(get_zipcode, axis=1, geolocator=geolocator, lat_field='Y', lon_field='X')"
   ]
  },
  {
   "cell_type": "markdown",
   "metadata": {},
   "source": [
    "#### We have visibility from 2003 to 2018 crime records. \n",
    "\n",
    "- Are these records complete and continous?\n",
    "- Are categories consistent across all years?\n"
   ]
  },
  {
   "cell_type": "code",
   "execution_count": 158,
   "metadata": {},
   "outputs": [
    {
     "name": "stdout",
     "output_type": "stream",
     "text": [
      "2018-05-15 00:00:00\n",
      "2003-01-01 00:00:00\n"
     ]
    }
   ],
   "source": [
    "print(incidents['Date'].max())\n",
    "print(incidents['Date'].min())"
   ]
  },
  {
   "cell_type": "code",
   "execution_count": 162,
   "metadata": {},
   "outputs": [
    {
     "data": {
      "image/png": "[encoded data removed]",
      "text/plain": [
       "<Figure size 720x360 with 1 Axes>"
      ]
     },
     "metadata": {
      "needs_background": "light"
     },
     "output_type": "display_data"
    }
   ],
   "source": [
    "figure =figsize(10,5)\n",
    "plt.plot(incidents['Category'].value_counts())\n",
    "xticks(rotation = '90');"
   ]
  },
  {
   "cell_type": "code",
   "execution_count": 167,
   "metadata": {},
   "outputs": [
    {
     "data": {
      "text/plain": [
       "0.5520585781463316"
      ]
     },
     "execution_count": 167,
     "metadata": {},
     "output_type": "execute_result"
    }
   ],
   "source": [
    "#### Across all years, top 4 crime categories take 55% of all records. Top 13 categories take 91% of all records.\n",
    "sum(incidents['Category'].value_counts()[:4]) *1.0 /sum(incidents['Category'].value_counts())"
   ]
  },
  {
   "cell_type": "code",
   "execution_count": 164,
   "metadata": {},
   "outputs": [
    {
     "data": {
      "text/plain": [
       "LARCENY/THEFT     480448\n",
       "OTHER OFFENSES    309358\n",
       "NON-CRIMINAL      238323\n",
       "ASSAULT           194694\n",
       "VEHICLE THEFT     126602\n",
       "DRUG/NARCOTIC     119628\n",
       "VANDALISM         116059\n",
       "WARRANTS          101379\n",
       "BURGLARY           91543\n",
       "SUSPICIOUS OCC     80444\n",
       "MISSING PERSON     64961\n",
       "ROBBERY            55867\n",
       "FRAUD              41542\n",
       "Name: Category, dtype: int64"
      ]
     },
     "execution_count": 164,
     "metadata": {},
     "output_type": "execute_result"
    }
   ],
   "source": [
    "incidents['Category'].value_counts()[:13]"
   ]
  },
  {
   "cell_type": "code",
   "execution_count": 166,
   "metadata": {},
   "outputs": [
    {
     "data": {
      "text/plain": [
       "0.912336841496977"
      ]
     },
     "execution_count": 166,
     "metadata": {},
     "output_type": "execute_result"
    }
   ],
   "source": [
    "sum (incidents['Category'].value_counts()[:13]) * 1.0 / sum(incidents['Category'].value_counts())"
   ]
  },
  {
   "cell_type": "markdown",
   "metadata": {},
   "source": [
    "#### How are crimes categories trending over the years?  \n",
    "\n",
    "**From heatmap overview on Top13 categories** \n",
    "- Theft has increased significantly over the years\n",
    "- Non-criminal has increased \n",
    "\n",
    "- Vehicle theft as decreased over the years\n"
   ]
  },
  {
   "cell_type": "code",
   "execution_count": 168,
   "metadata": {},
   "outputs": [],
   "source": [
    "top_categories = list(incidents['Category'].value_counts()[:13].index)"
   ]
  },
  {
   "cell_type": "code",
   "execution_count": 169,
   "metadata": {},
   "outputs": [
    {
     "data": {
      "image/png": "[encoded data removed]",
      "text/plain": [
       "<Figure size 720x720 with 2 Axes>"
      ]
     },
     "metadata": {
      "needs_background": "light"
     },
     "output_type": "display_data"
    }
   ],
   "source": [
    "mask_year = incidents['year'] <= 2017\n",
    "n_crime_year = incidents[mask_year][['Category', 'year']]\n",
    "n_crime = n_crime_year[n_crime_year['Category'].apply(lambda x: x in top_categories)]\n",
    "m = n_crime.groupby(['Category', 'year']).apply(lambda x: len(x)).unstack()\n",
    "figure = figsize(10, 10)\n",
    "\n",
    "sns.heatmap(m, cmap='RdBu_r', linewidth=0.5);\n",
    "title('Heatmap of the intensity of all crimes in SF', fontsize = 18);"
   ]
  },
  {
   "cell_type": "code",
   "execution_count": 172,
   "metadata": {},
   "outputs": [
    {
     "data": {
      "text/plain": [
       "1.0"
      ]
     },
     "execution_count": 172,
     "metadata": {},
     "output_type": "execute_result"
    }
   ],
   "source": [
    "#### What are inside Non-criminal(no.3) and Other offenses(no.2) ? \n",
    "\n",
    "top_cat_inci = incidents[incidents['Category'].apply (lambda x: x in top_categories)]\n",
    "\n",
    "tmp = top_cat_inci[['Category','Descript']].groupby(['Category','Descript']).apply(lambda x: len(x)).unstack()"
   ]
  },
  {
   "cell_type": "code",
   "execution_count": 173,
   "metadata": {},
   "outputs": [
    {
     "data": {
      "text/plain": [
       "LOST PROPERTY                                         0.327102\n",
       "AIDED CASE, MENTAL DISTURBED                          0.236289\n",
       "FOUND PROPERTY                                        0.140075\n",
       "AIDED CASE                                            0.059793\n",
       "DEATH REPORT, CAUSE UNKNOWN                           0.045044\n",
       "CASE CLOSURE                                          0.025264\n",
       "STAY AWAY OR COURT ORDER, NON-DV RELATED              0.018089\n",
       "AIDED CASE, DOG BITE                                  0.014866\n",
       "CIVIL SIDEWALKS, CITATION                             0.012756\n",
       "PROPERTY FOR IDENTIFICATION                           0.011652\n",
       "AIDED CASE, INJURED PERSON                            0.011279\n",
       "COURTESY REPORT                                       0.010347\n",
       "DEATH REPORT, NATURAL CAUSES                          0.009810\n",
       "CIVIL SIDEWALKS, WARNING                              0.009722\n",
       "AIDED CASE -PROPERTY FOR DESTRUCTION                  0.009722\n",
       "FIRE REPORT                                           0.008509\n",
       "SEARCH WARRANT SERVICE                                0.008111\n",
       "LOCATED PROPERTY                                      0.007238\n",
       "TARASOFF REPORT                                       0.006688\n",
       "TURNED IN GUN                                         0.005388\n",
       "TRAFFIC ACCIDENT                                      0.005195\n",
       "LICENSE PLATE, RECOVERED                              0.003965\n",
       "IMPOUNDED VEHICLE                                     0.003323\n",
       "SHELTER                                               0.003231\n",
       "AIDED CASE, SICK PERSON                               0.002396\n",
       "LICENSE PLATE, FOUND                                  0.001494\n",
       "MISPLACED VEHICLE                                     0.000554\n",
       "CIVIL SIDEWALKS, BOOKING                              0.000550\n",
       "CIVIL SIDEWALKS, VIOLATION                            0.000382\n",
       "TRUANT, HABITUAL                                      0.000277\n",
       "DEATH, ACCIDENTAL                                     0.000168\n",
       "DEATH, NON-MANSLAUGHTER AUTO ACCIDENT                 0.000130\n",
       "DEMONSTRATION, VIDEO EVIDENCE, MISC. INVESTIGATION    0.000113\n",
       "ACCIDENTAL SHOOTING                                   0.000109\n",
       "AUTO IMPOUNDED                                        0.000101\n",
       "YOUTH COURT                                           0.000092\n",
       "MEGAN'S LAW NOTIFICATION                              0.000076\n",
       "DEATH REPORT, IN CUSTODY                              0.000059\n",
       "ACCIDENTAL BURNS                                      0.000038\n",
       "ACCIDENTAL LACERATIONS                                0.000004\n",
       "Name: Descript, dtype: float64"
      ]
     },
     "execution_count": 173,
     "metadata": {},
     "output_type": "execute_result"
    }
   ],
   "source": [
    "top_cat_inci[top_cat_inci['Category'] == 'NON-CRIMINAL']['Descript'].value_counts(1)"
   ]
  },
  {
   "cell_type": "code",
   "execution_count": 176,
   "metadata": {},
   "outputs": [
    {
     "data": {
      "text/plain": [
       "year\n",
       "2003    13149\n",
       "2004    13778\n",
       "2005    14055\n",
       "2006    13368\n",
       "2007    12677\n",
       "2008    12303\n",
       "2009    12395\n",
       "2010    13877\n",
       "2011    15586\n",
       "2012    16936\n",
       "2013    21084\n",
       "2014    19404\n",
       "2015    19177\n",
       "2016    17919\n",
       "2017    17368\n",
       "2018     5247\n",
       "dtype: int64"
      ]
     },
     "execution_count": 176,
     "metadata": {},
     "output_type": "execute_result"
    }
   ],
   "source": [
    "top_cat_inci[top_cat_inci['Category'] == 'NON-CRIMINAL'].groupby('year').apply(count_rows)"
   ]
  },
  {
   "cell_type": "code",
   "execution_count": 178,
   "metadata": {},
   "outputs": [
    {
     "data": {
      "text/plain": [
       "DRIVERS LICENSE, SUSPENDED OR REVOKED                  0.202141\n",
       "TRAFFIC VIOLATION                                      0.123174\n",
       "RESISTING ARREST                                       0.069415\n",
       "MISCELLANEOUS INVESTIGATION                            0.065358\n",
       "PROBATION VIOLATION                                    0.058444\n",
       "                                                         ...   \n",
       "VIOLATION OF CALIF UNEMPLOYMENT INSURANCE ACT          0.000003\n",
       "HAZARDOUS MATERIALS, TRANSPORT WITHOUT PERMIT          0.000003\n",
       "REFUSAL TO IDENTIFY                                    0.000003\n",
       "UNSOLICITED FAX ADVERTISING                            0.000003\n",
       "PERMIT VIOLATION, ADVERTISING HANDBILL DISTRIBUTION    0.000003\n",
       "Name: Descript, Length: 179, dtype: float64"
      ]
     },
     "execution_count": 178,
     "metadata": {},
     "output_type": "execute_result"
    }
   ],
   "source": [
    "top_cat_inci[top_cat_inci['Category'] == 'OTHER OFFENSES']['Descript'].value_counts(1)"
   ]
  },
  {
   "cell_type": "code",
   "execution_count": 180,
   "metadata": {},
   "outputs": [
    {
     "data": {
      "text/plain": [
       "GRAND THEFT FROM LOCKED AUTO      0.372228\n",
       "PETTY THEFT FROM LOCKED AUTO      0.108120\n",
       "PETTY THEFT OF PROPERTY           0.095981\n",
       "GRAND THEFT OF PROPERTY           0.061235\n",
       "PETTY THEFT FROM A BUILDING       0.053550\n",
       "PETTY THEFT SHOPLIFTING           0.050948\n",
       "GRAND THEFT FROM A BUILDING       0.046838\n",
       "GRAND THEFT FROM PERSON           0.037713\n",
       "GRAND THEFT FROM UNLOCKED AUTO    0.032309\n",
       "GRAND THEFT PICKPOCKET            0.028411\n",
       "Name: Descript, dtype: float64"
      ]
     },
     "execution_count": 180,
     "metadata": {},
     "output_type": "execute_result"
    }
   ],
   "source": [
    "top_cat_inci[top_cat_inci['Category'] == 'LARCENY/THEFT']['Descript'].value_counts(1)[:10]"
   ]
  },
  {
   "cell_type": "code",
   "execution_count": 188,
   "metadata": {},
   "outputs": [],
   "source": [
    "day_of_week_convert = {'Monday':1,'Tuesday':2,'Wednesday':3,'Thursday':4,'Friday':5,'Saturday':6,'Sunday':7}"
   ]
  },
  {
   "cell_type": "code",
   "execution_count": 190,
   "metadata": {},
   "outputs": [],
   "source": [
    "incidents['day_of_week_int'] = incidents['DayOfWeek'].replace(day_of_week_convert)"
   ]
  },
  {
   "cell_type": "code",
   "execution_count": 223,
   "metadata": {},
   "outputs": [],
   "source": [
    "crimes = incidents[incidents['Category']!= 'NON-CRIMINAL']"
   ]
  },
  {
   "cell_type": "code",
   "execution_count": 225,
   "metadata": {},
   "outputs": [
    {
     "data": {
      "text/plain": [
       "(1976701, 18)"
      ]
     },
     "execution_count": 225,
     "metadata": {},
     "output_type": "execute_result"
    }
   ],
   "source": [
    "crimes.shape"
   ]
  },
  {
   "cell_type": "code",
   "execution_count": 226,
   "metadata": {},
   "outputs": [
    {
     "data": {
      "text/plain": [
       "0.8924061319425884"
      ]
     },
     "execution_count": 226,
     "metadata": {},
     "output_type": "execute_result"
    }
   ],
   "source": [
    "crimes.shape[0]*1.0/incidents.shape[0]"
   ]
  },
  {
   "cell_type": "markdown",
   "metadata": {},
   "source": [
    "## Non-Criminals deep dive"
   ]
  },
  {
   "cell_type": "code",
   "execution_count": 227,
   "metadata": {},
   "outputs": [],
   "source": [
    "non_criminals = incidents[incidents['Category']== 'NON-CRIMINAL']"
   ]
  },
  {
   "cell_type": "code",
   "execution_count": 234,
   "metadata": {},
   "outputs": [
    {
     "data": {
      "text/plain": [
       "LOST PROPERTY                                         0.327102\n",
       "AIDED CASE, MENTAL DISTURBED                          0.236289\n",
       "FOUND PROPERTY                                        0.140075\n",
       "AIDED CASE                                            0.059793\n",
       "DEATH REPORT, CAUSE UNKNOWN                           0.045044\n",
       "CASE CLOSURE                                          0.025264\n",
       "STAY AWAY OR COURT ORDER, NON-DV RELATED              0.018089\n",
       "AIDED CASE, DOG BITE                                  0.014866\n",
       "CIVIL SIDEWALKS, CITATION                             0.012756\n",
       "PROPERTY FOR IDENTIFICATION                           0.011652\n",
       "AIDED CASE, INJURED PERSON                            0.011279\n",
       "COURTESY REPORT                                       0.010347\n",
       "DEATH REPORT, NATURAL CAUSES                          0.009810\n",
       "CIVIL SIDEWALKS, WARNING                              0.009722\n",
       "AIDED CASE -PROPERTY FOR DESTRUCTION                  0.009722\n",
       "FIRE REPORT                                           0.008509\n",
       "SEARCH WARRANT SERVICE                                0.008111\n",
       "LOCATED PROPERTY                                      0.007238\n",
       "TARASOFF REPORT                                       0.006688\n",
       "TURNED IN GUN                                         0.005388\n",
       "TRAFFIC ACCIDENT                                      0.005195\n",
       "LICENSE PLATE, RECOVERED                              0.003965\n",
       "IMPOUNDED VEHICLE                                     0.003323\n",
       "SHELTER                                               0.003231\n",
       "AIDED CASE, SICK PERSON                               0.002396\n",
       "LICENSE PLATE, FOUND                                  0.001494\n",
       "MISPLACED VEHICLE                                     0.000554\n",
       "CIVIL SIDEWALKS, BOOKING                              0.000550\n",
       "CIVIL SIDEWALKS, VIOLATION                            0.000382\n",
       "TRUANT, HABITUAL                                      0.000277\n",
       "DEATH, ACCIDENTAL                                     0.000168\n",
       "DEATH, NON-MANSLAUGHTER AUTO ACCIDENT                 0.000130\n",
       "DEMONSTRATION, VIDEO EVIDENCE, MISC. INVESTIGATION    0.000113\n",
       "ACCIDENTAL SHOOTING                                   0.000109\n",
       "AUTO IMPOUNDED                                        0.000101\n",
       "YOUTH COURT                                           0.000092\n",
       "MEGAN'S LAW NOTIFICATION                              0.000076\n",
       "DEATH REPORT, IN CUSTODY                              0.000059\n",
       "ACCIDENTAL BURNS                                      0.000038\n",
       "ACCIDENTAL LACERATIONS                                0.000004\n",
       "Name: Descript, dtype: float64"
      ]
     },
     "execution_count": 234,
     "metadata": {},
     "output_type": "execute_result"
    }
   ],
   "source": [
    "non_criminals['Descript'].value_counts(1)"
   ]
  },
  {
   "cell_type": "code",
   "execution_count": 237,
   "metadata": {},
   "outputs": [],
   "source": [
    "top_non_criminals_types = list((non_criminals['Descript'].value_counts(1)[:5]).index)"
   ]
  },
  {
   "cell_type": "code",
   "execution_count": 238,
   "metadata": {},
   "outputs": [],
   "source": [
    "non_criminals_major = non_criminals[non_criminals['Descript'].apply(lambda x: x in top_non_criminals_types)]"
   ]
  },
  {
   "cell_type": "code",
   "execution_count": 241,
   "metadata": {},
   "outputs": [
    {
     "data": {
      "text/plain": [
       "0.8083021781363947"
      ]
     },
     "execution_count": 241,
     "metadata": {},
     "output_type": "execute_result"
    }
   ],
   "source": [
    "non_criminals_major.shape[0]/non_criminals.shape[0]"
   ]
  },
  {
   "cell_type": "code",
   "execution_count": 243,
   "metadata": {},
   "outputs": [
    {
     "data": {
      "text/plain": [
       "<matplotlib.axes._subplots.AxesSubplot at 0x1a301de590>"
      ]
     },
     "execution_count": 243,
     "metadata": {},
     "output_type": "execute_result"
    },
    {
     "data": {
      "image/png": "[encoded data removed]",
      "text/plain": [
       "<Figure size 576x360 with 2 Axes>"
      ]
     },
     "metadata": {
      "needs_background": "light"
     },
     "output_type": "display_data"
    }
   ],
   "source": [
    "sns.heatmap(non_criminals_major.groupby(['Descript','Resolution']).apply(count_rows).unstack())"
   ]
  },
  {
   "cell_type": "code",
   "execution_count": 228,
   "metadata": {},
   "outputs": [
    {
     "data": {
      "text/plain": [
       "NONE                                      0.775662\n",
       "PSYCHOPATHIC CASE                         0.113447\n",
       "ARREST, BOOKED                            0.041989\n",
       "UNFOUNDED                                 0.031067\n",
       "ARREST, CITED                             0.013557\n",
       "COMPLAINANT REFUSES TO PROSECUTE          0.006021\n",
       "EXCEPTIONAL CLEARANCE                     0.003974\n",
       "LOCATED                                   0.003739\n",
       "NOT PROSECUTED                            0.003382\n",
       "PROSECUTED BY OUTSIDE AGENCY              0.002006\n",
       "DISTRICT ATTORNEY REFUSES TO PROSECUTE    0.001997\n",
       "JUVENILE BOOKED                           0.001217\n",
       "JUVENILE DIVERTED                         0.000843\n",
       "JUVENILE ADMONISHED                       0.000449\n",
       "CLEARED-CONTACT JUVENILE FOR MORE INFO    0.000340\n",
       "JUVENILE CITED                            0.000290\n",
       "PROSECUTED FOR LESSER OFFENSE             0.000021\n",
       "Name: Resolution, dtype: float64"
      ]
     },
     "execution_count": 228,
     "metadata": {},
     "output_type": "execute_result"
    }
   ],
   "source": [
    "non_criminals['Resolution'].value_counts(1)"
   ]
  },
  {
   "cell_type": "code",
   "execution_count": 181,
   "metadata": {},
   "outputs": [
    {
     "data": {
      "text/plain": [
       "NONE                                      0.627307\n",
       "ARREST, BOOKED                            0.237008\n",
       "ARREST, CITED                             0.069881\n",
       "LOCATED                                   0.015559\n",
       "PSYCHOPATHIC CASE                         0.013176\n",
       "UNFOUNDED                                 0.010744\n",
       "JUVENILE BOOKED                           0.006392\n",
       "COMPLAINANT REFUSES TO PROSECUTE          0.003652\n",
       "DISTRICT ATTORNEY REFUSES TO PROSECUTE    0.003591\n",
       "NOT PROSECUTED                            0.003485\n",
       "JUVENILE CITED                            0.002974\n",
       "PROSECUTED BY OUTSIDE AGENCY              0.002289\n",
       "EXCEPTIONAL CLEARANCE                     0.001922\n",
       "JUVENILE ADMONISHED                       0.001356\n",
       "JUVENILE DIVERTED                         0.000313\n",
       "CLEARED-CONTACT JUVENILE FOR MORE INFO    0.000311\n",
       "PROSECUTED FOR LESSER OFFENSE             0.000038\n",
       "Name: Resolution, dtype: float64"
      ]
     },
     "execution_count": 181,
     "metadata": {},
     "output_type": "execute_result"
    }
   ],
   "source": [
    "incidents['Resolution'].value_counts(1)"
   ]
  },
  {
   "cell_type": "code",
   "execution_count": null,
   "metadata": {},
   "outputs": [],
   "source": []
  },
  {
   "cell_type": "code",
   "execution_count": 247,
   "metadata": {},
   "outputs": [],
   "source": [
    "crimes = crimes.reset_index(drop=True)"
   ]
  },
  {
   "cell_type": "code",
   "execution_count": 248,
   "metadata": {},
   "outputs": [
    {
     "data": {
      "text/plain": [
       "Text(0.5, 1.0, \"Distribution of Day_of_week for SF crimes '03-'18\")"
      ]
     },
     "execution_count": 248,
     "metadata": {},
     "output_type": "execute_result"
    },
    {
     "data": {
      "image/png": "[encoded data removed]",
      "text/plain": [
       "<Figure size 576x360 with 1 Axes>"
      ]
     },
     "metadata": {
      "needs_background": "light"
     },
     "output_type": "display_data"
    }
   ],
   "source": [
    "figure = figsize(8,5)\n",
    "plt.bar(crimes['day_of_week_int'].value_counts().index,crimes['day_of_week_int'].value_counts());\n",
    "plt.title(\"Distribution of Day_of_week for SF crimes '03-'18\")"
   ]
  },
  {
   "cell_type": "code",
   "execution_count": 249,
   "metadata": {},
   "outputs": [
    {
     "data": {
      "text/plain": [
       "18    0.064833\n",
       "17    0.061682\n",
       "19    0.058310\n",
       "12    0.058218\n",
       "16    0.056214\n",
       "15    0.053557\n",
       "20    0.052959\n",
       "22    0.052583\n",
       "0     0.051753\n",
       "21    0.050283\n",
       "14    0.049787\n",
       "23    0.048348\n",
       "13    0.047970\n",
       "11    0.042893\n",
       "10    0.041765\n",
       "9     0.039338\n",
       "8     0.036495\n",
       "1     0.030010\n",
       "2     0.025285\n",
       "7     0.024609\n",
       "3     0.016433\n",
       "6     0.014828\n",
       "4     0.011642\n",
       "5     0.010204\n",
       "Name: hour, dtype: float64"
      ]
     },
     "execution_count": 249,
     "metadata": {},
     "output_type": "execute_result"
    }
   ],
   "source": [
    "crimes['hour'].value_counts(1)"
   ]
  },
  {
   "cell_type": "code",
   "execution_count": 250,
   "metadata": {},
   "outputs": [
    {
     "data": {
      "text/plain": [
       "Text(0.5, 1.0, \"Distribution of Hour_of_Day for SF crimes '03-'18\")"
      ]
     },
     "execution_count": 250,
     "metadata": {},
     "output_type": "execute_result"
    },
    {
     "data": {
      "image/png": "[encoded data removed]",
      "text/plain": [
       "<Figure size 576x360 with 1 Axes>"
      ]
     },
     "metadata": {
      "needs_background": "light"
     },
     "output_type": "display_data"
    }
   ],
   "source": [
    "plt.bar(crimes['hour'].value_counts().index,crimes['hour'].value_counts());\n",
    "plt.title(\"Distribution of Hour_of_Day for SF crimes '03-'18\")"
   ]
  },
  {
   "cell_type": "code",
   "execution_count": 206,
   "metadata": {},
   "outputs": [],
   "source": [
    "# hours_to_cat = {\"call_hour\":{1:\"late_night\",2:\"late_night\",3:\"late_night\",4:\"late_night\",5:\"late_night\",6:\"late_night\",\n",
    "#                                  7:\"day\",8:\"day\",9:\"day\",10:\"day\",11:\"day\",12:\"day\",13:\"day\",14:\"day\",15:\"day\",\n",
    "#                                   16:\"late_afternoon\",17:\"late_afternoon\",18:\"late_afternoon\",19:\"late_afternoon\",\n",
    "#                              20:\"evening\",21:\"evening\",22:\"evening\",23: \"evening\", 24: \"evening\"\n",
    "#                             }}"
   ]
  },
  {
   "cell_type": "code",
   "execution_count": 207,
   "metadata": {},
   "outputs": [],
   "source": [
    "# calls.replace(hours_to_cat, inplace=True);"
   ]
  },
  {
   "cell_type": "code",
   "execution_count": 251,
   "metadata": {},
   "outputs": [
    {
     "data": {
      "text/plain": [
       "IncidntNum         0\n",
       "Category           0\n",
       "Descript           0\n",
       "DayOfWeek          0\n",
       "Date               0\n",
       "Time               0\n",
       "PdDistrict         1\n",
       "Resolution         0\n",
       "Address            0\n",
       "X                  0\n",
       "Y                  0\n",
       "Location           0\n",
       "PdId               0\n",
       "year               0\n",
       "month              0\n",
       "day_of_month       0\n",
       "hour               0\n",
       "day_of_week_int    0\n",
       "dtype: int64"
      ]
     },
     "execution_count": 251,
     "metadata": {},
     "output_type": "execute_result"
    }
   ],
   "source": [
    "crimes.isnull().sum()"
   ]
  },
  {
   "cell_type": "code",
   "execution_count": 252,
   "metadata": {},
   "outputs": [
    {
     "data": {
      "text/plain": [
       "Text(0.5, 1.0, \"Count of SF crimes 03'Jan -18'May\")"
      ]
     },
     "execution_count": 252,
     "metadata": {},
     "output_type": "execute_result"
    },
    {
     "data": {
      "image/png": "[encoded data removed]",
      "text/plain": [
       "<Figure size 576x360 with 1 Axes>"
      ]
     },
     "metadata": {
      "needs_background": "light"
     },
     "output_type": "display_data"
    }
   ],
   "source": [
    "plt.bar(crimes['year'].value_counts().index,crimes['year'].value_counts())\n",
    "plt.title(\"Count of SF crimes 03'Jan -18'May\")"
   ]
  },
  {
   "cell_type": "code",
   "execution_count": 253,
   "metadata": {},
   "outputs": [
    {
     "data": {
      "text/plain": [
       "1     0.038332\n",
       "15    0.033897\n",
       "20    0.033338\n",
       "23    0.033185\n",
       "28    0.032929\n",
       "13    0.032835\n",
       "17    0.032829\n",
       "22    0.032778\n",
       "16    0.032773\n",
       "10    0.032758\n",
       "19    0.032758\n",
       "14    0.032704\n",
       "12    0.032663\n",
       "24    0.032661\n",
       "18    0.032653\n",
       "27    0.032647\n",
       "21    0.032627\n",
       "4     0.032557\n",
       "5     0.032546\n",
       "9     0.032523\n",
       "3     0.032510\n",
       "11    0.032502\n",
       "6     0.032404\n",
       "7     0.032386\n",
       "8     0.032348\n",
       "26    0.032338\n",
       "25    0.032273\n",
       "2     0.032105\n",
       "29    0.030766\n",
       "30    0.029559\n",
       "31    0.018816\n",
       "Name: day_of_month, dtype: float64"
      ]
     },
     "execution_count": 253,
     "metadata": {},
     "output_type": "execute_result"
    }
   ],
   "source": [
    "crimes['day_of_month'].value_counts(1)"
   ]
  },
  {
   "cell_type": "code",
   "execution_count": 254,
   "metadata": {},
   "outputs": [
    {
     "data": {
      "text/plain": [
       "Text(0.5, 1.0, \"Distribution of Day_of_Month for SF crimes 03'Jan -18'May\")"
      ]
     },
     "execution_count": 254,
     "metadata": {},
     "output_type": "execute_result"
    },
    {
     "data": {
      "image/png": "[encoded data removed]",
      "text/plain": [
       "<Figure size 576x360 with 1 Axes>"
      ]
     },
     "metadata": {
      "needs_background": "light"
     },
     "output_type": "display_data"
    }
   ],
   "source": [
    "plt.bar(crimes['day_of_month'].value_counts().index, crimes['day_of_month'].value_counts());\n",
    "plt.title(\"Distribution of Day_of_Month for SF crimes 03'Jan -18'May\")"
   ]
  },
  {
   "cell_type": "code",
   "execution_count": 255,
   "metadata": {},
   "outputs": [
    {
     "data": {
      "text/plain": [
       "1     0.089479\n",
       "3     0.089156\n",
       "10    0.086095\n",
       "4     0.085687\n",
       "5     0.084555\n",
       "8     0.084528\n",
       "9     0.082819\n",
       "7     0.081868\n",
       "2     0.080830\n",
       "11    0.079176\n",
       "6     0.078690\n",
       "12    0.077117\n",
       "Name: month, dtype: float64"
      ]
     },
     "execution_count": 255,
     "metadata": {},
     "output_type": "execute_result"
    }
   ],
   "source": [
    "crimes['month'].value_counts(1)"
   ]
  },
  {
   "cell_type": "code",
   "execution_count": 256,
   "metadata": {},
   "outputs": [
    {
     "data": {
      "text/plain": [
       "Text(0.5, 1.0, \"Distribution of Month_of_Year for SF crimes 03'Jan -18'May\")"
      ]
     },
     "execution_count": 256,
     "metadata": {},
     "output_type": "execute_result"
    },
    {
     "data": {
      "image/png": "[encoded data removed]",
      "text/plain": [
       "<Figure size 576x360 with 1 Axes>"
      ]
     },
     "metadata": {
      "needs_background": "light"
     },
     "output_type": "display_data"
    }
   ],
   "source": [
    "plt.bar(crimes['month'].value_counts().index,crimes['month'].value_counts());\n",
    "plt.title(\"Distribution of Month_of_Year for SF crimes 03'Jan -18'May\")"
   ]
  },
  {
   "cell_type": "code",
   "execution_count": 260,
   "metadata": {},
   "outputs": [
    {
     "data": {
      "text/plain": [
       "0.752742633939858"
      ]
     },
     "execution_count": 260,
     "metadata": {},
     "output_type": "execute_result"
    }
   ],
   "source": [
    "crimes[crimes['Category'] != \"OTHER OFFENSES\"].shape[0]/incidents.shape[0]"
   ]
  },
  {
   "cell_type": "code",
   "execution_count": 261,
   "metadata": {},
   "outputs": [],
   "source": [
    "crimes_ex_traffic = crimes[crimes['Category'] != \"OTHER OFFENSES\"]"
   ]
  },
  {
   "cell_type": "code",
   "execution_count": 263,
   "metadata": {},
   "outputs": [
    {
     "data": {
      "text/plain": [
       "LARCENY/THEFT                  0.288152\n",
       "ASSAULT                        0.116769\n",
       "VEHICLE THEFT                  0.075930\n",
       "DRUG/NARCOTIC                  0.071748\n",
       "VANDALISM                      0.069607\n",
       "WARRANTS                       0.060803\n",
       "BURGLARY                       0.054904\n",
       "SUSPICIOUS OCC                 0.048247\n",
       "MISSING PERSON                 0.038961\n",
       "ROBBERY                        0.033507\n",
       "FRAUD                          0.024915\n",
       "SECONDARY CODES                0.015492\n",
       "FORGERY/COUNTERFEITING         0.013824\n",
       "WEAPON LAWS                    0.013335\n",
       "TRESPASS                       0.011665\n",
       "PROSTITUTION                   0.010017\n",
       "STOLEN PROPERTY                0.007132\n",
       "SEX OFFENSES, FORCIBLE         0.007042\n",
       "DISORDERLY CONDUCT             0.006022\n",
       "DRUNKENNESS                    0.005893\n",
       "RECOVERED VEHICLE              0.005227\n",
       "DRIVING UNDER THE INFLUENCE    0.003402\n",
       "KIDNAPPING                     0.003206\n",
       "RUNAWAY                        0.002663\n",
       "LIQUOR LAWS                    0.002449\n",
       "ARSON                          0.002358\n",
       "EMBEZZLEMENT                   0.001792\n",
       "LOITERING                      0.001457\n",
       "SUICIDE                        0.000775\n",
       "FAMILY OFFENSES                0.000710\n",
       "BAD CHECKS                     0.000555\n",
       "BRIBERY                        0.000488\n",
       "EXTORTION                      0.000444\n",
       "SEX OFFENSES, NON FORCIBLE     0.000258\n",
       "GAMBLING                       0.000209\n",
       "PORNOGRAPHY/OBSCENE MAT        0.000035\n",
       "TREA                           0.000008\n",
       "Name: Category, dtype: float64"
      ]
     },
     "execution_count": 263,
     "metadata": {},
     "output_type": "execute_result"
    }
   ],
   "source": [
    "crimes_ex_traffic['Category'].values_counts()"
   ]
  },
  {
   "cell_type": "code",
   "execution_count": 283,
   "metadata": {},
   "outputs": [],
   "source": [
    "f = crimes_ex_traffic.groupby(['year','Category']).apply(count_rows).unstack()"
   ]
  },
  {
   "cell_type": "code",
   "execution_count": 284,
   "metadata": {},
   "outputs": [],
   "source": [
    "f.reset_index(inplace=True)"
   ]
  },
  {
   "cell_type": "code",
   "execution_count": 285,
   "metadata": {},
   "outputs": [
    {
     "data": {
      "text/html": [
       "<div>\n",
       "<style scoped>\n",
       "    .dataframe tbody tr th:only-of-type {\n",
       "        vertical-align: middle;\n",
       "    }\n",
       "\n",
       "    .dataframe tbody tr th {\n",
       "        vertical-align: top;\n",
       "    }\n",
       "\n",
       "    .dataframe thead th {\n",
       "        text-align: right;\n",
       "    }\n",
       "</style>\n",
       "<table border=\"1\" class=\"dataframe\">\n",
       "  <thead>\n",
       "    <tr style=\"text-align: right;\">\n",
       "      <th>Category</th>\n",
       "      <th>year</th>\n",
       "      <th>ARSON</th>\n",
       "      <th>ASSAULT</th>\n",
       "      <th>BAD CHECKS</th>\n",
       "      <th>BRIBERY</th>\n",
       "      <th>BURGLARY</th>\n",
       "      <th>DISORDERLY CONDUCT</th>\n",
       "      <th>DRIVING UNDER THE INFLUENCE</th>\n",
       "      <th>DRUG/NARCOTIC</th>\n",
       "      <th>DRUNKENNESS</th>\n",
       "      <th>...</th>\n",
       "      <th>SEX OFFENSES, NON FORCIBLE</th>\n",
       "      <th>STOLEN PROPERTY</th>\n",
       "      <th>SUICIDE</th>\n",
       "      <th>SUSPICIOUS OCC</th>\n",
       "      <th>TREA</th>\n",
       "      <th>TRESPASS</th>\n",
       "      <th>VANDALISM</th>\n",
       "      <th>VEHICLE THEFT</th>\n",
       "      <th>WARRANTS</th>\n",
       "      <th>WEAPON LAWS</th>\n",
       "    </tr>\n",
       "  </thead>\n",
       "  <tbody>\n",
       "    <tr>\n",
       "      <th>0</th>\n",
       "      <td>2003</td>\n",
       "      <td>293.0</td>\n",
       "      <td>13461.0</td>\n",
       "      <td>134.0</td>\n",
       "      <td>28.0</td>\n",
       "      <td>6047.0</td>\n",
       "      <td>886.0</td>\n",
       "      <td>289.0</td>\n",
       "      <td>9917.0</td>\n",
       "      <td>662.0</td>\n",
       "      <td>...</td>\n",
       "      <td>28.0</td>\n",
       "      <td>800.0</td>\n",
       "      <td>93.0</td>\n",
       "      <td>4196.0</td>\n",
       "      <td>NaN</td>\n",
       "      <td>1434.0</td>\n",
       "      <td>6448.0</td>\n",
       "      <td>15325.0</td>\n",
       "      <td>9079.0</td>\n",
       "      <td>1281.0</td>\n",
       "    </tr>\n",
       "    <tr>\n",
       "      <th>1</th>\n",
       "      <td>2004</td>\n",
       "      <td>280.0</td>\n",
       "      <td>12899.0</td>\n",
       "      <td>79.0</td>\n",
       "      <td>39.0</td>\n",
       "      <td>6753.0</td>\n",
       "      <td>814.0</td>\n",
       "      <td>244.0</td>\n",
       "      <td>9897.0</td>\n",
       "      <td>600.0</td>\n",
       "      <td>...</td>\n",
       "      <td>31.0</td>\n",
       "      <td>641.0</td>\n",
       "      <td>102.0</td>\n",
       "      <td>4489.0</td>\n",
       "      <td>NaN</td>\n",
       "      <td>1191.0</td>\n",
       "      <td>6496.0</td>\n",
       "      <td>17884.0</td>\n",
       "      <td>8114.0</td>\n",
       "      <td>1252.0</td>\n",
       "    </tr>\n",
       "    <tr>\n",
       "      <th>2</th>\n",
       "      <td>2005</td>\n",
       "      <td>231.0</td>\n",
       "      <td>11601.0</td>\n",
       "      <td>101.0</td>\n",
       "      <td>38.0</td>\n",
       "      <td>7071.0</td>\n",
       "      <td>687.0</td>\n",
       "      <td>196.0</td>\n",
       "      <td>8533.0</td>\n",
       "      <td>636.0</td>\n",
       "      <td>...</td>\n",
       "      <td>24.0</td>\n",
       "      <td>540.0</td>\n",
       "      <td>79.0</td>\n",
       "      <td>4693.0</td>\n",
       "      <td>NaN</td>\n",
       "      <td>1034.0</td>\n",
       "      <td>7013.0</td>\n",
       "      <td>18194.0</td>\n",
       "      <td>6708.0</td>\n",
       "      <td>1341.0</td>\n",
       "    </tr>\n",
       "    <tr>\n",
       "      <th>3</th>\n",
       "      <td>2006</td>\n",
       "      <td>240.0</td>\n",
       "      <td>12449.0</td>\n",
       "      <td>87.0</td>\n",
       "      <td>36.0</td>\n",
       "      <td>7004.0</td>\n",
       "      <td>521.0</td>\n",
       "      <td>266.0</td>\n",
       "      <td>9069.0</td>\n",
       "      <td>703.0</td>\n",
       "      <td>...</td>\n",
       "      <td>29.0</td>\n",
       "      <td>575.0</td>\n",
       "      <td>86.0</td>\n",
       "      <td>4775.0</td>\n",
       "      <td>NaN</td>\n",
       "      <td>1102.0</td>\n",
       "      <td>7688.0</td>\n",
       "      <td>7291.0</td>\n",
       "      <td>6498.0</td>\n",
       "      <td>1324.0</td>\n",
       "    </tr>\n",
       "    <tr>\n",
       "      <th>4</th>\n",
       "      <td>2007</td>\n",
       "      <td>246.0</td>\n",
       "      <td>12518.0</td>\n",
       "      <td>69.0</td>\n",
       "      <td>56.0</td>\n",
       "      <td>5454.0</td>\n",
       "      <td>581.0</td>\n",
       "      <td>313.0</td>\n",
       "      <td>10560.0</td>\n",
       "      <td>671.0</td>\n",
       "      <td>...</td>\n",
       "      <td>39.0</td>\n",
       "      <td>527.0</td>\n",
       "      <td>111.0</td>\n",
       "      <td>4800.0</td>\n",
       "      <td>NaN</td>\n",
       "      <td>1198.0</td>\n",
       "      <td>7566.0</td>\n",
       "      <td>6460.0</td>\n",
       "      <td>7105.0</td>\n",
       "      <td>1318.0</td>\n",
       "    </tr>\n",
       "    <tr>\n",
       "      <th>5</th>\n",
       "      <td>2008</td>\n",
       "      <td>248.0</td>\n",
       "      <td>12681.0</td>\n",
       "      <td>78.0</td>\n",
       "      <td>49.0</td>\n",
       "      <td>5679.0</td>\n",
       "      <td>789.0</td>\n",
       "      <td>408.0</td>\n",
       "      <td>11648.0</td>\n",
       "      <td>710.0</td>\n",
       "      <td>...</td>\n",
       "      <td>20.0</td>\n",
       "      <td>518.0</td>\n",
       "      <td>100.0</td>\n",
       "      <td>4751.0</td>\n",
       "      <td>NaN</td>\n",
       "      <td>1151.0</td>\n",
       "      <td>7342.0</td>\n",
       "      <td>6053.0</td>\n",
       "      <td>5798.0</td>\n",
       "      <td>1419.0</td>\n",
       "    </tr>\n",
       "    <tr>\n",
       "      <th>6</th>\n",
       "      <td>2009</td>\n",
       "      <td>222.0</td>\n",
       "      <td>12284.0</td>\n",
       "      <td>64.0</td>\n",
       "      <td>46.0</td>\n",
       "      <td>5379.0</td>\n",
       "      <td>956.0</td>\n",
       "      <td>579.0</td>\n",
       "      <td>11950.0</td>\n",
       "      <td>804.0</td>\n",
       "      <td>...</td>\n",
       "      <td>17.0</td>\n",
       "      <td>660.0</td>\n",
       "      <td>83.0</td>\n",
       "      <td>4627.0</td>\n",
       "      <td>NaN</td>\n",
       "      <td>1232.0</td>\n",
       "      <td>7604.0</td>\n",
       "      <td>5183.0</td>\n",
       "      <td>5764.0</td>\n",
       "      <td>1433.0</td>\n",
       "    </tr>\n",
       "    <tr>\n",
       "      <th>7</th>\n",
       "      <td>2010</td>\n",
       "      <td>209.0</td>\n",
       "      <td>12387.0</td>\n",
       "      <td>54.0</td>\n",
       "      <td>61.0</td>\n",
       "      <td>4966.0</td>\n",
       "      <td>827.0</td>\n",
       "      <td>458.0</td>\n",
       "      <td>9205.0</td>\n",
       "      <td>706.0</td>\n",
       "      <td>...</td>\n",
       "      <td>30.0</td>\n",
       "      <td>680.0</td>\n",
       "      <td>82.0</td>\n",
       "      <td>6004.0</td>\n",
       "      <td>2.0</td>\n",
       "      <td>1150.0</td>\n",
       "      <td>7934.0</td>\n",
       "      <td>4346.0</td>\n",
       "      <td>6187.0</td>\n",
       "      <td>1349.0</td>\n",
       "    </tr>\n",
       "    <tr>\n",
       "      <th>8</th>\n",
       "      <td>2011</td>\n",
       "      <td>203.0</td>\n",
       "      <td>12279.0</td>\n",
       "      <td>45.0</td>\n",
       "      <td>47.0</td>\n",
       "      <td>4987.0</td>\n",
       "      <td>762.0</td>\n",
       "      <td>470.0</td>\n",
       "      <td>6935.0</td>\n",
       "      <td>652.0</td>\n",
       "      <td>...</td>\n",
       "      <td>29.0</td>\n",
       "      <td>785.0</td>\n",
       "      <td>76.0</td>\n",
       "      <td>6207.0</td>\n",
       "      <td>NaN</td>\n",
       "      <td>1072.0</td>\n",
       "      <td>7243.0</td>\n",
       "      <td>4762.0</td>\n",
       "      <td>6311.0</td>\n",
       "      <td>1329.0</td>\n",
       "    </tr>\n",
       "    <tr>\n",
       "      <th>9</th>\n",
       "      <td>2012</td>\n",
       "      <td>237.0</td>\n",
       "      <td>12181.0</td>\n",
       "      <td>49.0</td>\n",
       "      <td>64.0</td>\n",
       "      <td>6243.0</td>\n",
       "      <td>704.0</td>\n",
       "      <td>421.0</td>\n",
       "      <td>6444.0</td>\n",
       "      <td>644.0</td>\n",
       "      <td>...</td>\n",
       "      <td>28.0</td>\n",
       "      <td>932.0</td>\n",
       "      <td>86.0</td>\n",
       "      <td>5860.0</td>\n",
       "      <td>2.0</td>\n",
       "      <td>1288.0</td>\n",
       "      <td>7808.0</td>\n",
       "      <td>6183.0</td>\n",
       "      <td>6300.0</td>\n",
       "      <td>1455.0</td>\n",
       "    </tr>\n",
       "    <tr>\n",
       "      <th>10</th>\n",
       "      <td>2013</td>\n",
       "      <td>248.0</td>\n",
       "      <td>12580.0</td>\n",
       "      <td>26.0</td>\n",
       "      <td>69.0</td>\n",
       "      <td>6195.0</td>\n",
       "      <td>464.0</td>\n",
       "      <td>448.0</td>\n",
       "      <td>6775.0</td>\n",
       "      <td>954.0</td>\n",
       "      <td>...</td>\n",
       "      <td>18.0</td>\n",
       "      <td>1224.0</td>\n",
       "      <td>73.0</td>\n",
       "      <td>5677.0</td>\n",
       "      <td>4.0</td>\n",
       "      <td>1129.0</td>\n",
       "      <td>6921.0</td>\n",
       "      <td>6241.0</td>\n",
       "      <td>7362.0</td>\n",
       "      <td>1535.0</td>\n",
       "    </tr>\n",
       "    <tr>\n",
       "      <th>11</th>\n",
       "      <td>2014</td>\n",
       "      <td>253.0</td>\n",
       "      <td>12402.0</td>\n",
       "      <td>34.0</td>\n",
       "      <td>56.0</td>\n",
       "      <td>6066.0</td>\n",
       "      <td>345.0</td>\n",
       "      <td>381.0</td>\n",
       "      <td>5408.0</td>\n",
       "      <td>620.0</td>\n",
       "      <td>...</td>\n",
       "      <td>20.0</td>\n",
       "      <td>1084.0</td>\n",
       "      <td>70.0</td>\n",
       "      <td>5230.0</td>\n",
       "      <td>1.0</td>\n",
       "      <td>1125.0</td>\n",
       "      <td>7165.0</td>\n",
       "      <td>7108.0</td>\n",
       "      <td>6726.0</td>\n",
       "      <td>1580.0</td>\n",
       "    </tr>\n",
       "    <tr>\n",
       "      <th>12</th>\n",
       "      <td>2015</td>\n",
       "      <td>311.0</td>\n",
       "      <td>13115.0</td>\n",
       "      <td>38.0</td>\n",
       "      <td>73.0</td>\n",
       "      <td>5931.0</td>\n",
       "      <td>551.0</td>\n",
       "      <td>430.0</td>\n",
       "      <td>4251.0</td>\n",
       "      <td>576.0</td>\n",
       "      <td>...</td>\n",
       "      <td>22.0</td>\n",
       "      <td>959.0</td>\n",
       "      <td>80.0</td>\n",
       "      <td>5500.0</td>\n",
       "      <td>1.0</td>\n",
       "      <td>1403.0</td>\n",
       "      <td>7675.0</td>\n",
       "      <td>7943.0</td>\n",
       "      <td>6815.0</td>\n",
       "      <td>1650.0</td>\n",
       "    </tr>\n",
       "    <tr>\n",
       "      <th>13</th>\n",
       "      <td>2016</td>\n",
       "      <td>286.0</td>\n",
       "      <td>13603.0</td>\n",
       "      <td>34.0</td>\n",
       "      <td>67.0</td>\n",
       "      <td>5813.0</td>\n",
       "      <td>659.0</td>\n",
       "      <td>378.0</td>\n",
       "      <td>4246.0</td>\n",
       "      <td>465.0</td>\n",
       "      <td>...</td>\n",
       "      <td>41.0</td>\n",
       "      <td>883.0</td>\n",
       "      <td>69.0</td>\n",
       "      <td>5802.0</td>\n",
       "      <td>3.0</td>\n",
       "      <td>1813.0</td>\n",
       "      <td>8595.0</td>\n",
       "      <td>6422.0</td>\n",
       "      <td>5974.0</td>\n",
       "      <td>1659.0</td>\n",
       "    </tr>\n",
       "    <tr>\n",
       "      <th>14</th>\n",
       "      <td>2017</td>\n",
       "      <td>327.0</td>\n",
       "      <td>13655.0</td>\n",
       "      <td>24.0</td>\n",
       "      <td>67.0</td>\n",
       "      <td>5857.0</td>\n",
       "      <td>399.0</td>\n",
       "      <td>299.0</td>\n",
       "      <td>3308.0</td>\n",
       "      <td>339.0</td>\n",
       "      <td>...</td>\n",
       "      <td>44.0</td>\n",
       "      <td>820.0</td>\n",
       "      <td>84.0</td>\n",
       "      <td>6119.0</td>\n",
       "      <td>1.0</td>\n",
       "      <td>1613.0</td>\n",
       "      <td>9765.0</td>\n",
       "      <td>5732.0</td>\n",
       "      <td>5020.0</td>\n",
       "      <td>1690.0</td>\n",
       "    </tr>\n",
       "    <tr>\n",
       "      <th>15</th>\n",
       "      <td>2018</td>\n",
       "      <td>97.0</td>\n",
       "      <td>4599.0</td>\n",
       "      <td>9.0</td>\n",
       "      <td>17.0</td>\n",
       "      <td>2098.0</td>\n",
       "      <td>95.0</td>\n",
       "      <td>92.0</td>\n",
       "      <td>1482.0</td>\n",
       "      <td>84.0</td>\n",
       "      <td>...</td>\n",
       "      <td>11.0</td>\n",
       "      <td>263.0</td>\n",
       "      <td>18.0</td>\n",
       "      <td>1714.0</td>\n",
       "      <td>NaN</td>\n",
       "      <td>514.0</td>\n",
       "      <td>2796.0</td>\n",
       "      <td>1475.0</td>\n",
       "      <td>1618.0</td>\n",
       "      <td>619.0</td>\n",
       "    </tr>\n",
       "  </tbody>\n",
       "</table>\n",
       "<p>16 rows × 38 columns</p>\n",
       "</div>"
      ],
      "text/plain": [
       "Category  year  ARSON  ASSAULT  BAD CHECKS  BRIBERY  BURGLARY  \\\n",
       "0         2003  293.0  13461.0       134.0     28.0    6047.0   \n",
       "1         2004  280.0  12899.0        79.0     39.0    6753.0   \n",
       "2         2005  231.0  11601.0       101.0     38.0    7071.0   \n",
       "3         2006  240.0  12449.0        87.0     36.0    7004.0   \n",
       "4         2007  246.0  12518.0        69.0     56.0    5454.0   \n",
       "5         2008  248.0  12681.0        78.0     49.0    5679.0   \n",
       "6         2009  222.0  12284.0        64.0     46.0    5379.0   \n",
       "7         2010  209.0  12387.0        54.0     61.0    4966.0   \n",
       "8         2011  203.0  12279.0        45.0     47.0    4987.0   \n",
       "9         2012  237.0  12181.0        49.0     64.0    6243.0   \n",
       "10        2013  248.0  12580.0        26.0     69.0    6195.0   \n",
       "11        2014  253.0  12402.0        34.0     56.0    6066.0   \n",
       "12        2015  311.0  13115.0        38.0     73.0    5931.0   \n",
       "13        2016  286.0  13603.0        34.0     67.0    5813.0   \n",
       "14        2017  327.0  13655.0        24.0     67.0    5857.0   \n",
       "15        2018   97.0   4599.0         9.0     17.0    2098.0   \n",
       "\n",
       "Category  DISORDERLY CONDUCT  DRIVING UNDER THE INFLUENCE  DRUG/NARCOTIC  \\\n",
       "0                      886.0                        289.0         9917.0   \n",
       "1                      814.0                        244.0         9897.0   \n",
       "2                      687.0                        196.0         8533.0   \n",
       "3                      521.0                        266.0         9069.0   \n",
       "4                      581.0                        313.0        10560.0   \n",
       "5                      789.0                        408.0        11648.0   \n",
       "6                      956.0                        579.0        11950.0   \n",
       "7                      827.0                        458.0         9205.0   \n",
       "8                      762.0                        470.0         6935.0   \n",
       "9                      704.0                        421.0         6444.0   \n",
       "10                     464.0                        448.0         6775.0   \n",
       "11                     345.0                        381.0         5408.0   \n",
       "12                     551.0                        430.0         4251.0   \n",
       "13                     659.0                        378.0         4246.0   \n",
       "14                     399.0                        299.0         3308.0   \n",
       "15                      95.0                         92.0         1482.0   \n",
       "\n",
       "Category  DRUNKENNESS  ...  SEX OFFENSES, NON FORCIBLE  STOLEN PROPERTY  \\\n",
       "0               662.0  ...                        28.0            800.0   \n",
       "1               600.0  ...                        31.0            641.0   \n",
       "2               636.0  ...                        24.0            540.0   \n",
       "3               703.0  ...                        29.0            575.0   \n",
       "4               671.0  ...                        39.0            527.0   \n",
       "5               710.0  ...                        20.0            518.0   \n",
       "6               804.0  ...                        17.0            660.0   \n",
       "7               706.0  ...                        30.0            680.0   \n",
       "8               652.0  ...                        29.0            785.0   \n",
       "9               644.0  ...                        28.0            932.0   \n",
       "10              954.0  ...                        18.0           1224.0   \n",
       "11              620.0  ...                        20.0           1084.0   \n",
       "12              576.0  ...                        22.0            959.0   \n",
       "13              465.0  ...                        41.0            883.0   \n",
       "14              339.0  ...                        44.0            820.0   \n",
       "15               84.0  ...                        11.0            263.0   \n",
       "\n",
       "Category  SUICIDE  SUSPICIOUS OCC  TREA  TRESPASS  VANDALISM  VEHICLE THEFT  \\\n",
       "0            93.0          4196.0   NaN    1434.0     6448.0        15325.0   \n",
       "1           102.0          4489.0   NaN    1191.0     6496.0        17884.0   \n",
       "2            79.0          4693.0   NaN    1034.0     7013.0        18194.0   \n",
       "3            86.0          4775.0   NaN    1102.0     7688.0         7291.0   \n",
       "4           111.0          4800.0   NaN    1198.0     7566.0         6460.0   \n",
       "5           100.0          4751.0   NaN    1151.0     7342.0         6053.0   \n",
       "6            83.0          4627.0   NaN    1232.0     7604.0         5183.0   \n",
       "7            82.0          6004.0   2.0    1150.0     7934.0         4346.0   \n",
       "8            76.0          6207.0   NaN    1072.0     7243.0         4762.0   \n",
       "9            86.0          5860.0   2.0    1288.0     7808.0         6183.0   \n",
       "10           73.0          5677.0   4.0    1129.0     6921.0         6241.0   \n",
       "11           70.0          5230.0   1.0    1125.0     7165.0         7108.0   \n",
       "12           80.0          5500.0   1.0    1403.0     7675.0         7943.0   \n",
       "13           69.0          5802.0   3.0    1813.0     8595.0         6422.0   \n",
       "14           84.0          6119.0   1.0    1613.0     9765.0         5732.0   \n",
       "15           18.0          1714.0   NaN     514.0     2796.0         1475.0   \n",
       "\n",
       "Category  WARRANTS  WEAPON LAWS  \n",
       "0           9079.0       1281.0  \n",
       "1           8114.0       1252.0  \n",
       "2           6708.0       1341.0  \n",
       "3           6498.0       1324.0  \n",
       "4           7105.0       1318.0  \n",
       "5           5798.0       1419.0  \n",
       "6           5764.0       1433.0  \n",
       "7           6187.0       1349.0  \n",
       "8           6311.0       1329.0  \n",
       "9           6300.0       1455.0  \n",
       "10          7362.0       1535.0  \n",
       "11          6726.0       1580.0  \n",
       "12          6815.0       1650.0  \n",
       "13          5974.0       1659.0  \n",
       "14          5020.0       1690.0  \n",
       "15          1618.0        619.0  \n",
       "\n",
       "[16 rows x 38 columns]"
      ]
     },
     "execution_count": 285,
     "metadata": {},
     "output_type": "execute_result"
    }
   ],
   "source": [
    "f"
   ]
  },
  {
   "cell_type": "code",
   "execution_count": 286,
   "metadata": {},
   "outputs": [],
   "source": [
    "ten_top_crimes = crimes_ex_traffic['Category'].value_counts()[:10].index"
   ]
  },
  {
   "cell_type": "code",
   "execution_count": 287,
   "metadata": {},
   "outputs": [
    {
     "data": {
      "text/plain": [
       "Index(['LARCENY/THEFT', 'ASSAULT', 'VEHICLE THEFT', 'DRUG/NARCOTIC',\n",
       "       'VANDALISM', 'WARRANTS', 'BURGLARY', 'SUSPICIOUS OCC', 'MISSING PERSON',\n",
       "       'ROBBERY'],\n",
       "      dtype='object')"
      ]
     },
     "execution_count": 287,
     "metadata": {},
     "output_type": "execute_result"
    }
   ],
   "source": [
    "ten_top_crimes"
   ]
  },
  {
   "cell_type": "code",
   "execution_count": 288,
   "metadata": {},
   "outputs": [
    {
     "data": {
      "image/png": "[encoded data removed]",
      "text/plain": [
       "<Figure size 576x360 with 1 Axes>"
      ]
     },
     "metadata": {
      "needs_background": "light"
     },
     "output_type": "display_data"
    }
   ],
   "source": [
    "f.plot.bar(x='year',y=ten_top_crimes, stacked = True,alpha = 0.7)\n",
    "legend();"
   ]
  },
  {
   "cell_type": "code",
   "execution_count": 32,
   "metadata": {},
   "outputs": [],
   "source": [
    "calls.loc[calls['day_of_month'] <= 10, 'day_of_month_cat'] = 'beginning'"
   ]
  },
  {
   "cell_type": "code",
   "execution_count": 33,
   "metadata": {},
   "outputs": [],
   "source": [
    "mid_month = list(np.arange(10,21))"
   ]
  },
  {
   "cell_type": "code",
   "execution_count": 34,
   "metadata": {},
   "outputs": [],
   "source": [
    "calls.loc[calls['day_of_month'].isin(mid_month), 'day_of_month_cat'] = 'mid'"
   ]
  },
  {
   "cell_type": "code",
   "execution_count": null,
   "metadata": {},
   "outputs": [],
   "source": []
  },
  {
   "cell_type": "code",
   "execution_count": 35,
   "metadata": {},
   "outputs": [
    {
     "data": {
      "text/plain": [
       "[21, 22, 23, 24, 25, 26, 27, 28, 29, 30, 31]"
      ]
     },
     "execution_count": 35,
     "metadata": {},
     "output_type": "execute_result"
    }
   ],
   "source": [
    "end_month = list(np.arange(21,32))\n",
    "end_month"
   ]
  },
  {
   "cell_type": "code",
   "execution_count": 36,
   "metadata": {},
   "outputs": [],
   "source": [
    "calls.loc[calls['day_of_month'].isin(end_month), 'day_of_month_cat'] = 'end'"
   ]
  }
 ],
 "metadata": {
  "hide_input": false,
  "kernelspec": {
   "display_name": "Python 3",
   "language": "python",
   "name": "python3"
  },
  "language_info": {
   "codemirror_mode": {
    "name": "ipython",
    "version": 3
   },
   "file_extension": ".py",
   "mimetype": "text/x-python",
   "name": "python",
   "nbconvert_exporter": "python",
   "pygments_lexer": "ipython3",
   "version": "3.7.6"
  }
 },
 "nbformat": 4,
 "nbformat_minor": 4
}
